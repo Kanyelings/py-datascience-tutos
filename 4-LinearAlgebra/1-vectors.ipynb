{
 "cells": [
  {
   "cell_type": "markdown",
   "id": "82ccf02c-a14d-4f48-8ece-15c621a8af47",
   "metadata": {},
   "source": [
    "The simplest form of vectors is as a list of numbers. A list of numbers corresponds to a vector in 3D space. Example below:"
   ]
  },
  {
   "cell_type": "code",
   "execution_count": 1,
   "id": "cdf66c80-785b-4a5f-922a-214dc1cbe333",
   "metadata": {},
   "outputs": [],
   "source": [
    "height_weight_age = [70, 170, 40]\n",
    "grades = [95,60,75,62]"
   ]
  },
  {
   "cell_type": "markdown",
   "id": "3e6270ad-40c8-4fa4-afc6-b016506b76ee",
   "metadata": {},
   "source": [
    "The problem with the list approach is that we may want to perform arithmetic operations on vectors.\n",
    "Python lists are not vectors and we will need to build these arithmetic tools ourselves."
   ]
  },
  {
   "cell_type": "code",
   "execution_count": 23,
   "id": "31eb4106-97a1-46ab-9760-aaf200a9adc6",
   "metadata": {},
   "outputs": [
    {
     "name": "stdout",
     "output_type": "stream",
     "text": [
      "[4, 6]\n"
     ]
    }
   ],
   "source": [
    "# This can be implemented by zipping the vectors together \n",
    "# and using a list comprehension to add the corresponding elements\n",
    "\n",
    "def vector_add(v,w):\n",
    "    # adds corresponding elements\n",
    "    return [v_i + w_i \n",
    "            for v_i, w_i in zip(v,w)]\n",
    "print(vector_add([1,2],[3,4]))"
   ]
  },
  {
   "cell_type": "code",
   "execution_count": 24,
   "id": "e24f4f0a-ed6d-49db-9323-755778d8cdf2",
   "metadata": {},
   "outputs": [
    {
     "name": "stdout",
     "output_type": "stream",
     "text": [
      "[-2, -2]\n"
     ]
    }
   ],
   "source": [
    "# similarly, to subtract two vectors, we just subtract corresponding elements\n",
    "\n",
    "def vector_subtract(v, w):\n",
    "    return [v_i - w_i\n",
    "            for (v_i, w_i) in zip(v,w)]\n",
    "print(vector_subtract([1,2],[3,4]))"
   ]
  },
  {
   "cell_type": "code",
   "execution_count": 28,
   "id": "3211940c-e3ee-4b6d-a009-092586d41cb4",
   "metadata": {},
   "outputs": [
    {
     "name": "stdout",
     "output_type": "stream",
     "text": [
      "[11, 13, 9, 14]\n"
     ]
    }
   ],
   "source": [
    "# we also want to component wise sum a list of vectors\n",
    "\n",
    "def vector_sum(vectors):\n",
    "    vector_result = vectors[0]\n",
    "    for vector in vectors[1:]:\n",
    "        vector_result = vector_add(vector_result, vector)\n",
    "    return vector_result\n",
    "v1 = [1,2,3,4]\n",
    "v2 = [5,2,6,8]\n",
    "v3 = [5,9,0,2]\n",
    "print(vector_sum([v1,v2,v3]))"
   ]
  },
  {
   "cell_type": "code",
   "execution_count": 30,
   "id": "30df67d0-9e9c-48a4-9139-4b647d4c44dc",
   "metadata": {},
   "outputs": [
    {
     "name": "stdout",
     "output_type": "stream",
     "text": [
      "[4, 8]\n"
     ]
    }
   ],
   "source": [
    "# we will also need to be able to multiply a vector by a scalar, which we do simply by multiplying each element of the vector by that number\n",
    "def scalar_multiple(vector, k):\n",
    "    return [k * x for x in vector]\n",
    "print(scalar_multiple([1,2], 4))"
   ]
  },
  {
   "cell_type": "code",
   "execution_count": 46,
   "id": "e8e26c2d-1a77-4d7a-9cb3-37860d5e9925",
   "metadata": {},
   "outputs": [
    {
     "name": "stdout",
     "output_type": "stream",
     "text": [
      "28\n"
     ]
    }
   ],
   "source": [
    "# the dot product of two vector is the sum of their componentwise product\n",
    "\n",
    "def dot_product(v, w):\n",
    "    return sum([v_i * w_i\n",
    "           for (v_i, w_i) in zip(v,w)])\n",
    "print(dot_product([2,3],[5,6]))"
   ]
  },
  {
   "cell_type": "code",
   "execution_count": 42,
   "id": "050e4e91-6211-4278-a59d-c0b34d955936",
   "metadata": {},
   "outputs": [
    {
     "name": "stdout",
     "output_type": "stream",
     "text": [
      "[9, 16]\n"
     ]
    }
   ],
   "source": [
    "# using this, it is easy to compute a vector's sum of squares\n",
    "\n",
    "def sum_of_squares(v):\n",
    "    return dot_product(v,v)\n",
    "print(sum_of_squares([3,4]))"
   ]
  },
  {
   "cell_type": "code",
   "execution_count": 47,
   "id": "dbd451a2-5b5e-4c61-ba8d-a0fd68799ffd",
   "metadata": {},
   "outputs": [
    {
     "name": "stdout",
     "output_type": "stream",
     "text": [
      "5.0\n"
     ]
    }
   ],
   "source": [
    "# we can use the sum of squares to compute the vector's magnitude\n",
    "import math\n",
    "def magnitude(v):\n",
    "    return math.sqrt(sum_of_squares(v))\n",
    "print(magnitude([3,4]))"
   ]
  },
  {
   "cell_type": "code",
   "execution_count": 50,
   "id": "cc780910-ace8-4116-985e-4276e45c53d8",
   "metadata": {},
   "outputs": [
    {
     "name": "stdout",
     "output_type": "stream",
     "text": [
      "8\n"
     ]
    }
   ],
   "source": [
    "# we now have what is needed to compute the squared distance\n",
    "def squared_distance(v,w):\n",
    "    return sum_of_squares(vector_subtract(v,w))\n",
    "print(squared_distance([1,2],[3,4]))"
   ]
  },
  {
   "cell_type": "code",
   "execution_count": 51,
   "id": "d7baf74f-f7ac-4e0a-ba6b-c8d70a29b3a7",
   "metadata": {},
   "outputs": [
    {
     "name": "stdout",
     "output_type": "stream",
     "text": [
      "2.8284271247461903\n"
     ]
    }
   ],
   "source": [
    "# and finally, the distance between two vectors\n",
    "import math\n",
    "def distance(v,w):\n",
    "    return math.sqrt(squared_distance(v,w))\n",
    "print(distance([1,2],[3,4]))"
   ]
  },
  {
   "cell_type": "code",
   "execution_count": null,
   "id": "a4da815a-2b4c-4d8f-85b5-37a02cf364d5",
   "metadata": {},
   "outputs": [],
   "source": []
  }
 ],
 "metadata": {
  "kernelspec": {
   "display_name": "Python 3",
   "language": "python",
   "name": "python3"
  },
  "language_info": {
   "codemirror_mode": {
    "name": "ipython",
    "version": 3
   },
   "file_extension": ".py",
   "mimetype": "text/x-python",
   "name": "python",
   "nbconvert_exporter": "python",
   "pygments_lexer": "ipython3",
   "version": "3.9.2"
  }
 },
 "nbformat": 4,
 "nbformat_minor": 5
}
