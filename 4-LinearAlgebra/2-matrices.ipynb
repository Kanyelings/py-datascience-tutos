{
 "cells": [
  {
   "cell_type": "markdown",
   "id": "14b5e377-723a-4dfa-87af-1ebdcf1173b6",
   "metadata": {},
   "source": [
    "# Matrices\n",
    "A matrix is a two-dimensional collection of numbers.\n",
    "We will rep them as lists of lists, with each inner list having the same size and representing a row of the matrix."
   ]
  },
  {
   "cell_type": "code",
   "execution_count": 1,
   "id": "6a700f3e-b11d-4f54-a955-aab613799c9b",
   "metadata": {},
   "outputs": [],
   "source": [
    "A = [[1,2,3],\n",
    "     [4,5,6]]\n",
    "B = [\n",
    "    [1,2],\n",
    "    [3,4],\n",
    "    [5,6]]"
   ]
  },
  {
   "cell_type": "code",
   "execution_count": 3,
   "id": "e22cde21-6e28-4603-b2a8-6129f0ace9ec",
   "metadata": {},
   "outputs": [
    {
     "name": "stdout",
     "output_type": "stream",
     "text": [
      "(2, 3)\n",
      "(3, 2)\n"
     ]
    }
   ],
   "source": [
    "# given a list of lists rep. the matrix A has len(A) rows and len(A[0]) columns\n",
    "def shape(A):\n",
    "    num_rows = len(A)\n",
    "    num_cols = len(A[0]) if A else 0\n",
    "    return num_rows,num_cols\n",
    "print(shape(A))\n",
    "print(shape(B))"
   ]
  },
  {
   "cell_type": "code",
   "execution_count": 9,
   "id": "940e337e-6fdd-45a2-9351-1c8cd295efb0",
   "metadata": {},
   "outputs": [
    {
     "name": "stdout",
     "output_type": "stream",
     "text": [
      "[4, 5, 6]\n",
      "[2, 4, 6]\n"
     ]
    }
   ],
   "source": [
    "# getting a row in a matrix\n",
    "def get_row(A, i):\n",
    "    return A[i]\n",
    "print(get_row(A,1))\n",
    "\n",
    "# getting a column in a matrix\n",
    "def get_col(A, j):\n",
    "    return [A_i[j] for A_i in A]\n",
    "print(get_col(B,1))"
   ]
  },
  {
   "cell_type": "code",
   "execution_count": 17,
   "id": "ffbee6e5-12be-416c-b423-ab694345ba6f",
   "metadata": {},
   "outputs": [
    {
     "name": "stdout",
     "output_type": "stream",
     "text": [
      "[1, 0, 0, 0, 0]\n",
      "[0, 1, 0, 0, 0]\n",
      "[0, 0, 1, 0, 0]\n",
      "[0, 0, 0, 1, 0]\n",
      "[0, 0, 0, 0, 1]\n"
     ]
    }
   ],
   "source": [
    "# we also want to be able to create a matrix given its shape and a function for generating its elements. \n",
    "# we can do this using a nested list comprehension\n",
    "def make_matrix(num_rows, num_cols, entry_fn):\n",
    "    return [\n",
    "        [entry_fn(i,j) \n",
    "         for j in range(num_cols)]\n",
    "        for i in range(num_rows)\n",
    "    ]\n",
    "\n",
    "# given this function, you could make a 5x5 identity matrix with\n",
    "def is_diagonal(i, j):\n",
    "    return 1 if i==j else 0\n",
    "identity_matrix = make_matrix(5,5,is_diagonal)\n",
    "for m in identity_matrix: print(m)"
   ]
  },
  {
   "cell_type": "code",
   "execution_count": null,
   "id": "424cbaca-69ff-4dad-93ab-ff5acd749f26",
   "metadata": {},
   "outputs": [],
   "source": []
  }
 ],
 "metadata": {
  "kernelspec": {
   "display_name": "Python 3",
   "language": "python",
   "name": "python3"
  },
  "language_info": {
   "codemirror_mode": {
    "name": "ipython",
    "version": 3
   },
   "file_extension": ".py",
   "mimetype": "text/x-python",
   "name": "python",
   "nbconvert_exporter": "python",
   "pygments_lexer": "ipython3",
   "version": "3.9.2"
  }
 },
 "nbformat": 4,
 "nbformat_minor": 5
}
