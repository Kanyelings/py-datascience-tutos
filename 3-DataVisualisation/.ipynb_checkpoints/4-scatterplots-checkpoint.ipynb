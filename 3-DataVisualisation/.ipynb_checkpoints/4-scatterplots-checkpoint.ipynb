{
 "cells": [
  {
   "cell_type": "markdown",
   "id": "430bf1e4-8c68-4d93-a1eb-b71c41cf89f0",
   "metadata": {},
   "source": [
    "# Scatter plots\n",
    "This is the right choice for visualising the relationship between two paired sets of data.\n",
    "Our example below shows the relationship between the number of friends your users have and the number of minutes they spend on the site every day."
   ]
  },
  {
   "cell_type": "code",
   "execution_count": 1,
   "id": "7cfad760-4f50-40f8-b5fa-7155876fec7c",
   "metadata": {},
   "outputs": [],
   "source": [
    "# imports\n",
    "import matplotlib.pyplot as plt"
   ]
  },
  {
   "cell_type": "code",
   "execution_count": 2,
   "id": "29262066-8608-4ae8-8ad4-84c9bad8d487",
   "metadata": {},
   "outputs": [],
   "source": [
    "# vars\n",
    "friends = [70, 65, 72, 63, 71, 64, 60, 64, 67]\n",
    "minutes = [175, 170, 205, 120, 220, 130, 105, 145, 190]\n",
    "labels = ['a','b','c','d','e','f','g','h','i']"
   ]
  },
  {
   "cell_type": "code",
   "execution_count": 8,
   "id": "bb0c5029-97a1-4ac7-b00e-1d69eee9f048",
   "metadata": {},
   "outputs": [
    {
     "data": {
      "text/plain": [
       "<function matplotlib.pyplot.show(close=None, block=None)>"
      ]
     },
     "execution_count": 8,
     "metadata": {},
     "output_type": "execute_result"
    },
    {
     "data": {
      "image/png": "[encoded data removed]",
      "text/plain": [
       "<Figure size 432x288 with 1 Axes>"
      ]
     },
     "metadata": {
      "needs_background": "light"
     },
     "output_type": "display_data"
    }
   ],
   "source": [
    "# scatter\n",
    "plt.scatter(friends, minutes)\n",
    "\n",
    "# label each point\n",
    "for label, friend_count, minute_count in zip(labels,friends, minutes):\n",
    "    plt.annotate(label,\n",
    "                xy=(friend_count,minute_count), # put the label with its point\n",
    "                xytext=(5,-5),\n",
    "                textcoords='offset points')\n",
    "plt.title(\"Daily Minutes vs Number of Friends\")\n",
    "plt.xlabel(\"# of Friends\")\n",
    "plt.ylabel(\"Time spent on sites (min/Day)\")\n",
    "plt.savefig(\"/home/kanye/Development/JupyterLab/PythonDS/3-DataVisualisation/4-scatterplots-output.jpg\")\n",
    "plt.show"
   ]
  },
  {
   "cell_type": "markdown",
   "id": "4e8e1407-87df-419a-bc79-77ed14d87e91",
   "metadata": {},
   "source": [
    "### Scattering comparable variables\n",
    "If you are scattering comparable variables, you might get a misleading picture if you let matplotlib choose the scale.\n"
   ]
  }
 ],
 "metadata": {
  "kernelspec": {
   "display_name": "Python 3",
   "language": "python",
   "name": "python3"
  },
  "language_info": {
   "codemirror_mode": {
    "name": "ipython",
    "version": 3
   },
   "file_extension": ".py",
   "mimetype": "text/x-python",
   "name": "python",
   "nbconvert_exporter": "python",
   "pygments_lexer": "ipython3",
   "version": "3.9.2"
  }
 },
 "nbformat": 4,
 "nbformat_minor": 5
}
