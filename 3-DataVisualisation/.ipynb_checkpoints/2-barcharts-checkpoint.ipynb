{
 "cells": [
  {
   "cell_type": "markdown",
   "id": "2ed974af-911b-4d05-8fdf-b3855aa892b8",
   "metadata": {},
   "source": [
    "# Bar Chart\n",
    "A barchart is a good choice when you want to show how some quantity varies among some discrete set of items."
   ]
  },
  {
   "cell_type": "code",
   "execution_count": 33,
   "id": "b34bd668-4e50-49b1-832a-01b5e571ef4f",
   "metadata": {},
   "outputs": [],
   "source": [
    "# import pypplot module\n",
    "from matplotlib import pyplot as plt\n",
    "from collections import Counter"
   ]
  },
  {
   "cell_type": "code",
   "execution_count": 8,
   "id": "0dcbd9e5-e285-4794-a3e5-739eabff533f",
   "metadata": {},
   "outputs": [],
   "source": [
    "# decalaring vars\n",
    "movies = [\"Annie Hall\",\"Ben-Hur\",\"Cassablanca\",\"Ghandi\",\"West Side Story\"]\n",
    "num_oscars = [5,11,3,8,10]"
   ]
  },
  {
   "cell_type": "code",
   "execution_count": 25,
   "id": "e71d3dfd-75bf-4242-b584-c9b974c15b3a",
   "metadata": {},
   "outputs": [
    {
     "name": "stdout",
     "output_type": "stream",
     "text": [
      "[0.5, 1.5, 2.5, 3.5, 4.5]\n"
     ]
    }
   ],
   "source": [
    "# bars are by default 0.8 in width, so we will add 0.1 ro the left coordinates\n",
    "# so that each bar is centered\n",
    "xs = [i+0.5 for i, _ in enumerate(movies)]\n",
    "print(xs)"
   ]
  },
  {
   "cell_type": "code",
   "execution_count": 26,
   "id": "dffd7186-b3cb-462a-befd-4def6f960604",
   "metadata": {},
   "outputs": [
    {
     "data": {
      "text/plain": [
       "<BarContainer object of 5 artists>"
      ]
     },
     "execution_count": 26,
     "metadata": {},
     "output_type": "execute_result"
    },
    {
     "data": {
      "image/png": "[encoded data removed]",
      "text/plain": [
       "<Figure size 432x288 with 1 Axes>"
      ]
     },
     "metadata": {
      "needs_background": "light"
     },
     "output_type": "display_data"
    }
   ],
   "source": [
    "# plot bars with left x-coordinates [xs], heights [num_oscars]\n",
    "plt.title(\"My Favorite Movies\")\n",
    "plt.ylabel(\"# of Academy Awards\")\n",
    "plt.bar(xs, num_oscars)"
   ]
  },
  {
   "cell_type": "code",
   "execution_count": 27,
   "id": "3706f4f9-caa7-46d3-aa31-435ea96b113b",
   "metadata": {},
   "outputs": [
    {
     "data": {
      "image/png": "[encoded data removed]",
      "text/plain": [
       "<Figure size 432x288 with 1 Axes>"
      ]
     },
     "metadata": {
      "needs_background": "light"
     },
     "output_type": "display_data"
    }
   ],
   "source": [
    "# label x-axis with movie names at bar centers\n",
    "plt.bar(xs, num_oscars)\n",
    "plt.xticks([i+0.5 for i,_ in enumerate(movies)], movies)\n",
    "plt.show()"
   ]
  },
  {
   "cell_type": "markdown",
   "id": "0be3125f-8622-4a43-a61e-e6f45c5fcb57",
   "metadata": {},
   "source": [
    "## Histograms\n",
    "A bar chart can also be a good choice for plotting histograms of bucketed numeric values, in order to visually explore how the values are distributed."
   ]
  },
  {
   "cell_type": "code",
   "execution_count": 37,
   "id": "a92f2a7e-3958-4bf1-8861-2ebc9a0d3803",
   "metadata": {},
   "outputs": [
    {
     "name": "stdout",
     "output_type": "stream",
     "text": [
      "Counter({80: 4, 70: 3, 90: 2, 0: 2, 100: 1, 60: 1})\n"
     ]
    }
   ],
   "source": [
    "# declare vars\n",
    "grades = [83,95,91,87,78,8,85,82,100,67,73,77,0]\n",
    "decile = lambda grade: grade//10*10\n",
    "histogram = Counter(decile(grade) for grade in grades)\n",
    "print(histogram)"
   ]
  },
  {
   "cell_type": "code",
   "execution_count": 38,
   "id": "3a0109b3-f24a-4475-810e-5211d17c3905",
   "metadata": {},
   "outputs": [
    {
     "data": {
      "text/plain": [
       "<BarContainer object of 6 artists>"
      ]
     },
     "execution_count": 38,
     "metadata": {},
     "output_type": "execute_result"
    },
    {
     "data": {
      "image/png": "[encoded data removed]",
      "text/plain": [
       "<Figure size 432x288 with 1 Axes>"
      ]
     },
     "metadata": {
      "needs_background": "light"
     },
     "output_type": "display_data"
    }
   ],
   "source": [
    "plt.bar([x-4 for x in histogram.keys()], # shift each bar to the left by 4\n",
    "       histogram.values(),               # give each bar its correct height\n",
    "       8)                                # give each bar a width of 8\n",
    "plt.axis([-5,105,0,5])\n"
   ]
  },
  {
   "cell_type": "code",
   "execution_count": null,
   "id": "f3cb6061-5f37-4eeb-bc93-f8f06f6d837d",
   "metadata": {},
   "outputs": [],
   "source": []
  }
 ],
 "metadata": {
  "kernelspec": {
   "display_name": "Python 3",
   "language": "python",
   "name": "python3"
  },
  "language_info": {
   "codemirror_mode": {
    "name": "ipython",
    "version": 3
   },
   "file_extension": ".py",
   "mimetype": "text/x-python",
   "name": "python",
   "nbconvert_exporter": "python",
   "pygments_lexer": "ipython3",
   "version": "3.9.2"
  }
 },
 "nbformat": 4,
 "nbformat_minor": 5
}
