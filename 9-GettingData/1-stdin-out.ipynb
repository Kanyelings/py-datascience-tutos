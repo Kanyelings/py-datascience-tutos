{
 "cells": [
  {
   "cell_type": "markdown",
   "id": "9afcfdc6-70f3-4054-be61-b44894e0f78e",
   "metadata": {},
   "source": [
    "# stdin and stdout\n",
    "If you run scripts at the command line, you can pipe data through them using sys.stdin and sys.stdout."
   ]
  },
  {
   "cell_type": "code",
   "execution_count": 1,
   "id": "865d826b-eaf1-4e46-9c3e-8c598308a2bb",
   "metadata": {},
   "outputs": [],
   "source": [
    "## kanyegrep.py\n",
    "# imports\n",
    "import sys, re"
   ]
  },
  {
   "cell_type": "code",
   "execution_count": 2,
   "id": "3029764e-20b4-46c5-9670-e476a653958e",
   "metadata": {},
   "outputs": [],
   "source": [
    "# sys.argv is the list of CL arguments\n",
    "# sys.arg[0] is the name of the program itself\n",
    "# sys.arg[1] will be the regex specified at the command line\n",
    "regex = sys.argv[1]\n",
    "\n",
    "# for every line passed into script\n",
    "for line in sys.stdin:\n",
    "    # if it matches the regex pat. write it out\n",
    "    if re.search(regex. line):\n",
    "        sys.stdout.write(line)"
   ]
  },
  {
   "cell_type": "code",
   "execution_count": null,
   "id": "771a343e-0518-403f-851a-2693d10268d0",
   "metadata": {},
   "outputs": [],
   "source": [
    "## line_count.py\n",
    "# here is one that counts lines it recieves and writes them out\n",
    "import sys\n",
    "\n",
    "count = 0\n",
    "for line in sys.stdin:\n",
    "    count += 1\n",
    "# print goes to stdout\n",
    "print(count)"
   ]
  }
 ],
 "metadata": {
  "kernelspec": {
   "display_name": "Python 3",
   "language": "python",
   "name": "python3"
  },
  "language_info": {
   "codemirror_mode": {
    "name": "ipython",
    "version": 3
   },
   "file_extension": ".py",
   "mimetype": "text/x-python",
   "name": "python",
   "nbconvert_exporter": "python",
   "pygments_lexer": "ipython3",
   "version": "3.9.2"
  }
 },
 "nbformat": 4,
 "nbformat_minor": 5
}
