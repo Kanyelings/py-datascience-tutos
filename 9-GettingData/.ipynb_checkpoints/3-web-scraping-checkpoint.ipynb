{
 "cells": [
  {
   "cell_type": "markdown",
   "id": "aa608005-f378-4ad6-999d-bc8c8752e2b9",
   "metadata": {},
   "source": [
    "# Webscraping\n",
    "For this, we will use BeautifulSoup, html5lib and requests libraries."
   ]
  },
  {
   "cell_type": "code",
   "execution_count": 1,
   "id": "666e4e1d-5442-49ee-ad4f-deb2e5dc4876",
   "metadata": {},
   "outputs": [],
   "source": [
    "# imports\n",
    "from bs4 import BeautifulSoup as bsoup\n",
    "import requests\n",
    "import html5lib"
   ]
  },
  {
   "cell_type": "code",
   "execution_count": 23,
   "id": "8483cdd0-f3c6-48be-bba1-802d897bd534",
   "metadata": {},
   "outputs": [],
   "source": [
    "# we need to pass some html to into the the bsoup function. \n",
    "# we obtain the html using requests.get\n",
    "html = requests.get(\"http://www.example.com/\").text\n",
    "soup = bsoup(html, 'html5lib')"
   ]
  },
  {
   "cell_type": "code",
   "execution_count": 19,
   "id": "ac9ccfea-2ace-4dbb-b5ec-5f1c08d295a5",
   "metadata": {},
   "outputs": [
    {
     "name": "stdout",
     "output_type": "stream",
     "text": [
      "This domain is for use in illustrative examples in documents. You may use this\n",
      "    domain in literature without prior coordination or asking for permission.\n"
     ]
    }
   ],
   "source": [
    "# we'll work with Tag objects which correspond to the tags repping the page structure.\n",
    "first_par = soup.find('p')\n",
    "#print(first_par)\n",
    "\n",
    "# you can find the contents of tag using its text property\n",
    "first_par_text = soup.find('p').text\n",
    "print(first_par_text)\n",
    "\n",
    "# you can get a tag's attributes by treating it like a dict"
   ]
  },
  {
   "cell_type": "code",
   "execution_count": 18,
   "id": "ea094f7e-6949-4af6-85c2-f6165477f5a6",
   "metadata": {},
   "outputs": [
    {
     "name": "stdout",
     "output_type": "stream",
     "text": [
      "[<p>This domain is for use in illustrative examples in documents. You may use this\n",
      "    domain in literature without prior coordination or asking for permission.</p>, <p><a href=\"https://www.iana.org/domains/example\">More information...</a></p>]\n",
      "[]\n"
     ]
    }
   ],
   "source": [
    "# you can get multiple tags at once\n",
    "all_pars = soup.find_all('p')\n",
    "par_with_ids = [p for p in all_pars if p.get('id')]\n",
    "print(all_pars)\n",
    "print(par_with_ids)"
   ]
  },
  {
   "cell_type": "code",
   "execution_count": 24,
   "id": "ba496423-6042-4019-94ba-bb30c096569c",
   "metadata": {},
   "outputs": [
    {
     "name": "stdout",
     "output_type": "stream",
     "text": [
      "[]\n"
     ]
    }
   ],
   "source": [
    "# for finding tags with a specific class\n",
    "imp_pars = soup('p', {\n",
    "    'class': 'important'\n",
    "})\n",
    "print(imp_pars)"
   ]
  },
  {
   "cell_type": "code",
   "execution_count": null,
   "id": "181361a9-cfc2-45b9-8496-f8d5269270d1",
   "metadata": {},
   "outputs": [],
   "source": []
  }
 ],
 "metadata": {
  "kernelspec": {
   "display_name": "Python 3",
   "language": "python",
   "name": "python3"
  },
  "language_info": {
   "codemirror_mode": {
    "name": "ipython",
    "version": 3
   },
   "file_extension": ".py",
   "mimetype": "text/x-python",
   "name": "python",
   "nbconvert_exporter": "python",
   "pygments_lexer": "ipython3",
   "version": "3.9.2"
  }
 },
 "nbformat": 4,
 "nbformat_minor": 5
}
