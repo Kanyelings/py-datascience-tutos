{
 "cells": [
  {
   "cell_type": "markdown",
   "id": "2bffeff1-a06b-4cc4-aecf-37a47f165a5e",
   "metadata": {},
   "source": [
    "# Basics of text files"
   ]
  },
  {
   "cell_type": "code",
   "execution_count": 7,
   "id": "1642ec80-df5d-47d4-83fb-f43111112bab",
   "metadata": {},
   "outputs": [],
   "source": [
    "# the first step is to obtain a file object using open\n",
    "\n",
    "# 'r' means read-only\n",
    "file_for_reading = open('reading-file.txt','r')\n",
    "\n",
    "# 'w' is write: will destroy the file if it already exists\n",
    "file_for_writing = open('writing-file.txt', 'w')\n",
    "\n",
    "# 'a' is append: for adding to end of the file\n",
    "file_for_appending = open('appending-file', 'a')\n",
    "\n",
    "# always close the files when done\n",
    "file_for_reading.close()\n",
    "file_for_writing.close()\n",
    "file_for_appending.close()"
   ]
  },
  {
   "cell_type": "code",
   "execution_count": 10,
   "id": "198b7773-a3ea-41d0-b8f4-9aef590294f2",
   "metadata": {},
   "outputs": [],
   "source": [
    "# because you can easily forget to close your files, always use them with a block cause they get close auto\n",
    "def fn_that_extracts(file):\n",
    "    # does the data extraction\n",
    "    return 0\n",
    "filename = 'reading-file.txt'\n",
    "with open(filename,'r') as f:\n",
    "    data = fn_that_extracts(f)\n",
    "    \n",
    "# at this point, f has already been closed so don't try to access it\n",
    "## process(data)"
   ]
  },
  {
   "cell_type": "markdown",
   "id": "a7e9e5e7-5cb5-4b69-bc8d-df281c2df534",
   "metadata": {},
   "source": [
    "If you need to read a whole text file. you can just iterate over the line of the file using for:"
   ]
  },
  {
   "cell_type": "code",
   "execution_count": 25,
   "id": "ce340159-8264-4866-ba3a-e748d67970a0",
   "metadata": {},
   "outputs": [
    {
     "name": "stdout",
     "output_type": "stream",
     "text": [
      "4\n",
      "['Elroy Kanye\\n', '#elroykanye\\n', '#kanye\\n', '#elroy\\n', '#vince\\n']\n"
     ]
    }
   ],
   "source": [
    "import re\n",
    "starts_with_hash = 0\n",
    "lines = []\n",
    "with open('input.txt', 'r') as f:\n",
    "    for line in f:\n",
    "        lines.append(line)\n",
    "        if re.match(\"^#\", line):\n",
    "            starts_with_hash += 1\n",
    "print(starts_with_hash)\n",
    "print(lines)"
   ]
  },
  {
   "cell_type": "markdown",
   "id": "f87d4080-1a46-4f86-931a-7e451f3f3d59",
   "metadata": {},
   "source": [
    "As seen above, every line gotten ends in a newline char. you will often want to strip() it before doing anything"
   ]
  },
  {
   "cell_type": "code",
   "execution_count": 41,
   "id": "ed5c0bb3-26fc-4a66-b411-8684d952b9b4",
   "metadata": {},
   "outputs": [
    {
     "name": "stdout",
     "output_type": "stream",
     "text": [
      "elroykanye@gmail.com\n",
      "elroyvince@gmail.com\n",
      "elroyksocial@gmail.com\n",
      "elroykanye@hyrre.net\n",
      "elroyvince@jjtronic.com\n",
      "elroykanye@yahoo.com\n"
     ]
    },
    {
     "data": {
      "text/plain": [
       "<BarContainer object of 4 artists>"
      ]
     },
     "execution_count": 41,
     "metadata": {},
     "output_type": "execute_result"
    },
    {
     "data": {
      "image/png": "[encoded data removed]",
      "text/plain": [
       "<Figure size 432x288 with 1 Axes>"
      ]
     },
     "metadata": {
      "needs_background": "light"
     },
     "output_type": "display_data"
    }
   ],
   "source": [
    "# take this.\n",
    "# imagine you have a file full of email addresses, one per line.\n",
    "# and you need to generate a histo of the domains.\n",
    "from collections import Counter\n",
    "import matplotlib.pyplot as plt\n",
    "\n",
    "def get_emails(filename):\n",
    "    ems = []\n",
    "    with open(filename, 'r') as f:\n",
    "        for line in f:\n",
    "            ems.append(line.strip())\n",
    "    return ems\n",
    "\n",
    "def get_domain(email):\n",
    "    return (email.split(\"@\"))[-1]\n",
    "\n",
    "emails = get_emails('emails.txt')\n",
    "domains = []\n",
    "for email in emails:\n",
    "    print(email)\n",
    "    domains.append(get_domain(email))\n",
    "domain_counts = Counter(domains)\n",
    "plt.bar(domain_counts.keys(), domain_counts.values())"
   ]
  },
  {
   "cell_type": "markdown",
   "id": "89ce2f12-7f9b-4f96-b7b4-5c8bf3bf71d0",
   "metadata": {},
   "source": [
    "# Delimited Files\n",
    "For files delimited such as tab separeated or comma-separated(csv), ach line has several fields with a comma or a tab indicating where one field ends and the next starts.\n",
    "This gets complicated when you have fields with commas and tabs in them, so we use the csv module from python or pandas."
   ]
  },
  {
   "cell_type": "code",
   "execution_count": 52,
   "id": "e4f9e8b7-a8a8-43ae-b751-24dae0fc5ced",
   "metadata": {},
   "outputs": [
    {
     "data": {
      "text/plain": [
       "<BarContainer object of 44 artists>"
      ]
     },
     "execution_count": 52,
     "metadata": {},
     "output_type": "execute_result"
    },
    {
     "data": {
      "image/png": "[encoded data removed]",
      "text/plain": [
       "<Figure size 432x288 with 1 Axes>"
      ]
     },
     "metadata": {
      "needs_background": "light"
     },
     "output_type": "display_data"
    }
   ],
   "source": [
    "# for a csv/tsv file with no headers, we use csv.reader \n",
    "import csv\n",
    "import matplotlib.pyplot as plt\n",
    "from collections import Counter as counter\n",
    "\n",
    "s =[]\n",
    "with open('hr-employee-attrition.txt', 'r') as f:\n",
    "    reader = csv.reader(f, delimiter=',')\n",
    "    for column in reader:\n",
    "        s.append(column[0])\n",
    "plt.bar([x for x in counter(s).keys()],\n",
    "        [y for y in counter(s).values()])"
   ]
  },
  {
   "cell_type": "code",
   "execution_count": null,
   "id": "df0ca0f8-2ca3-42c7-9a01-f3273bcdb474",
   "metadata": {},
   "outputs": [],
   "source": []
  }
 ],
 "metadata": {
  "kernelspec": {
   "display_name": "Python 3",
   "language": "python",
   "name": "python3"
  },
  "language_info": {
   "codemirror_mode": {
    "name": "ipython",
    "version": 3
   },
   "file_extension": ".py",
   "mimetype": "text/x-python",
   "name": "python",
   "nbconvert_exporter": "python",
   "pygments_lexer": "ipython3",
   "version": "3.9.2"
  }
 },
 "nbformat": 4,
 "nbformat_minor": 5
}
