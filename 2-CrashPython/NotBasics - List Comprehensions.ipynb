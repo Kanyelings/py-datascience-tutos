{
 "cells": [
  {
   "cell_type": "code",
   "execution_count": 10,
   "id": "fde6553a-3002-435f-9b4f-23a53f2dfedc",
   "metadata": {},
   "outputs": [
    {
     "name": "stdout",
     "output_type": "stream",
     "text": [
      "[0, 2, 4, 6, 8, 10, 12, 14, 16, 18, 20, 22, 24, 26, 28, 30, 32, 34, 36, 38, 40, 42, 44, 46, 48]\n",
      "[0, 1, 4, 9, 16, 25, 36, 49, 64, 81, 100, 121, 144, 169, 196, 225, 256, 289, 324, 361, 400, 441, 484, 529, 576, 625, 676, 729, 784, 841, 900, 961, 1024, 1089, 1156, 1225, 1296, 1369, 1444, 1521, 1600, 1681, 1764, 1849, 1936, 2025, 2116, 2209, 2304, 2401]\n",
      "[0, 4, 16, 36, 64, 100, 144, 196, 256, 324, 400, 484, 576, 676, 784, 900, 1024, 1156, 1296, 1444, 1600, 1764, 1936, 2116, 2304]\n"
     ]
    }
   ],
   "source": [
    "# transforming a list into another list by choosing only certain elements, or transforming elements, or both.\n",
    "even_numbers = [x for x in range(50) if x % 2 == 0]\n",
    "print(even_numbers)\n",
    "\n",
    "squares = [x*x for x in range(50)]\n",
    "print(squares)\n",
    "\n",
    "even_squares = [x for x in squares if x*x % 2==0]\n",
    "print(even_squares)"
   ]
  },
  {
   "cell_type": "code",
   "execution_count": 5,
   "id": "0d704aab-0a7e-4843-ab4b-850b7a5c9353",
   "metadata": {},
   "outputs": [],
   "source": [
    "# the lists can be turned into dictionaries\n",
    "square_dict = {x: x*x for x in range(40)}"
   ]
  },
  {
   "cell_type": "code",
   "execution_count": 17,
   "id": "3ec043c2-0ac6-4d9d-887a-d09071c2ad61",
   "metadata": {},
   "outputs": [
    {
     "name": "stdout",
     "output_type": "stream",
     "text": [
      "[(0, 0), (0, 1), (0, 2), (0, 3), (0, 4), (1, 0), (1, 1), (1, 2), (1, 3), (1, 4), (2, 0), (2, 1), (2, 2), (2, 3), (2, 4), (3, 0), (3, 1), (3, 2), (3, 3), (3, 4), (4, 0), (4, 1), (4, 2), (4, 3), (4, 4)]\n"
     ]
    }
   ],
   "source": [
    "# can include multiples forS\n",
    "pairs = [(x,y) \n",
    "         for x in range(5) \n",
    "         for y in range(5)]\n",
    "print(pairs)"
   ]
  },
  {
   "cell_type": "code",
   "execution_count": null,
   "id": "14a9ae18-6336-4f4b-9cb0-53383653488a",
   "metadata": {},
   "outputs": [],
   "source": []
  }
 ],
 "metadata": {
  "kernelspec": {
   "display_name": "Python 3",
   "language": "python",
   "name": "python3"
  },
  "language_info": {
   "codemirror_mode": {
    "name": "ipython",
    "version": 3
   },
   "file_extension": ".py",
   "mimetype": "text/x-python",
   "name": "python",
   "nbconvert_exporter": "python",
   "pygments_lexer": "ipython3",
   "version": "3.9.2"
  }
 },
 "nbformat": 4,
 "nbformat_minor": 5
}
