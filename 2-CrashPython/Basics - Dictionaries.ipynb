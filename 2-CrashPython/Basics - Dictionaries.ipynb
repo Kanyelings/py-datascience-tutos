{
 "cells": [
  {
   "cell_type": "code",
   "execution_count": 1,
   "id": "090b7328-41f1-4d2a-bb17-6170d83110f7",
   "metadata": {},
   "outputs": [],
   "source": [
    "# creating a dictionary\n",
    "empty_dict = {} # python init\n",
    "empty_dict2 = dict() # less pythonic\n",
    "grades = {\"Elroy\": 78, \"Vince\": 97} # dictionary literal\n"
   ]
  },
  {
   "cell_type": "code",
   "execution_count": 3,
   "id": "20cc5aa8-697d-4915-8f71-f4fba36f15fe",
   "metadata": {},
   "outputs": [
    {
     "name": "stdout",
     "output_type": "stream",
     "text": [
      "78\n"
     ]
    }
   ],
   "source": [
    "# lookup values\n",
    "elroy_grade = grades[\"Elroy\"]\n",
    "print(elroy_grade)"
   ]
  },
  {
   "cell_type": "code",
   "execution_count": 4,
   "id": "d605ba8e-6cd8-4913-a9e0-086cb54d02ea",
   "metadata": {},
   "outputs": [
    {
     "name": "stdout",
     "output_type": "stream",
     "text": [
      "No existing grade for Kanye\n"
     ]
    }
   ],
   "source": [
    "# error returned when getting unexistent key\n",
    "try:\n",
    "    kanye_grade = grades[\"Kanye\"]\n",
    "except KeyError:\n",
    "    print(\"No existing grade for Kanye\")"
   ]
  },
  {
   "cell_type": "code",
   "execution_count": 5,
   "id": "129e8458-20d3-4687-b0b4-e01d6ed29d4e",
   "metadata": {},
   "outputs": [
    {
     "name": "stdout",
     "output_type": "stream",
     "text": [
      "True\n",
      "False\n"
     ]
    }
   ],
   "source": [
    "# check for existence of grade using 'in'\n",
    "elroy_has_grade = \"Elroy\" in grades\n",
    "kanye_has_grade = \"Kanye\" in grades\n",
    "print(elroy_has_grade)\n",
    "print(kanye_has_grade)"
   ]
  },
  {
   "cell_type": "code",
   "execution_count": 6,
   "id": "a9afd90f-dc4f-401b-ace3-eba22a815b87",
   "metadata": {},
   "outputs": [
    {
     "name": "stdout",
     "output_type": "stream",
     "text": [
      "78\n",
      "None\n"
     ]
    }
   ],
   "source": [
    "# a dictionary ds has a get method for getting a value stored in a key\n",
    "# None is returned as a default value for a nonexistent key\n",
    "elroys_grade = grades.get(\"Elroy\")\n",
    "kanyes_grade = grades.get(\"Kanye\")\n",
    "\n",
    "print(elroys_grade)\n",
    "print(kanyes_grade)"
   ]
  },
  {
   "cell_type": "code",
   "execution_count": 7,
   "id": "9081d7d9-1cee-4e51-aafb-45fb8375ead6",
   "metadata": {},
   "outputs": [
    {
     "name": "stdout",
     "output_type": "stream",
     "text": [
      "86\n"
     ]
    }
   ],
   "source": [
    "# overriding a key's value\n",
    "grades[\"Elroy\"] = 86\n",
    "print(grades.get(\"Elroy\"))"
   ]
  },
  {
   "cell_type": "code",
   "execution_count": 9,
   "id": "65f63f18-5c09-4898-b1d8-01ea39f36636",
   "metadata": {},
   "outputs": [
    {
     "name": "stdout",
     "output_type": "stream",
     "text": [
      "True\n"
     ]
    }
   ],
   "source": [
    "# using a dict to rep structured data\n",
    "tweet = {\n",
    "    \"user\": \"elroykanye\",\n",
    "    \"text\": \"Data science is awesome\",\n",
    "    \"retweet_count\": 100,\n",
    "    \"hashtags\": [\"#data\", \"#science\", \"#datascience\", \"#awesome\", \"#yolo\"]\n",
    "}\n",
    "\n",
    "# besides looking for keys, we can look for all\n",
    "tweet_keys = tweet.keys() # list of keys\n",
    "tweet_values = tweet.values() # list of values\n",
    "tweet_items = tweet.items() # list of (key,value) tuples\n",
    "\n",
    "print(\"user\" in tweet_keys)"
   ]
  },
  {
   "cell_type": "code",
   "execution_count": 36,
   "id": "62310d18-cb95-4c94-bcce-516b10fec469",
   "metadata": {},
   "outputs": [
    {
     "name": "stdout",
     "output_type": "stream",
     "text": [
      "{'E': 1, 'l': 1, 'r': 1, 'o': 6, 'y': 2, ' ': 5, 'i': 1, 's': 1, 'a': 1, 'g': 2, 'd': 2, 'b': 1}\n",
      "{'Elroy': 1, 'is': 1, 'a': 1, 'good': 2, 'boy': 1}\n",
      "{'E': 1, 'x': 1, 'a': 2, 'm': 1, 'p': 1, 'l': 1, 'e': 2, ' ': 1, 'c': 1, 's': 1}\n"
     ]
    }
   ],
   "source": [
    "# counting characters in text using if\n",
    "def count_chars_if(sentence):\n",
    "    char_counts = {}\n",
    "    for char in sentence:\n",
    "        if char in char_counts:\n",
    "            char_counts[char] += 1\n",
    "        else:\n",
    "            word_counts[char] = 1\n",
    "    return char_counts\n",
    "            \n",
    "# counting characters in text using try\n",
    "def count_char_try(sentence):\n",
    "    char_counts = {}\n",
    "    for char in sentence:\n",
    "        try:\n",
    "            char_counts[char] += 1\n",
    "        except KeyError:\n",
    "            char_counts[char] = 1\n",
    "    return char_counts\n",
    "\n",
    "# counting chars in text using kanye method\n",
    "def count_char_kanye(sentence):\n",
    "    char_counts = {}\n",
    "    for char in sentence:\n",
    "        previous_count = char_counts.get(char, 0)\n",
    "        char_counts[char] = previous_count + 1\n",
    "    return char_counts\n",
    "\n",
    "test_sentence = \"Elroy is a good good boy\"\n",
    "in_list = test_sentence.split(\" \") # split the sentence into a list of words\n",
    "print(count_words_if(test_sentence)) \n",
    "print(count_words_if(in_list))\n",
    "print(count_char_kanye(\"Example case\"))"
   ]
  },
  {
   "cell_type": "code",
   "execution_count": 37,
   "id": "a637be4a-acb0-4b46-847c-b1d1746cd54d",
   "metadata": {},
   "outputs": [
    {
     "name": "stdout",
     "output_type": "stream",
     "text": [
      "defaultdict(<class 'int'>, {'E': 1, 'l': 1, 'r': 1, 'o': 1, 'y': 2, ' ': 2, 'K': 1, 'a': 1, 'n': 2, 'e': 2, ',': 1, 'V': 1, 'i': 1, 'c': 1})\n"
     ]
    }
   ],
   "source": [
    "# all methods in the cell above are slightly unwieldy, so we use defaultdict\n",
    "from collections import defaultdict\n",
    "def char_count_dd(sentence):\n",
    "    char_counts = defaultdict(int)\n",
    "    for char in sentence:\n",
    "        char_counts[char] += 1\n",
    "    return char_counts\n",
    "print(char_count_dd(\"Elroy Kanye, Vince\"))"
   ]
  }
 ],
 "metadata": {
  "kernelspec": {
   "display_name": "Python 3",
   "language": "python",
   "name": "python3"
  },
  "language_info": {
   "codemirror_mode": {
    "name": "ipython",
    "version": 3
   },
   "file_extension": ".py",
   "mimetype": "text/x-python",
   "name": "python",
   "nbconvert_exporter": "python",
   "pygments_lexer": "ipython3",
   "version": "3.9.2"
  }
 },
 "nbformat": 4,
 "nbformat_minor": 5
}
