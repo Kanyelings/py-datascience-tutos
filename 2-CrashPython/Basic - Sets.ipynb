{
 "cells": [
  {
   "cell_type": "code",
   "execution_count": 1,
   "id": "536c76be-51f0-41b3-8b24-0241ee74a20c",
   "metadata": {},
   "outputs": [
    {
     "name": "stdout",
     "output_type": "stream",
     "text": [
      "2\n",
      "True\n",
      "False\n"
     ]
    }
   ],
   "source": [
    "# set - reps a collection of distinct elements\n",
    "a_set = set()\n",
    "a_set.add(1) # a_set is now {1}\n",
    "a_set.add(2) # a_set is now {1,2}\n",
    "a_set.add(2) # a_set is still {1,2}\n",
    "print(len(a_set))\n",
    "print(2 in a_set)\n",
    "print(3 in a_set)"
   ]
  },
  {
   "cell_type": "code",
   "execution_count": 1,
   "id": "bbaf0fc1-8fbc-4ecc-8a2c-c9e30c28d668",
   "metadata": {},
   "outputs": [
    {
     "name": "stdout",
     "output_type": "stream",
     "text": [
      "['T', 'h', 'e', ' ', 'q', 'u', 'i', 'c', 'k', ' ', 'b', 'r', 'o', 'w', 'n', ' ', 'f', 'o', 'x', ' ', 'j', 'u', 'm', 'p', 's', ' ', 'o', 'v', 'e', 'r', ' ', 't', 'h', 'e', ' ', 'l', 'a', 'z', 'y', ' ', 'd', 'o', 'g']\n",
      "{'c', 'k', 'T', 'f', 'u', 'z', 'h', 'y', 'v', 'x', ' ', 'd', 'i', 'b', 'a', 's', 'r', 'p', 'n', 'e', 't', 'l', 'j', 'w', 'q', 'g', 'o', 'm'}\n",
      "{'c', 'k', 'T', 'f', 'u', 'z', 'h', 'y', 'v', 'x', ' ', 'd', 'i', 'b', 'a', 's', 'r', 'p', 'n', 'e', 't', 'l', 'j', 'w', 'q', 'g', 'o', 'm'}\n"
     ]
    },
    {
     "data": {
      "text/plain": [
       "True"
      ]
     },
     "execution_count": 1,
     "metadata": {},
     "output_type": "execute_result"
    }
   ],
   "source": [
    "# 'in' is a very fast operation on sets.\n",
    "## for a large collection of items we want to use for a \n",
    "## membership test, we use sets (pref over lists)\n",
    "sentence = \"The quick brown fox jumps over the lazy dog\"\n",
    "sen_in_list = list(sentence)\n",
    "sen_in_set = set(sen_in_list)\n",
    "print(sen_in_list)\n",
    "print(sen_in_set)\n",
    "print(sen_in_set)\n",
    "'e' in sen_in_list # true and will have to check every element\n",
    "'e' in sen_in_set # true and will not have to do as above\n"
   ]
  },
  {
   "cell_type": "code",
   "execution_count": 2,
   "id": "660029ed-3973-4302-8883-d88101f55489",
   "metadata": {},
   "outputs": [
    {
     "name": "stdout",
     "output_type": "stream",
     "text": [
      "Number of items = 22\n",
      "Number of distinct items = 9\n"
     ]
    }
   ],
   "source": [
    "# finding distinct items in a collection\n",
    "item_list = [1,2,4,3,2,1,4,5,1,7,4,6,8,5,2,4,5,5,2,5,8,0]\n",
    "item_set = set(item_list)\n",
    "print(\"Number of items = \" + str(len(item_list)))\n",
    "print(\"Number of distinct items = \" + str(len(item_set)))"
   ]
  },
  {
   "cell_type": "code",
   "execution_count": null,
   "id": "c2ffc616-ab7f-4fd6-9985-a23d8b2019b7",
   "metadata": {},
   "outputs": [],
   "source": []
  }
 ],
 "metadata": {
  "kernelspec": {
   "display_name": "Python 3",
   "language": "python",
   "name": "python3"
  },
  "language_info": {
   "codemirror_mode": {
    "name": "ipython",
    "version": 3
   },
   "file_extension": ".py",
   "mimetype": "text/x-python",
   "name": "python",
   "nbconvert_exporter": "python",
   "pygments_lexer": "ipython3",
   "version": "3.9.2"
  }
 },
 "nbformat": 4,
 "nbformat_minor": 5
}
