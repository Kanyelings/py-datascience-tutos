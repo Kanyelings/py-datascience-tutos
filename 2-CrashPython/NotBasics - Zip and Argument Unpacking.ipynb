{
 "cells": [
  {
   "cell_type": "markdown",
   "id": "8bda23fd-7a1d-4ca6-b7b7-b261921b7b61",
   "metadata": {},
   "source": [
    "Often, we will need to zip two or more lists together.\n",
    "zip transforms multiple lists into a single list of tuples of corresponding elements:"
   ]
  },
  {
   "cell_type": "code",
   "execution_count": 17,
   "id": "7e88af46-3da2-434a-81e8-f31c17d4f954",
   "metadata": {},
   "outputs": [
    {
     "name": "stdout",
     "output_type": "stream",
     "text": [
      "('a', 1)\n",
      "('b', 2)\n",
      "('c', 3)\n"
     ]
    }
   ],
   "source": [
    "list1 = ['a','b','c']\n",
    "list2 = [1,2,3]\n",
    "list3 = zip(list1, list2) \n",
    "for x in list3: print (x)"
   ]
  },
  {
   "cell_type": "markdown",
   "id": "84e21898-0609-4c78-bc17-c07637d4a9e1",
   "metadata": {},
   "source": [
    "If the lists are of different lengths, zip stops as soon as the first list ends. You can also unzip a list using a strange trick. See below"
   ]
  },
  {
   "cell_type": "code",
   "execution_count": 25,
   "id": "8ebdcb32-9cb5-4ad4-995c-f3bcda752e16",
   "metadata": {},
   "outputs": [
    {
     "name": "stdout",
     "output_type": "stream",
     "text": [
      "('a', 'b', 'c')\n"
     ]
    }
   ],
   "source": [
    "pairs = [('a', 1),('b', 2),('c', 3)]\n",
    "letters, numbers = zip(*pairs)"
   ]
  },
  {
   "cell_type": "code",
   "execution_count": 30,
   "id": "0a2c6d0e-a52a-41b7-a61b-1275abe0066e",
   "metadata": {},
   "outputs": [
    {
     "name": "stdout",
     "output_type": "stream",
     "text": [
      "('a', 'b', 'c')\n",
      "(1, 2, 3)\n"
     ]
    }
   ],
   "source": [
    "# The asterisk performs argument unpacking which uses the elements of pairs as individual arguments to zip. \n",
    "# It ends up the same as if you had called:\n",
    "unpacked = zip(('a', 1),('b', 2),('c', 3))\n",
    "for x in unpacked: print(x)"
   ]
  },
  {
   "cell_type": "code",
   "execution_count": null,
   "id": "a704aa07-c5c7-41d1-aa9f-880ec5d69f3c",
   "metadata": {},
   "outputs": [],
   "source": []
  }
 ],
 "metadata": {
  "kernelspec": {
   "display_name": "Python 3",
   "language": "python",
   "name": "python3"
  },
  "language_info": {
   "codemirror_mode": {
    "name": "ipython",
    "version": 3
   },
   "file_extension": ".py",
   "mimetype": "text/x-python",
   "name": "python",
   "nbconvert_exporter": "python",
   "pygments_lexer": "ipython3",
   "version": "3.9.2"
  }
 },
 "nbformat": 4,
 "nbformat_minor": 5
}
