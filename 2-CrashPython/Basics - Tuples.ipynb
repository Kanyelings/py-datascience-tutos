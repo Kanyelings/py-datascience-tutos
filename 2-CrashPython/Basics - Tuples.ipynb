{
 "cells": [
  {
   "cell_type": "code",
   "execution_count": 1,
   "id": "2ecb1ddf-3159-4420-b92b-55d20fbebe84",
   "metadata": {},
   "outputs": [],
   "source": [
    "# showing the difference between a list and tuple\n",
    "a_list = [1,2,3]\n",
    "a_tuple = (1,2,3)\n",
    "other_tuple = 1,2,3"
   ]
  },
  {
   "cell_type": "code",
   "execution_count": 2,
   "id": "625faf00-ff4b-460e-9e7c-3f7c5edc36b0",
   "metadata": {},
   "outputs": [
    {
     "name": "stdout",
     "output_type": "stream",
     "text": [
      "Cannot modify a tuple\n"
     ]
    }
   ],
   "source": [
    "# tuple if immutable\n",
    "a_list[0] = 0\n",
    "try:\n",
    "    a_tuple[0] = 3\n",
    "except TypeError:\n",
    "    print(\"Cannot modify a tuple\")"
   ]
  },
  {
   "cell_type": "code",
   "execution_count": 4,
   "id": "7fd559cb-39ec-4822-9158-bc5bf9b14ca1",
   "metadata": {},
   "outputs": [
    {
     "name": "stdout",
     "output_type": "stream",
     "text": [
      "(7, 12)\n",
      "5\n",
      "6\n"
     ]
    }
   ],
   "source": [
    "# tuples are convenient for returning multiple values from functions\n",
    "def sum_and_prod(x, y):\n",
    "    return (x+y), (x*y)\n",
    "print(sum_and_prod(3,4))\n",
    "\n",
    "a, b = sum_and_prod(2,3)\n",
    "print(a)\n",
    "print(b)"
   ]
  },
  {
   "cell_type": "code",
   "execution_count": 5,
   "id": "31998bc4-6124-4bfc-9089-c90a9c957c2a",
   "metadata": {},
   "outputs": [
    {
     "name": "stdout",
     "output_type": "stream",
     "text": [
      "2\n",
      "1\n"
     ]
    }
   ],
   "source": [
    "# can be used for multiple assignment\n",
    "x, y = 1,2\n",
    "x, y = y, x\n",
    "print(x)\n",
    "print(y)"
   ]
  },
  {
   "cell_type": "code",
   "execution_count": null,
   "id": "e61db8d6-75a8-47af-8508-5f3c8f1476e8",
   "metadata": {},
   "outputs": [],
   "source": []
  }
 ],
 "metadata": {
  "kernelspec": {
   "display_name": "Python 3",
   "language": "python",
   "name": "python3"
  },
  "language_info": {
   "codemirror_mode": {
    "name": "ipython",
    "version": 3
   },
   "file_extension": ".py",
   "mimetype": "text/x-python",
   "name": "python",
   "nbconvert_exporter": "python",
   "pygments_lexer": "ipython3",
   "version": "3.9.2"
  }
 },
 "nbformat": 4,
 "nbformat_minor": 5
}
