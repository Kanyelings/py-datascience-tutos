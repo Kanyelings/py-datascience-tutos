{
 "cells": [
  {
   "cell_type": "markdown",
   "id": "299f3f3a-9028-4a02-8d2f-b02bab4f7859",
   "metadata": {},
   "source": [
    "Not frequently, you will want to iterate over a list and use both its elements and their indices."
   ]
  },
  {
   "cell_type": "code",
   "execution_count": 1,
   "id": "32533464-2303-407a-affb-dcfcd76df93c",
   "metadata": {},
   "outputs": [],
   "source": [
    "def example(sentence):\n",
    "    for i,char in enumerate(sentence):\n",
    "        do_something(i, char)"
   ]
  },
  {
   "cell_type": "markdown",
   "id": "80716ea5-0e63-4129-b943-9923059c6b62",
   "metadata": {},
   "source": [
    "The method above is way better and pythonic than other methods conventionally used such that looping with increments or using range(len()) over the collection."
   ]
  },
  {
   "cell_type": "code",
   "execution_count": null,
   "id": "0c269bbf-0854-4c1a-b812-d999e2d9d63b",
   "metadata": {},
   "outputs": [],
   "source": []
  }
 ],
 "metadata": {
  "kernelspec": {
   "display_name": "Python 3",
   "language": "python",
   "name": "python3"
  },
  "language_info": {
   "codemirror_mode": {
    "name": "ipython",
    "version": 3
   },
   "file_extension": ".py",
   "mimetype": "text/x-python",
   "name": "python",
   "nbconvert_exporter": "python",
   "pygments_lexer": "ipython3",
   "version": "3.9.2"
  }
 },
 "nbformat": 4,
 "nbformat_minor": 5
}
