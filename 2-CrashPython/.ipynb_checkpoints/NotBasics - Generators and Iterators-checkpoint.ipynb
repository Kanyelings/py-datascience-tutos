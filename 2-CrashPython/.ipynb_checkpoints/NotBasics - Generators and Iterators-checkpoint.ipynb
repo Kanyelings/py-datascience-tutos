{
 "cells": [
  {
   "cell_type": "code",
   "execution_count": null,
   "id": "884a450a-4f6f-4bb3-bf64-3aeb34210aeb",
   "metadata": {},
   "outputs": [],
   "source": [
    "# a generator is something you can iterate over but whose values are produced only as needed"
   ]
  },
  {
   "cell_type": "code",
   "execution_count": 3,
   "id": "9ce0a6aa-2b86-4dd5-a51d-fbb2db283854",
   "metadata": {},
   "outputs": [
    {
     "name": "stdout",
     "output_type": "stream",
     "text": [
      "0\n",
      "1\n",
      "2\n",
      "3\n",
      "4\n"
     ]
    }
   ],
   "source": [
    "# one way to create a generator is with functions and a yield operator\n",
    "def lazy_range(n):\n",
    "    '''a lazy version of range'''\n",
    "    i = 0\n",
    "    while i < n:\n",
    "        yield i\n",
    "        i += 1\n",
    "        \n",
    "# the following loop will consume the yielded values one at a time until none are left\n",
    "for i in lazy_range(5):\n",
    "    print(i)"
   ]
  },
  {
   "cell_type": "code",
   "execution_count": 5,
   "id": "833d631a-9b94-44f0-841d-84c96aeea5a9",
   "metadata": {},
   "outputs": [
    {
     "name": "stdout",
     "output_type": "stream",
     "text": [
      "<generator object <genexpr> at 0x7f312e7e62e0>\n"
     ]
    }
   ],
   "source": [
    "lazy_evens_below_20 = (i for i in lazy_range(20) if i%2==0)\n",
    "print(lazy_evens_below_20)"
   ]
  },
  {
   "cell_type": "code",
   "execution_count": null,
   "id": "fc4a5886-e774-4828-950f-b44bac6f8741",
   "metadata": {},
   "outputs": [],
   "source": []
  }
 ],
 "metadata": {
  "kernelspec": {
   "display_name": "Python 3",
   "language": "python",
   "name": "python3"
  },
  "language_info": {
   "codemirror_mode": {
    "name": "ipython",
    "version": 3
   },
   "file_extension": ".py",
   "mimetype": "text/x-python",
   "name": "python",
   "nbconvert_exporter": "python",
   "pygments_lexer": "ipython3",
   "version": "3.9.2"
  }
 },
 "nbformat": 4,
 "nbformat_minor": 5
}
