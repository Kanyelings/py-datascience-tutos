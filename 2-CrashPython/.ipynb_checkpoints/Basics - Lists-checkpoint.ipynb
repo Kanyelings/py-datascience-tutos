{
 "cells": [
  {
   "cell_type": "code",
   "execution_count": 5,
   "id": "aae8d8fd-d2b2-4238-b230-283286e697ee",
   "metadata": {},
   "outputs": [],
   "source": [
    "# declaring a list\n",
    "homo_integer_list = [1,2,3]\n",
    "homo_string_list = [\"Elroy\", \"Kanye\", \"boy\"]\n",
    "hetero_list = [\"Elroy Kanye\", 'M', 20, True]\n",
    "list_of_lists = [homo_integer_list, hetero_list]"
   ]
  },
  {
   "cell_type": "code",
   "execution_count": 9,
   "id": "eee21447-42a7-4334-9c87-2920a1ebdcd0",
   "metadata": {},
   "outputs": [
    {
     "data": {
      "text/plain": [
       "6"
      ]
     },
     "execution_count": 9,
     "metadata": {},
     "output_type": "execute_result"
    }
   ],
   "source": [
    "# getting the length of a list\n",
    "len(list_of_lists)\n",
    "sum(homo_integer_list)"
   ]
  },
  {
   "cell_type": "code",
   "execution_count": 10,
   "id": "3ae0e17d-294f-440d-a86b-5e822a2ab636",
   "metadata": {},
   "outputs": [],
   "source": [
    "# getting the nth element of a list\n",
    "x = range(10) # is the list [0,1,2,..., 10]\n",
    "zero = x[0] # 1st element\n",
    "one = x[1]\n",
    "last = x[-1]\n",
    "print(last)"
   ]
  },
  {
   "cell_type": "code",
   "execution_count": 13,
   "id": "d43e55cb-518a-4c30-a663-89ae1ebf483a",
   "metadata": {},
   "outputs": [
    {
     "name": "stdout",
     "output_type": "stream",
     "text": [
      "range(0, 3)\n",
      "range(3, 10)\n"
     ]
    }
   ],
   "source": [
    "# slicing a list\n",
    "first_three = x[:3]\n",
    "three_to_last = x[3:]\n",
    "print(first_three)\n",
    "print(three_to_last)\n",
    "\n",
    "one_to_four = x[1:5]\n",
    "without_first_and_last = x[1:-1]"
   ]
  },
  {
   "cell_type": "code",
   "execution_count": 15,
   "id": "4e3570b1-5c58-4b36-b161-a34b6b4dfb92",
   "metadata": {},
   "outputs": [
    {
     "data": {
      "text/plain": [
       "False"
      ]
     },
     "execution_count": 15,
     "metadata": {},
     "output_type": "execute_result"
    }
   ],
   "source": [
    "# checking for membership\n",
    "1 in x\n",
    "\"elroy\" in x"
   ]
  },
  {
   "cell_type": "code",
   "execution_count": null,
   "id": "6752b580-a5e9-466d-9b5e-87db7ed10846",
   "metadata": {},
   "outputs": [],
   "source": []
  }
 ],
 "metadata": {
  "kernelspec": {
   "display_name": "Python 3",
   "language": "python",
   "name": "python3"
  },
  "language_info": {
   "codemirror_mode": {
    "name": "ipython",
    "version": 3
   },
   "file_extension": ".py",
   "mimetype": "text/x-python",
   "name": "python",
   "nbconvert_exporter": "python",
   "pygments_lexer": "ipython3",
   "version": "3.9.2"
  }
 },
 "nbformat": 4,
 "nbformat_minor": 5
}
