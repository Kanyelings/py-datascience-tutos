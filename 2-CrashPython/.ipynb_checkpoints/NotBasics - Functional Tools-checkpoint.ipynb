{
 "cells": [
  {
   "cell_type": "markdown",
   "id": "ebb17af1-cef1-478e-bf40-e934376343e6",
   "metadata": {},
   "source": [
    "When passing functions around, sometimes we may want to partially apply functions to create new functions. View the simple example in the cell below as a simple example."
   ]
  },
  {
   "cell_type": "code",
   "execution_count": 1,
   "id": "e434ef88-c6b8-4e2a-99c5-84cfe30c9332",
   "metadata": {},
   "outputs": [],
   "source": [
    "def exp_kanye(base, power):\n",
    "    return base**power"
   ]
  },
  {
   "cell_type": "markdown",
   "id": "a229ce7f-4ef5-4058-931f-4d2e710f5a65",
   "metadata": {},
   "source": [
    "We want to use it to create a function of one variable two_to_the whose input is a power and whose output is the result of exp_kanye(2, power).\n",
    "We can do this with def but this can become unwieldy"
   ]
  },
  {
   "cell_type": "code",
   "execution_count": 2,
   "id": "af681d3a-50cc-404e-ba9c-b88581e975a6",
   "metadata": {},
   "outputs": [],
   "source": [
    "def two_to_the(power):\n",
    "    return exp_kanye(2, power)"
   ]
  },
  {
   "cell_type": "markdown",
   "id": "a2c60bb0-1d2b-4402-8c91-6014ad4c1a44",
   "metadata": {},
   "source": [
    "A different approach is to use functools.partial:"
   ]
  },
  {
   "cell_type": "code",
   "execution_count": 4,
   "id": "e330fa9b-a1c6-4f7b-88c0-62e07d932e24",
   "metadata": {},
   "outputs": [
    {
     "name": "stdout",
     "output_type": "stream",
     "text": [
      "8\n"
     ]
    }
   ],
   "source": [
    "from functools import partial\n",
    "two_to_the_fn = partial(exp_kanye, 2)\n",
    "\n",
    "print(two_to_the_fn(3))"
   ]
  },
  {
   "cell_type": "code",
   "execution_count": 7,
   "id": "4855d157-c539-4218-82a3-63c950b3a26f",
   "metadata": {},
   "outputs": [
    {
     "name": "stdout",
     "output_type": "stream",
     "text": [
      "16\n"
     ]
    }
   ],
   "source": [
    "# partial can be used to fill in later arguments if you specify their names\n",
    "square_of = partial(exp_kanye, power=2)\n",
    "print(square_of(4))"
   ]
  },
  {
   "cell_type": "markdown",
   "id": "f63fed61-9eba-436a-b063-adaa6d31c193",
   "metadata": {},
   "source": [
    "It gets messu when you curry arguments in the middle of the function, so we will try to avoid doing that.\n",
    "We will also occasionally use map, reduce and filter, which provide functional alternatives to list comprehensions."
   ]
  },
  {
   "cell_type": "code",
   "execution_count": 12,
   "id": "a61523c4-c7e0-4fdf-ac76-9785fec0e9de",
   "metadata": {},
   "outputs": [],
   "source": [
    "def double(x):\n",
    "    return 2 * x\n",
    "xs = [1,2,3,4]\n",
    "twice_xs = [double(x) for x in xs] # [2,4,6,8]\n",
    "twice_xs = map(double, xs) # same as above\n",
    "list_doubler = partial(map, double) # function that doubles a list\n",
    "twice_xs = list_doubler(xs) # again [2,4,6,8]"
   ]
  },
  {
   "cell_type": "code",
   "execution_count": 14,
   "id": "99d70bb1-c8ed-402e-b8d0-8da038842bb2",
   "metadata": {},
   "outputs": [
    {
     "name": "stdout",
     "output_type": "stream",
     "text": [
      "<map object at 0x7fde1c656d60>\n"
     ]
    }
   ],
   "source": [
    "# You can use multiple argument functions if your provide multiple lists\n",
    "def multiply(x,y): return x*y\n",
    "products = map(multiply, [1,2], [4,5]) # [1*4, 2*5] = [4,10]\n",
    "print(str(products))"
   ]
  },
  {
   "cell_type": "code",
   "execution_count": 20,
   "id": "8326480e-ee07-4cbc-bee1-3618cd0f4bc7",
   "metadata": {},
   "outputs": [
    {
     "name": "stdout",
     "output_type": "stream",
     "text": [
      "[2, 4]\n",
      "<filter object at 0x7fde1c720850>\n",
      "functools.partial(<class 'filter'>, <function is_even at 0x7fde1c643d30>)\n",
      "<filter object at 0x7fde1c710fd0>\n"
     ]
    }
   ],
   "source": [
    "# Similarly, filter does the work of a list comprehension if:\n",
    "def is_even(x): return x%2==0\n",
    "x_evens = [x for x in [1,2,3,4] if is_even(x)]\n",
    "print(x_evens)\n",
    "x_evens = filter(is_even, xs)\n",
    "print(x_evens)\n",
    "list_evener = partial(filter, is_even)\n",
    "print(list_evener)\n",
    "x_evens = list_evener([1,2,3,4,5,6,7,8,9,10])\n",
    "print(x_evens)"
   ]
  },
  {
   "cell_type": "code",
   "execution_count": null,
   "id": "7d055f1c-17cf-427e-b8d2-c86649a3e3fb",
   "metadata": {},
   "outputs": [],
   "source": []
  }
 ],
 "metadata": {
  "kernelspec": {
   "display_name": "Python 3",
   "language": "python",
   "name": "python3"
  },
  "language_info": {
   "codemirror_mode": {
    "name": "ipython",
    "version": 3
   },
   "file_extension": ".py",
   "mimetype": "text/x-python",
   "name": "python",
   "nbconvert_exporter": "python",
   "pygments_lexer": "ipython3",
   "version": "3.9.2"
  }
 },
 "nbformat": 4,
 "nbformat_minor": 5
}
