{
 "cells": [
  {
   "cell_type": "code",
   "execution_count": 1,
   "id": "536c76be-51f0-41b3-8b24-0241ee74a20c",
   "metadata": {},
   "outputs": [
    {
     "name": "stdout",
     "output_type": "stream",
     "text": [
      "2\n",
      "True\n",
      "False\n"
     ]
    }
   ],
   "source": [
    "# set - reps a collection of distinct elements\n",
    "a_set = set()\n",
    "a_set.add(1) # a_set is now {1}\n",
    "a_set.add(2) # a_set is now {1,2}\n",
    "a_set.add(2) # a_set is still {1,2}\n",
    "print(len(a_set))\n",
    "print(2 in a_set)\n",
    "print(3 in a_set)"
   ]
  },
  {
   "cell_type": "code",
   "execution_count": 4,
   "id": "bbaf0fc1-8fbc-4ecc-8a2c-c9e30c28d668",
   "metadata": {},
   "outputs": [
    {
     "name": "stdout",
     "output_type": "stream",
     "text": [
      "['T', 'h', 'e', ' ', 'q', 'u', 'i', 'c', 'k', ' ', 'b', 'r', 'o', 'w', 'n', ' ', 'f', 'o', 'x', ' ', 'j', 'u', 'm', 'p', 's', ' ', 'o', 'v', 'e', 'r', ' ', 't', 'h', 'e', ' ', 'l', 'a', 'z', 'y', ' ', 'd', 'o', 'g']\n",
      "{'e', 'f', 'd', 'm', 'b', 'n', 't', 'u', 'l', 'v', 'z', ' ', 'k', 'i', 'r', 'w', 'g', 'j', 'T', 'y', 'x', 'p', 'c', 'q', 'a', 'o', 'h', 's'}\n"
     ]
    },
    {
     "ename": "AttributeError",
     "evalue": "'set' object has no attribute 'sort'",
     "output_type": "error",
     "traceback": [
      "\u001b[0;31m---------------------------------------------------------------------------\u001b[0m",
      "\u001b[0;31mAttributeError\u001b[0m                            Traceback (most recent call last)",
      "\u001b[0;32m<ipython-input-4-281060f2e735>\u001b[0m in \u001b[0;36m<module>\u001b[0;34m\u001b[0m\n\u001b[1;32m      7\u001b[0m \u001b[0mprint\u001b[0m\u001b[0;34m(\u001b[0m\u001b[0msen_in_list\u001b[0m\u001b[0;34m)\u001b[0m\u001b[0;34m\u001b[0m\u001b[0;34m\u001b[0m\u001b[0m\n\u001b[1;32m      8\u001b[0m \u001b[0mprint\u001b[0m\u001b[0;34m(\u001b[0m\u001b[0msen_in_set\u001b[0m\u001b[0;34m)\u001b[0m\u001b[0;34m\u001b[0m\u001b[0;34m\u001b[0m\u001b[0m\n\u001b[0;32m----> 9\u001b[0;31m \u001b[0mprint\u001b[0m\u001b[0;34m(\u001b[0m\u001b[0msen_in_set\u001b[0m\u001b[0;34m.\u001b[0m\u001b[0msort\u001b[0m\u001b[0;34m(\u001b[0m\u001b[0;34m)\u001b[0m\u001b[0;34m)\u001b[0m\u001b[0;34m\u001b[0m\u001b[0;34m\u001b[0m\u001b[0m\n\u001b[0m\u001b[1;32m     10\u001b[0m \u001b[0;34m'e'\u001b[0m \u001b[0;32min\u001b[0m \u001b[0msen_in_list\u001b[0m \u001b[0;31m# true and will have to check every element\u001b[0m\u001b[0;34m\u001b[0m\u001b[0;34m\u001b[0m\u001b[0m\n\u001b[1;32m     11\u001b[0m \u001b[0;34m'e'\u001b[0m \u001b[0;32min\u001b[0m \u001b[0msen_in_set\u001b[0m \u001b[0;31m# true and will not have to do as above\u001b[0m\u001b[0;34m\u001b[0m\u001b[0;34m\u001b[0m\u001b[0m\n",
      "\u001b[0;31mAttributeError\u001b[0m: 'set' object has no attribute 'sort'"
     ]
    }
   ],
   "source": [
    "# 'in' is a very fast operation on sets.\n",
    "## for a large collection of items we want to use for a \n",
    "## membership test, we use sets (pref over lists)\n",
    "sentence = \"The quick brown fox jumps over the lazy dog\"\n",
    "sen_in_list = list(sentence)\n",
    "sen_in_set = set(sen_in_list)\n",
    "print(sen_in_list)\n",
    "print(sen_in_set)\n",
    "print(sen_in_set)\n",
    "'e' in sen_in_list # true and will have to check every element\n",
    "'e' in sen_in_set # true and will not have to do as above\n"
   ]
  },
  {
   "cell_type": "code",
   "execution_count": null,
   "id": "660029ed-3973-4302-8883-d88101f55489",
   "metadata": {},
   "outputs": [],
   "source": []
  }
 ],
 "metadata": {
  "kernelspec": {
   "display_name": "Python 3",
   "language": "python",
   "name": "python3"
  },
  "language_info": {
   "codemirror_mode": {
    "name": "ipython",
    "version": 3
   },
   "file_extension": ".py",
   "mimetype": "text/x-python",
   "name": "python",
   "nbconvert_exporter": "python",
   "pygments_lexer": "ipython3",
   "version": "3.9.2"
  }
 },
 "nbformat": 4,
 "nbformat_minor": 5
}
