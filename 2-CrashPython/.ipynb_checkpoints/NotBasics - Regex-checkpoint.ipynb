{
 "cells": [
  {
   "cell_type": "code",
   "execution_count": 16,
   "id": "2e6ec93d-3cb2-4787-925d-15faca553294",
   "metadata": {},
   "outputs": [
    {
     "name": "stdout",
     "output_type": "stream",
     "text": [
      "True\n",
      "True\n",
      "True\n",
      "True\n",
      "False\n",
      "True\n"
     ]
    }
   ],
   "source": [
    "# regex provides a way of searching text\n",
    "# it will be explained detaily per use\n",
    "\n",
    "import re\n",
    "print(not re.match(\"a\", \"cat\")) # cat does not start with a\n",
    "print(bool(re.search(\"a\", \"cat\"))) # cat has an a in it\n",
    "print(not re.search(\"c\", \"dog\")) # dog does not have a c in it\n",
    "print( 3 == len(re.split(\"[ab]\", \"carbs\"))) # split on a or b to [c,r,s]\n",
    "print(1 == len(re.split(\"[ar]\", \"karnage\"))) \n",
    "print(\"R-D-\" == re.sub(\"[0-9]\", \"-\", \"R2D2\")) # replace digits with dashes"
   ]
  },
  {
   "cell_type": "code",
   "execution_count": null,
   "id": "93011d78-f4d0-4edd-8e15-d59499e459ec",
   "metadata": {},
   "outputs": [],
   "source": []
  }
 ],
 "metadata": {
  "kernelspec": {
   "display_name": "Python 3",
   "language": "python",
   "name": "python3"
  },
  "language_info": {
   "codemirror_mode": {
    "name": "ipython",
    "version": 3
   },
   "file_extension": ".py",
   "mimetype": "text/x-python",
   "name": "python",
   "nbconvert_exporter": "python",
   "pygments_lexer": "ipython3",
   "version": "3.9.2"
  }
 },
 "nbformat": 4,
 "nbformat_minor": 5
}
