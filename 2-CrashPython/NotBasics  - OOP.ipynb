{
 "cells": [
  {
   "cell_type": "markdown",
   "id": "1bf6c4ea-b99b-42a9-9fc8-4f5290b83b7b",
   "metadata": {},
   "source": [
    "# Set class\n",
    "Here, we want to build our own set class. The behaviour will be such that, given an instance of Set, we will need to be able to add items to it, remove items from it, and check wether it contains a certain value. We will create all of these member functions, which means we will access them with a dot after the set object."
   ]
  },
  {
   "cell_type": "code",
   "execution_count": 4,
   "id": "b0b6d8e0-403f-4f69-9cdc-6708dbf76e65",
   "metadata": {},
   "outputs": [],
   "source": [
    "# by convention, classes are named using PascalCase names\n",
    "class Set:\n",
    "    # these are the member functions\n",
    "    # every one takes a first value of self (another convention)\n",
    "    # that refers to the particular Set object being used\n",
    "    def __init__(self, values=None):\n",
    "        \"\"\" this is the constructor.\n",
    "        It gets called when you create a new Set.\n",
    "        You would use it like this:\n",
    "        my_first_set = Set() # empty set\n",
    "        my_second_set = Set([1,2,3,4,5]) # initialise with values\n",
    "        \"\"\" \n",
    "        self.dict = {} # each instance of Set has its own dict property which is what we will use to track membership\n",
    "        if values is not None:\n",
    "            for value in values:\n",
    "                self.add(value)\n",
    "        \n",
    "    def __repr__(self):\n",
    "        \"\"\"This is the string representative of a Set object\n",
    "        if you type it at the Python prompt or pass it to str()\"\"\"\n",
    "        return \"Set: \" + str(self.dict.keys())\n",
    "    \n",
    "    # we will represent membership by being a key in self.dict with value True\n",
    "    def add(self,val):\n",
    "        print(\"Adding \" + str(val))\n",
    "        self.dict[val] = True\n",
    "        \n",
    "    # value is in the Set if it is a key in the dictionary\n",
    "    def contains(self, val):\n",
    "        return val in self.dict\n",
    "    \n",
    "    # we will remove an element in the set using del\n",
    "    def remove(self, val):\n",
    "        print(\"Removing \" + str(val))\n",
    "        del self.dict[val]\n",
    "        "
   ]
  },
  {
   "cell_type": "code",
   "execution_count": 7,
   "id": "dcf679aa-13b9-421c-bb49-9da9bdc8a288",
   "metadata": {},
   "outputs": [
    {
     "name": "stdout",
     "output_type": "stream",
     "text": [
      "Adding 1\n",
      "Adding 2\n",
      "Adding 3\n",
      "Set: dict_keys([1, 2, 3])\n",
      "Adding 4\n",
      "Set: dict_keys([1, 3, 4])\n",
      "False\n",
      "True\n"
     ]
    }
   ],
   "source": [
    "# we can then use the Set class as so\n",
    "my_first_set = Set([1,2,3])\n",
    "print(my_first_set)\n",
    "my_first_set.add(4)\n",
    "my_first_set.remove(2)\n",
    "print(my_first_set)\n",
    "print(my_first_set.contains(5))\n",
    "print(my_first_set.contains(3))"
   ]
  },
  {
   "cell_type": "code",
   "execution_count": null,
   "id": "f523a23a-cd94-431b-877c-2811d8fc15b7",
   "metadata": {},
   "outputs": [],
   "source": []
  }
 ],
 "metadata": {
  "kernelspec": {
   "display_name": "Python 3",
   "language": "python",
   "name": "python3"
  },
  "language_info": {
   "codemirror_mode": {
    "name": "ipython",
    "version": 3
   },
   "file_extension": ".py",
   "mimetype": "text/x-python",
   "name": "python",
   "nbconvert_exporter": "python",
   "pygments_lexer": "ipython3",
   "version": "3.9.2"
  }
 },
 "nbformat": 4,
 "nbformat_minor": 5
}
