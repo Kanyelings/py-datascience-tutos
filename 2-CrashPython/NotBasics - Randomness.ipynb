{
 "cells": [
  {
   "cell_type": "code",
   "execution_count": 7,
   "id": "12447313-e686-4af3-93ea-5ac0c7538bfe",
   "metadata": {},
   "outputs": [
    {
     "name": "stdout",
     "output_type": "stream",
     "text": [
      "[0.024286800040055123, 0.22350768581280722, 0.19697139257717244, 0.7255724014194621]\n"
     ]
    }
   ],
   "source": [
    "# in data science, we will frequently need to generate random numbers, which we can do with the random module\n",
    "import random\n",
    "four_uniform_randoms = [random.random() for _ in range(4)]\n",
    "print(four_uniform_randoms)\n",
    "\n",
    "# random.random() produces the random numbers uniformly between 0 and 1\n",
    "# it is the random function we will use often"
   ]
  },
  {
   "cell_type": "code",
   "execution_count": 10,
   "id": "19bf0ff0-3c3d-4314-be7d-ff66dcb394fa",
   "metadata": {},
   "outputs": [
    {
     "name": "stdout",
     "output_type": "stream",
     "text": [
      "0.6229016948897019\n",
      "0.6229016948897019\n",
      "0.5714025946899135\n"
     ]
    }
   ],
   "source": [
    "# the random module actually produces pseudorandom numbers based on an internal\n",
    "# state that you can set with random.seed if you want to get reproducible results\n",
    "random.seed(5)\n",
    "print(random.random())\n",
    "random.seed(5)\n",
    "print(random.random())\n",
    "random.seed(10)\n",
    "print(random.random())"
   ]
  },
  {
   "cell_type": "code",
   "execution_count": 12,
   "id": "aae69686-f5af-4ae1-b10e-17923ce204e2",
   "metadata": {},
   "outputs": [
    {
     "name": "stdout",
     "output_type": "stream",
     "text": [
      "9\n",
      "-5\n"
     ]
    }
   ],
   "source": [
    "# to get a random number within a particular range, we will use random.randrange\n",
    "exmp1 = random.randrange(10)\n",
    "exmp2 = random.randrange(-5,5)\n",
    "print(exmp1)\n",
    "print(exmp2)"
   ]
  },
  {
   "cell_type": "code",
   "execution_count": 21,
   "id": "5a01f048-9d29-489a-bdee-72a8d574c182",
   "metadata": {},
   "outputs": [
    {
     "name": "stdout",
     "output_type": "stream",
     "text": [
      "[2, 5, 7, 9, 0, 8, 10, 6, 1, 4, 3]\n"
     ]
    }
   ],
   "source": [
    "# random.shuffle randomly reorders the elements in a list\n",
    "up_to_ten = [x for x in range(10+1)]\n",
    "random.shuffle(up_to_ten)\n",
    "print(up_to_ten)"
   ]
  },
  {
   "cell_type": "code",
   "execution_count": 30,
   "id": "26d371a0-0cee-4e18-9b2d-d49fe089b3a4",
   "metadata": {},
   "outputs": [
    {
     "name": "stdout",
     "output_type": "stream",
     "text": [
      "Kanye\n"
     ]
    }
   ],
   "source": [
    "# to randomly pick one element from a list, you can use random.choice\n",
    "my_names = [\"Elroy\", \"Vince\", \"Kanye\", \"Kimbi\", \"Ankelmbom\", \"Y'Chia\"]\n",
    "my_best_name = random.choice(my_names)\n",
    "print(my_best_name)"
   ]
  },
  {
   "cell_type": "code",
   "execution_count": 35,
   "id": "616ba7e2-d0b7-45ef-86fc-dc126d9e4531",
   "metadata": {},
   "outputs": [
    {
     "name": "stdout",
     "output_type": "stream",
     "text": [
      "[12, 10, 19, 18, 40]\n"
     ]
    }
   ],
   "source": [
    "# to randomly choose a sample of elements without replacement, you can use random.simple\n",
    "lottery_numbers = range(50)\n",
    "winning_numbers = random.sample(lottery_numbers, 5)\n",
    "print(winning_numbers)"
   ]
  },
  {
   "cell_type": "code",
   "execution_count": 44,
   "id": "608af878-3ad8-46cf-ad04-32c4e10d7467",
   "metadata": {},
   "outputs": [
    {
     "name": "stdout",
     "output_type": "stream",
     "text": [
      "[6, 7, 2, 3]\n"
     ]
    }
   ],
   "source": [
    "# to choose a sample of elements with replacement, you can use multiple calls to random.choice\n",
    "four_with_repl = [random.choice(range(10)) \n",
    "                  for _ in range(4)]\n",
    "print(four_with_repl)"
   ]
  },
  {
   "cell_type": "code",
   "execution_count": null,
   "id": "f170a7f5-19f8-419d-9c89-7dea2d284c53",
   "metadata": {},
   "outputs": [],
   "source": []
  }
 ],
 "metadata": {
  "kernelspec": {
   "display_name": "Python 3",
   "language": "python",
   "name": "python3"
  },
  "language_info": {
   "codemirror_mode": {
    "name": "ipython",
    "version": 3
   },
   "file_extension": ".py",
   "mimetype": "text/x-python",
   "name": "python",
   "nbconvert_exporter": "python",
   "pygments_lexer": "ipython3",
   "version": "3.9.2"
  }
 },
 "nbformat": 4,
 "nbformat_minor": 5
}
