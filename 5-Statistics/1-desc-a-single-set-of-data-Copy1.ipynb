{
 "cells": [
  {
   "cell_type": "markdown",
   "id": "314911a7-e46b-4817-8d72-98759f650a3b",
   "metadata": {},
   "source": [
    "from collections import Counter\n",
    "import matplotlib.pyplot as plt\n",
    "import random# Statistics\n",
    "When working with small sets of data, it is easy to show and explain the data in a simple structure such as a list.\n",
    "For a much larger dataset, it becomes unweildy and strainous. For this reason, we use statistics to distill and communicate relevant featues of our data.\n",
    "\n",
    "Through a combination of word-of-mouth and luck, DataSciencester has grown to dozens of members, and the VP of Fundraising asks you for some sort of description of how many friends your members have that he can include in his elevator pitches."
   ]
  },
  {
   "cell_type": "code",
   "execution_count": 1,
   "id": "01dd2984-6757-4f4f-9744-53588e798c5b",
   "metadata": {},
   "outputs": [],
   "source": [
    "from collections import Counter\n",
    "import matplotlib.pyplot as plt\n",
    "import random"
   ]
  },
  {
   "cell_type": "code",
   "execution_count": 13,
   "id": "e342d7b3-55ea-46da-b216-6c6a6a6cb472",
   "metadata": {},
   "outputs": [],
   "source": [
    "# generate a random number of friends\n",
    "def generate_rand_friends(n,k):\n",
    "    random.seed(k)\n",
    "    return [int(100* random.random()) for x in range(n)]\n",
    "# print(generate_rand_friends(1000,3))"
   ]
  },
  {
   "cell_type": "code",
   "execution_count": 3,
   "id": "57002639-a828-4e0f-bd2b-10c1a3f6b909",
   "metadata": {
    "tags": []
   },
   "outputs": [
    {
     "data": {
      "text/plain": [
       "Text(0, 0.5, '# of people')"
      ]
     },
     "execution_count": 3,
     "metadata": {},
     "output_type": "execute_result"
    },
    {
     "data": {
      "image/png": "[encoded data removed]",
      "text/plain": [
       "<Figure size 432x288 with 1 Axes>"
      ]
     },
     "metadata": {
      "needs_background": "light"
     },
     "output_type": "display_data"
    }
   ],
   "source": [
    "num_friends = generate_rand_friends(1000,5)\n",
    "# first , we put the friend data into a histogram using Counter and plt.bar\n",
    "friend_counts = Counter(num_friends)\n",
    "xs = range(100)\n",
    "ys = [friend_counts[x] for x in xs]\n",
    "plt.bar(xs,ys)\n",
    "plt.title(\"Histogram of Friend Counts\")\n",
    "plt.axis([0,101,0,25])\n",
    "plt.xlabel(\"# of friends\")\n",
    "plt.ylabel(\"# of people\")"
   ]
  },
  {
   "cell_type": "code",
   "execution_count": 4,
   "id": "60c37c71-0f24-43bb-93ce-b5a7c7976cde",
   "metadata": {},
   "outputs": [],
   "source": [
    "# lets generating some statistics\n",
    "num_points = len(num_friends)\n",
    "\n",
    "# get largest and smallest value\n",
    "largest_val = max(num_friends)\n",
    "smallest_val = min(num_friends)\n",
    "\n",
    "# or\n",
    "sorted_values = sorted(num_friends)\n",
    "smallest_value = sorted_values[0]\n",
    "second_smallest_value = sorted_values[1]\n",
    "second_largest_value = sorted_values[-2]"
   ]
  },
  {
   "cell_type": "markdown",
   "id": "5d0cd1ef-d50b-4944-8d97-a0176a2ef692",
   "metadata": {},
   "source": [
    "### Yo! Hope you are keeping up\n",
    "Cause we only just got started :)"
   ]
  },
  {
   "cell_type": "markdown",
   "id": "53e8952a-bfc3-4e9c-bfd8-f8b44e9da100",
   "metadata": {},
   "source": [
    "## Central Tendencies\n",
    "Usually, we want some notion of where our data is centered. We mostly use mean or average for this, which is just a sum of the the data divided by its count"
   ]
  },
  {
   "cell_type": "code",
   "execution_count": 5,
   "id": "29cc1905-31d9-485c-8301-1bde5f87f388",
   "metadata": {},
   "outputs": [
    {
     "name": "stdout",
     "output_type": "stream",
     "text": [
      "48.609\n"
     ]
    }
   ],
   "source": [
    "def mean(data):\n",
    "    return sum(data)/len(data)\n",
    "num_friends = generate_rand_friends(1000,5)\n",
    "print(mean(num_friends))"
   ]
  },
  {
   "cell_type": "code",
   "execution_count": 6,
   "id": "7bb48e74-1207-4e43-a420-18ea635c2c4f",
   "metadata": {},
   "outputs": [
    {
     "name": "stdout",
     "output_type": "stream",
     "text": [
      "3.5\n",
      "48.5\n"
     ]
    }
   ],
   "source": [
    "# also, we may need the median\n",
    "def median(data):\n",
    "    data = sorted(data)\n",
    "    if(len(data) % 2 == 0):\n",
    "        return (data[len(data)//2]\n",
    "                + data[len(data)//2]+1)/2\n",
    "    else:\n",
    "        return data[int(len(data)/2)]\n",
    "print(median([1,2,3,4]))\n",
    "print(median(num_friends))"
   ]
  },
  {
   "cell_type": "code",
   "execution_count": 7,
   "id": "3ff29bbf-ed95-4e7b-9bf8-9567da1f336a",
   "metadata": {},
   "outputs": [],
   "source": [
    "def quantile(x,p):\n",
    "    p_index = int(p*len(x))\n",
    "    return sorted(x)[p_index]"
   ]
  },
  {
   "cell_type": "code",
   "execution_count": 8,
   "id": "9376fc1a-bc80-4f7b-b8d9-e323be9f1dc2",
   "metadata": {},
   "outputs": [
    {
     "name": "stdout",
     "output_type": "stream",
     "text": [
      "8\n",
      "24\n",
      "48\n",
      "73\n",
      "91\n"
     ]
    }
   ],
   "source": [
    "print(quantile(num_friends, 0.10))\n",
    "print(quantile(num_friends, 0.25))\n",
    "print(quantile(num_friends, 0.50))\n",
    "print(quantile(num_friends, 0.75))\n",
    "print(quantile(num_friends, 0.90))"
   ]
  },
  {
   "cell_type": "code",
   "execution_count": 12,
   "id": "52a33a8f-97d3-4f93-8f4e-060d68688d07",
   "metadata": {},
   "outputs": [
    {
     "name": "stdout",
     "output_type": "stream",
     "text": [
      "62\n"
     ]
    }
   ],
   "source": [
    "# less commonly, you may want to look at the node or the most common value\n",
    "def mode(data):\n",
    "    the_counter = Counter(data)\n",
    "    the_mode = 0\n",
    "    for key in the_counter.keys():\n",
    "        if the_counter.get(key) > the_mode:\n",
    "            the_mode = key\n",
    "    return the_mode\n",
    "print(mode(num_friends))\n",
    "#for item in sorted(Counter(num_friends).items()): print(item)"
   ]
  },
  {
   "cell_type": "code",
   "execution_count": null,
   "id": "5005f959-2585-4c46-b4b5-83df82217719",
   "metadata": {},
   "outputs": [],
   "source": []
  }
 ],
 "metadata": {
  "kernelspec": {
   "display_name": "Python 3",
   "language": "python",
   "name": "python3"
  },
  "language_info": {
   "codemirror_mode": {
    "name": "ipython",
    "version": 3
   },
   "file_extension": ".py",
   "mimetype": "text/x-python",
   "name": "python",
   "nbconvert_exporter": "python",
   "pygments_lexer": "ipython3",
   "version": "3.9.2"
  }
 },
 "nbformat": 4,
 "nbformat_minor": 5
}
