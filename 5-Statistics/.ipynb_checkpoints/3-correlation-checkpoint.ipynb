{
 "cells": [
  {
   "cell_type": "markdown",
   "id": "6ac3dd6c-c63b-44ac-8fc2-1089473e6568",
   "metadata": {},
   "source": [
    "# Correlation\n",
    "## Covariance\n",
    "Let us look at covariance. Where the variance measures how a single variable deviates from its mean, covariance measures how two variables vary in tandem from their means"
   ]
  },
  {
   "cell_type": "code",
   "execution_count": 13,
   "id": "759cdc7f-5119-4d31-ad13-78e2da27cc44",
   "metadata": {},
   "outputs": [],
   "source": [
    "import kanyevect as kvec\n",
    "import descsingleds as kdesc\n",
    "import math\n",
    "import random\n",
    "import kanyedispersion as kdisp"
   ]
  },
  {
   "cell_type": "code",
   "execution_count": 19,
   "id": "c5d33eeb-cad3-41f6-bb09-70e8574c93cf",
   "metadata": {},
   "outputs": [],
   "source": [
    "def generate_rand_mins(n,s):\n",
    "    random.seed(s)\n",
    "    return [int(1440*random.random()) for x in range(n)]"
   ]
  },
  {
   "cell_type": "code",
   "execution_count": 22,
   "id": "8ea7cbe3-c411-45f8-848a-cef7f061a937",
   "metadata": {},
   "outputs": [
    {
     "data": {
      "text/plain": [
       "36.859492826159496"
      ]
     },
     "execution_count": 22,
     "metadata": {},
     "output_type": "execute_result"
    }
   ],
   "source": [
    "num_friends = kdesc.generate_rand_friends(1000,5)\n",
    "daily_minutes = generate_rand_mins(60,5)\n",
    "def covariance(x, y):\n",
    "    n = len(x)\n",
    "    return kvec.dot_product(kdisp.de_mean(x), kdisp.de_mean(y))/(n-1)\n",
    "covariance(num_friends, daily_minutes)"
   ]
  },
  {
   "cell_type": "code",
   "execution_count": 27,
   "id": "e721c155-f8a3-4db7-9dd0-da5ba6ac7f9f",
   "metadata": {},
   "outputs": [
    {
     "data": {
      "text/plain": [
       "0.06539830022343203"
      ]
     },
     "execution_count": 27,
     "metadata": {},
     "output_type": "execute_result"
    }
   ],
   "source": [
    "# lets look now at correlation which divides out the standard deviations of both vars\n",
    "def correlation(x, y):\n",
    "    stdev_x = kdisp.standard_deviation(x)\n",
    "    stdev_y = kdisp.standard_deviation(y)\n",
    "    if(stdev_x > 0 and stdev_y > 0):\n",
    "        return covariance(x,y)/stdev_x/stdev_y\n",
    "    else:\n",
    "        return 0 # if no variation, correlation is zero\n",
    "correlation(num_friends, daily_minutes)"
   ]
  },
  {
   "cell_type": "code",
   "execution_count": null,
   "id": "45e28f80-9059-484d-ad65-0e597aa1d33b",
   "metadata": {},
   "outputs": [],
   "source": []
  }
 ],
 "metadata": {
  "kernelspec": {
   "display_name": "Python 3",
   "language": "python",
   "name": "python3"
  },
  "language_info": {
   "codemirror_mode": {
    "name": "ipython",
    "version": 3
   },
   "file_extension": ".py",
   "mimetype": "text/x-python",
   "name": "python",
   "nbconvert_exporter": "python",
   "pygments_lexer": "ipython3",
   "version": "3.9.2"
  }
 },
 "nbformat": 4,
 "nbformat_minor": 5
}
