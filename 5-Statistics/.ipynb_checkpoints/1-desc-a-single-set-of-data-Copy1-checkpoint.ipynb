{
 "cells": [
  {
   "cell_type": "markdown",
   "id": "314911a7-e46b-4817-8d72-98759f650a3b",
   "metadata": {},
   "source": [
    "# Statistics\n",
    "When working with small sets of data, it is easy to show and explain the data in a simple structure such as a list.\n",
    "For a much larger dataset, it becomes unweildy and strainous. For this reason, we use statistics to distill and communicate relevant featues of our data.\n",
    "\n",
    "Through a combination of word-of-mouth and luck, DataSciencester has grown to dozens of members, and the VP of Fundraising asks you for some sort of description of how many friends your members have that he can include in his elevator pitches."
   ]
  },
  {
   "cell_type": "code",
   "execution_count": 3,
   "id": "01dd2984-6757-4f4f-9744-53588e798c5b",
   "metadata": {},
   "outputs": [],
   "source": [
    "from collections import Counter\n",
    "import matplotlib.pyplot as plt\n",
    "import random"
   ]
  },
  {
   "cell_type": "code",
   "execution_count": 31,
   "id": "e342d7b3-55ea-46da-b216-6c6a6a6cb472",
   "metadata": {},
   "outputs": [
    {
     "name": "stdout",
     "output_type": "stream",
     "text": [
      "[23, 54, 36, 60, 62, 6, 1, 83, 25, 23, 99, 47, 83, 47, 63, 15, 63, 86, 52, 74, 67, 6, 75, 59, 30, 3, 86, 47, 71, 87, 71, 92, 39, 80, 44, 93, 87, 9, 13, 21, 96, 43, 62, 30, 50, 38, 35, 58, 58, 90, 68, 92, 85, 99, 67, 16, 86, 96, 90, 56, 71, 21, 83, 57, 28, 6, 85, 98, 8, 80, 41, 15, 29, 76, 87, 4, 61, 4, 71, 33, 88, 98, 50, 99, 30, 7, 59, 3, 19, 40, 61, 15, 4, 86, 31, 95, 89, 37, 46, 52, 64, 59, 55, 62, 94, 50, 43, 72, 23, 30, 97, 52, 54, 1, 41, 57, 2, 61, 63, 6, 62, 46, 67, 35, 70, 73, 2, 6, 67, 96, 25, 45, 59, 32, 36, 31, 36, 59, 30, 37, 77, 2, 56, 73, 31, 22, 80, 23, 18, 43, 69, 10, 32, 33, 83, 43, 85, 16, 33, 65, 88, 45, 22, 12, 52, 19, 80, 83, 18, 27, 80, 64, 80, 34, 12, 29, 79, 27, 34, 41, 41, 40, 92, 15, 0, 94, 87, 98, 43, 95, 92, 22, 74, 83, 66, 51, 28, 34, 22, 6, 58, 28, 81, 4, 90, 69, 92, 89, 89, 57, 1, 74, 17, 29, 66, 52, 41, 93, 61, 34, 25, 86, 47, 78, 35, 19, 53, 81, 17, 79, 92, 80, 82, 0, 62, 86, 4, 27, 26, 52, 42, 47, 77, 0, 5, 12, 12, 6, 97, 85, 8, 50, 31, 31, 35, 64, 58, 36, 19, 32, 12, 55, 71, 38, 7, 17, 37, 60, 78, 38, 80, 62, 43, 37, 49, 70, 42, 69, 46, 24, 53, 69, 7, 42, 42, 87, 93, 37, 89, 79, 26, 46, 12, 81, 66, 88, 79, 66, 73, 56, 10, 58, 0, 14, 77, 4, 9, 9, 88, 17, 2, 84, 12, 84, 67, 83, 95, 57, 79, 3, 76, 51, 71, 10, 74, 93, 6, 32, 56, 82, 24, 17, 24, 61, 75, 39, 36, 39, 35, 41, 8, 50, 97, 41, 74, 16, 69, 75, 67, 51, 48, 64, 89, 14, 9, 74, 91, 51, 44, 71, 18, 26, 19, 58, 31, 23, 69, 95, 29, 70, 41, 85, 58, 26, 21, 2, 47, 38, 17, 36, 32, 77, 14, 99, 47, 59, 46, 83, 82, 55, 48, 72, 85, 40, 73, 96, 46, 22, 23, 71, 67, 95, 85, 24, 18, 25, 18, 70, 85, 89, 25, 86, 31, 42, 72, 8, 9, 83, 29, 35, 58, 67, 0, 33, 43, 48, 21, 58, 95, 39, 54, 11, 27, 66, 11, 88, 90, 9, 94, 37, 77, 75, 29, 67, 65, 80, 26, 75, 96, 67, 53, 11, 49, 35, 71, 67, 56, 18, 64, 63, 17, 88, 65, 12, 93, 14, 33, 72, 59, 55, 64, 45, 31, 17, 6, 71, 75, 54, 73, 35, 26, 38, 87, 4, 50, 24, 76, 35, 33, 40, 54, 77, 35, 84, 11, 27, 9, 11, 77, 72, 18, 18, 41, 74, 81, 74, 59, 14, 39, 19, 52, 56, 20, 25, 78, 3, 80, 89, 94, 38, 55, 58, 63, 97, 68, 29, 86, 48, 60, 72, 0, 77, 66, 49, 52, 46, 19, 52, 3, 50, 64, 44, 56, 95, 89, 13, 79, 62, 5, 35, 23, 7, 53, 92, 32, 87, 69, 13, 85, 60, 92, 71, 73, 34, 80, 93, 86, 43, 75, 48, 10, 4, 7, 20, 16, 49, 69, 53, 42, 64, 30, 46, 75, 40, 18, 89, 71, 36, 37, 52, 59, 22, 0, 20, 78, 14, 45, 19, 20, 17, 40, 16, 2, 11, 16, 49, 5, 2, 44, 40, 70, 5, 40, 39, 2, 96, 21, 9, 47, 16, 62, 34, 12, 5, 72, 27, 78, 46, 93, 30, 24, 26, 81, 62, 34, 9, 68, 96, 59, 0, 3, 9, 17, 3, 5, 65, 90, 20, 97, 47, 80, 91, 94, 3, 30, 60, 94, 8, 29, 84, 11, 38, 33, 68, 92, 17, 73, 73, 83, 55, 92, 36, 41, 22, 77, 48, 26, 16, 72, 60, 71, 38, 48, 15, 71, 2, 46, 75, 67, 9, 23, 84, 64, 87, 87, 44, 89, 73, 33, 37, 7, 39, 95, 10, 56, 11, 8, 64, 24, 4, 15, 64, 58, 1, 22, 96, 22, 56, 41, 78, 60, 78, 53, 18, 17, 7, 82, 11, 2, 96, 19, 89, 8, 46, 22, 82, 61, 64, 76, 87, 34, 60, 44, 11, 83, 59, 81, 20, 53, 46, 72, 7, 34, 48, 7, 55, 73, 42, 64, 60, 21, 35, 99, 33, 43, 8, 21, 16, 93, 72, 87, 98, 61, 93, 53, 41, 94, 90, 94, 48, 77, 40, 99, 92, 29, 93, 18, 9, 72, 29, 51, 63, 4, 74, 27, 43, 34, 74, 74, 28, 10, 29, 41, 7, 15, 76, 70, 97, 97, 87, 37, 16, 31, 46, 52, 54, 35, 85, 28, 46, 88, 80, 29, 24, 80, 1, 13, 53, 53, 16, 5, 20, 76, 46, 97, 78, 97, 3, 18, 1, 43, 33, 5, 54, 9, 31, 24, 80, 41, 26, 4, 42, 62, 67, 91, 80, 24, 13, 75, 78, 50, 83, 55, 27, 16, 1, 64, 89, 90, 46, 66, 92, 81, 60, 41, 51, 17, 18, 68, 99, 54, 40, 35, 45, 80, 45, 95, 15, 31, 52, 41, 85, 82, 93, 61, 3, 57, 54, 48, 27, 70, 91, 10, 66, 37, 51, 89, 96, 64, 19, 92, 18, 38, 82, 31, 27, 94, 94, 31, 39, 28, 13, 25, 98, 7, 22, 19, 7, 52, 74, 83, 63, 81, 0, 28, 96, 6, 26, 48, 26, 54, 4, 23, 95, 14, 90, 17, 99, 67, 64, 14, 5, 75, 17, 18, 82, 87, 4, 96, 53, 38, 10, 38, 98, 28, 13, 14, 12, 35, 91, 7, 19, 93, 99, 97, 24, 35, 95, 48, 70, 31, 2, 34, 74, 78, 56, 46, 53, 44, 53, 83, 20, 59, 93, 84, 17, 96, 84, 16, 26]\n"
     ]
    }
   ],
   "source": [
    "# generate a random number of friends\n",
    "def generate_rand_friends(n,k):\n",
    "    random.seed(k)\n",
    "    return [int(100* random.random()) for x in range(n)]\n",
    "print(generate_rand_friends(1000,3))"
   ]
  },
  {
   "cell_type": "code",
   "execution_count": 55,
   "id": "57002639-a828-4e0f-bd2b-10c1a3f6b909",
   "metadata": {
    "tags": []
   },
   "outputs": [
    {
     "data": {
      "text/plain": [
       "Text(0, 0.5, '# of people')"
      ]
     },
     "execution_count": 55,
     "metadata": {},
     "output_type": "execute_result"
    },
    {
     "data": {
      "image/png": "[encoded data removed]",
      "text/plain": [
       "<Figure size 432x288 with 1 Axes>"
      ]
     },
     "metadata": {
      "needs_background": "light"
     },
     "output_type": "display_data"
    }
   ],
   "source": [
    "num_friends = generate_rand_friends(1000,5)\n",
    "# first , we put the friend data into a histogram using Counter and plt.bar\n",
    "friend_counts = Counter(num_friends)\n",
    "xs = range(100)\n",
    "ys = [friend_counts[x] for x in xs]\n",
    "plt.bar(xs,ys)\n",
    "plt.title(\"Histogram of Friend Counts\")\n",
    "plt.axis([0,101,0,25])\n",
    "plt.xlabel(\"# of friends\")\n",
    "plt.ylabel(\"# of people\")"
   ]
  },
  {
   "cell_type": "code",
   "execution_count": 52,
   "id": "60c37c71-0f24-43bb-93ce-b5a7c7976cde",
   "metadata": {},
   "outputs": [],
   "source": [
    "# lets generating some statistics\n",
    "num_points = len(num_friends)\n",
    "\n",
    "# get largest and smallest value\n",
    "largest_val = max(num_friends)\n",
    "smallest_val = min(num_friends)\n",
    "\n",
    "# or\n",
    "sorted_values = sorted(num_friends)\n",
    "smallest_value = sorted_values[0]\n",
    "second_smallest_value = sorted_values[1]\n",
    "second_largest_value = sorted_values[-2]"
   ]
  },
  {
   "cell_type": "markdown",
   "id": "5d0cd1ef-d50b-4944-8d97-a0176a2ef692",
   "metadata": {},
   "source": [
    "### Yo! Hope you are keeping up\n",
    "Cause we only just got started :)"
   ]
  },
  {
   "cell_type": "markdown",
   "id": "53e8952a-bfc3-4e9c-bfd8-f8b44e9da100",
   "metadata": {},
   "source": [
    "## Central Tendencies\n",
    "Usually, we want some notion of where our data is centered. We mostly use mean or average for this, which is just a sum of the the data divided by its count"
   ]
  },
  {
   "cell_type": "code",
   "execution_count": 16,
   "id": "29cc1905-31d9-485c-8301-1bde5f87f388",
   "metadata": {},
   "outputs": [
    {
     "name": "stdout",
     "output_type": "stream",
     "text": [
      "48.66\n"
     ]
    }
   ],
   "source": [
    "def mean(data):\n",
    "    return sum(data)/len(data)\n",
    "num_friends = generate_rand_friends(1000,5)\n",
    "print(mean(num_friends))"
   ]
  },
  {
   "cell_type": "code",
   "execution_count": 29,
   "id": "7bb48e74-1207-4e43-a420-18ea635c2c4f",
   "metadata": {},
   "outputs": [
    {
     "name": "stdout",
     "output_type": "stream",
     "text": [
      "3.5\n",
      "48.5\n"
     ]
    }
   ],
   "source": [
    "# also, we may need the median\n",
    "def median(data):\n",
    "    data = sorted(data)\n",
    "    if(len(data) % 2 == 0):\n",
    "        return (data[len(data)//2]\n",
    "                + data[len(data)//2]+1)/2\n",
    "    else:\n",
    "        return data[int(len(data)/2)]\n",
    "print(median([1,2,3,4]))\n",
    "print(median(num_friends))"
   ]
  },
  {
   "cell_type": "code",
   "execution_count": 42,
   "id": "3ff29bbf-ed95-4e7b-9bf8-9567da1f336a",
   "metadata": {},
   "outputs": [],
   "source": [
    "def quantile(x,p):\n",
    "    p_index = int(p*len(x))\n",
    "    return sorted(x)[p_index]"
   ]
  },
  {
   "cell_type": "code",
   "execution_count": 44,
   "id": "9376fc1a-bc80-4f7b-b8d9-e323be9f1dc2",
   "metadata": {},
   "outputs": [
    {
     "name": "stdout",
     "output_type": "stream",
     "text": [
      "8\n",
      "23\n",
      "48\n",
      "74\n",
      "91\n"
     ]
    }
   ],
   "source": [
    "print(quantile(num_friends, 0.10))\n",
    "print(quantile(num_friends, 0.25))\n",
    "print(quantile(num_friends, 0.50))\n",
    "print(quantile(num_friends, 0.75))\n",
    "print(quantile(num_friends, 0.90))"
   ]
  },
  {
   "cell_type": "code",
   "execution_count": 54,
   "id": "52a33a8f-97d3-4f93-8f4e-060d68688d07",
   "metadata": {},
   "outputs": [
    {
     "name": "stdout",
     "output_type": "stream",
     "text": [
      "62\n",
      "(0, 14)\n",
      "(1, 12)\n",
      "(2, 12)\n",
      "(3, 16)\n",
      "(4, 10)\n",
      "(5, 18)\n",
      "(6, 12)\n",
      "(7, 11)\n",
      "(8, 10)\n",
      "(9, 14)\n",
      "(10, 12)\n",
      "(11, 12)\n",
      "(12, 6)\n",
      "(13, 15)\n",
      "(14, 13)\n",
      "(15, 12)\n",
      "(16, 15)\n",
      "(17, 8)\n",
      "(18, 7)\n",
      "(19, 9)\n",
      "(20, 10)\n",
      "(21, 11)\n",
      "(22, 6)\n",
      "(23, 12)\n",
      "(24, 11)\n",
      "(25, 7)\n",
      "(26, 10)\n",
      "(27, 12)\n",
      "(28, 12)\n",
      "(29, 17)\n",
      "(30, 11)\n",
      "(31, 18)\n",
      "(32, 2)\n",
      "(33, 11)\n",
      "(34, 8)\n",
      "(35, 13)\n",
      "(36, 14)\n",
      "(37, 19)\n",
      "(38, 15)\n",
      "(39, 8)\n",
      "(40, 8)\n",
      "(41, 9)\n",
      "(42, 12)\n",
      "(43, 9)\n",
      "(44, 8)\n",
      "(45, 9)\n",
      "(46, 11)\n",
      "(47, 14)\n",
      "(48, 15)\n",
      "(49, 11)\n",
      "(50, 5)\n",
      "(51, 9)\n",
      "(52, 7)\n",
      "(53, 11)\n",
      "(54, 14)\n",
      "(55, 6)\n",
      "(56, 8)\n",
      "(57, 12)\n",
      "(58, 8)\n",
      "(59, 14)\n",
      "(60, 8)\n",
      "(61, 16)\n",
      "(62, 15)\n",
      "(63, 7)\n",
      "(64, 14)\n",
      "(65, 6)\n",
      "(66, 9)\n",
      "(67, 11)\n",
      "(68, 12)\n",
      "(69, 11)\n",
      "(70, 11)\n",
      "(71, 10)\n",
      "(72, 11)\n",
      "(73, 13)\n",
      "(74, 12)\n",
      "(75, 13)\n",
      "(76, 10)\n",
      "(77, 10)\n",
      "(78, 12)\n",
      "(79, 13)\n",
      "(80, 3)\n",
      "(81, 14)\n",
      "(82, 11)\n",
      "(83, 10)\n",
      "(84, 9)\n",
      "(85, 8)\n",
      "(86, 3)\n",
      "(87, 9)\n",
      "(88, 7)\n",
      "(89, 13)\n",
      "(90, 6)\n",
      "(91, 16)\n",
      "(92, 15)\n",
      "(93, 11)\n",
      "(94, 17)\n",
      "(95, 13)\n",
      "(96, 13)\n",
      "(97, 15)\n",
      "(98, 12)\n",
      "(99, 6)\n"
     ]
    }
   ],
   "source": [
    "# less commonly, you may want to look at the node or the most common value\n",
    "def mode(data):\n",
    "    the_counter = Counter(data)\n",
    "    the_mode = 0\n",
    "    for key in the_counter.keys():\n",
    "        if the_counter.get(key) > the_mode:\n",
    "            the_mode = key\n",
    "    return the_mode\n",
    "print(mode(num_friends))\n",
    "for item in sorted(Counter(num_friends).items()): print(item)"
   ]
  },
  {
   "cell_type": "markdown",
   "id": "d0388d95-b9be-4e85-900c-93d8b0272fe5",
   "metadata": {},
   "source": [
    "## Dispersion\n",
    "This refers to measures of how spread out our data is. Typically, they are statistics for which values near zero signify not spread out at all and for which large values signify very spread out.\n",
    "For your example, a simple measure is the range, which is just the difference between the largest and smallest elements.\n"
   ]
  },
  {
   "cell_type": "code",
   "execution_count": 1,
   "id": "b7233eb3-9ed1-48d1-9a90-d951f8deadc0",
   "metadata": {},
   "outputs": [
    {
     "ename": "NameError",
     "evalue": "name 'num_friends' is not defined",
     "output_type": "error",
     "traceback": [
      "\u001b[0;31m---------------------------------------------------------------------------\u001b[0m",
      "\u001b[0;31mNameError\u001b[0m                                 Traceback (most recent call last)",
      "\u001b[0;32m<ipython-input-1-a5ba00898ab6>\u001b[0m in \u001b[0;36m<module>\u001b[0;34m\u001b[0m\n\u001b[1;32m      2\u001b[0m \u001b[0;32mdef\u001b[0m \u001b[0mdata_range\u001b[0m\u001b[0;34m(\u001b[0m\u001b[0mx\u001b[0m\u001b[0;34m)\u001b[0m\u001b[0;34m:\u001b[0m\u001b[0;34m\u001b[0m\u001b[0;34m\u001b[0m\u001b[0m\n\u001b[1;32m      3\u001b[0m     \u001b[0;32mreturn\u001b[0m \u001b[0mmax\u001b[0m\u001b[0;34m(\u001b[0m\u001b[0mx\u001b[0m\u001b[0;34m)\u001b[0m \u001b[0;34m-\u001b[0m \u001b[0mmin\u001b[0m\u001b[0;34m(\u001b[0m\u001b[0mx\u001b[0m\u001b[0;34m)\u001b[0m\u001b[0;34m\u001b[0m\u001b[0;34m\u001b[0m\u001b[0m\n\u001b[0;32m----> 4\u001b[0;31m \u001b[0mdata_range\u001b[0m\u001b[0;34m(\u001b[0m\u001b[0mnum_friends\u001b[0m\u001b[0;34m)\u001b[0m\u001b[0;34m\u001b[0m\u001b[0;34m\u001b[0m\u001b[0m\n\u001b[0m",
      "\u001b[0;31mNameError\u001b[0m: name 'num_friends' is not defined"
     ]
    }
   ],
   "source": [
    "# we will use data range\n",
    "def data_range(x):\n",
    "    return max(x) - min(x)\n",
    "data_range(num_friends)"
   ]
  },
  {
   "cell_type": "code",
   "execution_count": null,
   "id": "8feaac3d-6336-418b-8dde-7c7c1817deb7",
   "metadata": {},
   "outputs": [],
   "source": []
  }
 ],
 "metadata": {
  "kernelspec": {
   "display_name": "Python 3",
   "language": "python",
   "name": "python3"
  },
  "language_info": {
   "codemirror_mode": {
    "name": "ipython",
    "version": 3
   },
   "file_extension": ".py",
   "mimetype": "text/x-python",
   "name": "python",
   "nbconvert_exporter": "python",
   "pygments_lexer": "ipython3",
   "version": "3.9.2"
  }
 },
 "nbformat": 4,
 "nbformat_minor": 5
}
