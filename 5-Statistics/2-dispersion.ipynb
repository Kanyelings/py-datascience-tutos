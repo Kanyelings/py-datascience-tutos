{
 "cells": [
  {
   "cell_type": "markdown",
   "id": "426ea19b-ac70-465d-bc51-1c53ab04c2bb",
   "metadata": {},
   "source": [
    "## Dispersion\n",
    "This refers to measures of how spread out our data is. Typically, they are statistics for which values near zero signify not spread out at all and for which large values signify very spread out.\n",
    "For your example, a simple measure is the range, which is just the difference between the largest and smallest elements.\n"
   ]
  },
  {
   "cell_type": "code",
   "execution_count": 8,
   "id": "ac3278c9-cd5a-4c0c-a7f9-8f9598fe13e4",
   "metadata": {},
   "outputs": [],
   "source": [
    "import kanyevect as kvec\n",
    "import descsingleds as kdesc"
   ]
  },
  {
   "cell_type": "code",
   "execution_count": 11,
   "id": "d5024d2c-ae52-4a75-ba10-da102fe6018f",
   "metadata": {
    "tags": []
   },
   "outputs": [
    {
     "data": {
      "text/plain": [
       "99"
      ]
     },
     "execution_count": 11,
     "metadata": {},
     "output_type": "execute_result"
    }
   ],
   "source": [
    "# we will use data range\n",
    "num_friends = kdesc.generate_rand_friends(1000,5)\n",
    "def data_range(x):\n",
    "    return max(x) - min(x)\n",
    "data_range(num_friends)"
   ]
  },
  {
   "cell_type": "code",
   "execution_count": 12,
   "id": "14fbbfcb-fe44-4313-bbe6-bba2b25d4075",
   "metadata": {},
   "outputs": [],
   "source": [
    "# a more complex measure of dispersion is variance, which is computed as\n",
    "def de_mean(x):\n",
    "    x_bar = mean(x)\n",
    "    return [x_i - x for x_i in x]\n",
    "def variance(x):\n",
    "    n = len(x)\n",
    "    deviations = de_mean(x)\n",
    "    return kdesc.sum_of_squares(deviations)/(n-1)"
   ]
  },
  {
   "cell_type": "code",
   "execution_count": null,
   "id": "dd98402d-f0d2-4fa7-a185-2c4cc3a3c6dc",
   "metadata": {},
   "outputs": [],
   "source": []
  }
 ],
 "metadata": {
  "kernelspec": {
   "display_name": "Python 3",
   "language": "python",
   "name": "python3"
  },
  "language_info": {
   "codemirror_mode": {
    "name": "ipython",
    "version": 3
   },
   "file_extension": ".py",
   "mimetype": "text/x-python",
   "name": "python",
   "nbconvert_exporter": "python",
   "pygments_lexer": "ipython3",
   "version": "3.9.2"
  }
 },
 "nbformat": 4,
 "nbformat_minor": 5
}
