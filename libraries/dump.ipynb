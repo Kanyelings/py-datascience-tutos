{
 "cells": [
  {
   "cell_type": "code",
   "execution_count": 10,
   "id": "4e2744ac-5d92-42ba-9f52-df9b9846a814",
   "metadata": {},
   "outputs": [
    {
     "name": "stdout",
     "output_type": "stream",
     "text": [
      "1001001\n"
     ]
    }
   ],
   "source": [
    "# decimal to binary\n",
    "decimal = 73\n",
    "binary  = \"\"\n",
    "while ( decimal >=0 ):\n",
    "    m = decimal % 2\n",
    "    binary = str(int(m)) + binary\n",
    "    decimal = decimal/2 - (decimal%2)/2\n",
    "    if(decimal == 0): break\n",
    "print(binary)"
   ]
  },
  {
   "cell_type": "code",
   "execution_count": 19,
   "id": "34f2fa5b-0949-4e28-87f1-74e77ab6f965",
   "metadata": {},
   "outputs": [
    {
     "name": "stdout",
     "output_type": "stream",
     "text": [
      "615950611\n"
     ]
    }
   ],
   "source": [
    "# binary to decimal\n",
    "binary = \"100100101101101010100100010011\"\n",
    "decimal = 0\n",
    "\n",
    "i = 0\n",
    "n = len(binary)\n",
    "\n",
    "while (i < n) :\n",
    "    pos = n - i -1\n",
    "    decimal = (int(binary[i]) * (2**pos)) + decimal\n",
    "    i = i + 1\n",
    "print(decimal)"
   ]
  },
  {
   "cell_type": "code",
   "execution_count": null,
   "id": "cfed189b-2028-4500-9c16-6d719da32c5b",
   "metadata": {},
   "outputs": [],
   "source": []
  }
 ],
 "metadata": {
  "kernelspec": {
   "display_name": "Python 3",
   "language": "python",
   "name": "python3"
  },
  "language_info": {
   "codemirror_mode": {
    "name": "ipython",
    "version": 3
   },
   "file_extension": ".py",
   "mimetype": "text/x-python",
   "name": "python",
   "nbconvert_exporter": "python",
   "pygments_lexer": "ipython3",
   "version": "3.9.2"
  }
 },
 "nbformat": 4,
 "nbformat_minor": 5
}
