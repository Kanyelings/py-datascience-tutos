{
 "cells": [
  {
   "cell_type": "markdown",
   "id": "ff2ee61f-262c-4f76-92db-c0638468dc60",
   "metadata": {},
   "source": [
    "# Universal Functions: Fast Element-wise Array Functions\n",
    "A universal function is one that performs element-wise operations on data in ndarrays."
   ]
  },
  {
   "cell_type": "code",
   "execution_count": 2,
   "id": "610be25d-2169-4ad9-93e1-c0878375491e",
   "metadata": {},
   "outputs": [],
   "source": [
    "# imports \n",
    "import numpy as np"
   ]
  },
  {
   "cell_type": "code",
   "execution_count": 4,
   "id": "1e5810d8-f181-4b18-b45d-73b785b34621",
   "metadata": {},
   "outputs": [
    {
     "data": {
      "text/plain": [
       "array([0, 1, 2, 3, 4, 5, 6, 7, 8, 9])"
      ]
     },
     "execution_count": 4,
     "metadata": {},
     "output_type": "execute_result"
    }
   ],
   "source": [
    "arr = np.arange(10)\n",
    "arr"
   ]
  },
  {
   "cell_type": "code",
   "execution_count": 5,
   "id": "2e72d5e8-3b03-4465-8d6b-394a5950d8e6",
   "metadata": {},
   "outputs": [
    {
     "data": {
      "text/plain": [
       "array([0.        , 1.        , 1.41421356, 1.73205081, 2.        ,\n",
       "       2.23606798, 2.44948974, 2.64575131, 2.82842712, 3.        ])"
      ]
     },
     "execution_count": 5,
     "metadata": {},
     "output_type": "execute_result"
    }
   ],
   "source": [
    "# example 1: sqrt\n",
    "np.sqrt(arr)"
   ]
  },
  {
   "cell_type": "code",
   "execution_count": 6,
   "id": "05f6c152-0e02-4091-bcca-345fdd438680",
   "metadata": {},
   "outputs": [
    {
     "data": {
      "text/plain": [
       "array([1.00000000e+00, 2.71828183e+00, 7.38905610e+00, 2.00855369e+01,\n",
       "       5.45981500e+01, 1.48413159e+02, 4.03428793e+02, 1.09663316e+03,\n",
       "       2.98095799e+03, 8.10308393e+03])"
      ]
     },
     "execution_count": 6,
     "metadata": {},
     "output_type": "execute_result"
    }
   ],
   "source": [
    "# example 2: exp\n",
    "np.exp(arr)"
   ]
  },
  {
   "cell_type": "markdown",
   "id": "ab604be5-6ca1-4d15-9b4b-1d87c60c6493",
   "metadata": {},
   "source": [
    "The ones above are known as unary functions.\n",
    "The following such as add or maximum take two arrays and return a single array as the result: binary ufuncs"
   ]
  },
  {
   "cell_type": "code",
   "execution_count": 9,
   "id": "d7d077bd-f4e1-462c-bda5-aa26e1c2b3e8",
   "metadata": {},
   "outputs": [
    {
     "name": "stdout",
     "output_type": "stream",
     "text": [
      "x:\n",
      "[ 1.55489378 -0.58704986  1.38410597 -0.97308183 -1.14016687  0.02639519\n",
      "  0.2637115   0.34623479]\n",
      "\n",
      "y:\n",
      "[-0.04220487  0.44627562  0.36948491 -0.62368366  1.18075065  0.93116763\n",
      "  1.49635429  0.4992786 ]\n",
      "\n"
     ]
    }
   ],
   "source": [
    "x = np.random.randn(8)\n",
    "y = np.random.randn(8)\n",
    "print(\"x:\\n{}\\n\\ny:\\n{}\\n\".format(x,y))"
   ]
  },
  {
   "cell_type": "code",
   "execution_count": 10,
   "id": "396bb223-24c0-42a7-881e-52c7726574e9",
   "metadata": {},
   "outputs": [
    {
     "data": {
      "text/plain": [
       "array([ 1.55489378,  0.44627562,  1.38410597, -0.62368366,  1.18075065,\n",
       "        0.93116763,  1.49635429,  0.4992786 ])"
      ]
     },
     "execution_count": 10,
     "metadata": {},
     "output_type": "execute_result"
    }
   ],
   "source": [
    "# example 3: maximum\n",
    "np.maximum(x,y)"
   ]
  },
  {
   "cell_type": "code",
   "execution_count": 16,
   "id": "c1d05d6f-a70b-4111-b4f9-8046de6842ac",
   "metadata": {},
   "outputs": [
    {
     "name": "stdout",
     "output_type": "stream",
     "text": [
      "arr:\n",
      "[ 4.29018808 -6.95449368 -4.30458731 -1.48980917  5.17254808  5.37793321\n",
      " -0.28370014]\n",
      "\n",
      "remainder:\n",
      "[ 0.29018808 -0.95449368 -0.30458731 -0.48980917  0.17254808  0.37793321\n",
      " -0.28370014]\n",
      "\n",
      "whole_part:\n",
      "[ 4. -6. -4. -1.  5.  5. -0.]\n",
      "\n"
     ]
    }
   ],
   "source": [
    "# not common tho, ufunc can return multiple arrays\n",
    "arr = np.random.randn(7) * 5\n",
    "print(\"arr:\\n{}\\n\".format(arr))\n",
    "remainder, whole_part = np.modf(arr)\n",
    "print(\"remainder:\\n{}\\n\\nwhole_part:\\n{}\\n\".format(remainder,whole_part))"
   ]
  },
  {
   "cell_type": "code",
   "execution_count": null,
   "id": "f3ad90e1-6a29-4fc0-8139-128b22fcc321",
   "metadata": {},
   "outputs": [],
   "source": []
  },
  {
   "cell_type": "code",
   "execution_count": null,
   "id": "7fa2b31a-0495-43a6-8a73-4794ddff3062",
   "metadata": {},
   "outputs": [],
   "source": []
  }
 ],
 "metadata": {
  "kernelspec": {
   "display_name": "Python 3",
   "language": "python",
   "name": "python3"
  },
  "language_info": {
   "codemirror_mode": {
    "name": "ipython",
    "version": 3
   },
   "file_extension": ".py",
   "mimetype": "text/x-python",
   "name": "python",
   "nbconvert_exporter": "python",
   "pygments_lexer": "ipython3",
   "version": "3.9.2"
  }
 },
 "nbformat": 4,
 "nbformat_minor": 5
}
