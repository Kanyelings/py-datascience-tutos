{
 "cells": [
  {
   "cell_type": "markdown",
   "id": "4b1c1c40-c691-40c9-8165-352d93be9696",
   "metadata": {},
   "source": [
    "# Essential Functionality\n",
    "This section has to do with some mechanics of working with data contained in a Series or DataFrame."
   ]
  },
  {
   "cell_type": "markdown",
   "id": "a96adf18-4321-49fd-a7cc-e33563f862b1",
   "metadata": {},
   "source": [
    "## Reindexing\n",
    "We do this using the 'reindex' method. This means we create a new object with the data conformed to a new index."
   ]
  },
  {
   "cell_type": "code",
   "execution_count": 2,
   "id": "34a97055-33d8-4e12-aa81-561c7a1bac19",
   "metadata": {},
   "outputs": [],
   "source": [
    "import numpy as np\n",
    "import pandas as pd"
   ]
  },
  {
   "cell_type": "code",
   "execution_count": 11,
   "id": "fe043597-38a8-45ce-a082-e2d4b911f1fe",
   "metadata": {},
   "outputs": [
    {
     "data": {
      "text/plain": [
       "e    3\n",
       "c    2\n",
       "a    5\n",
       "b    2\n",
       "d    1\n",
       "f    5\n",
       "dtype: int64"
      ]
     },
     "execution_count": 11,
     "metadata": {},
     "output_type": "execute_result"
    }
   ],
   "source": [
    "# example\n",
    "obj = pd.Series([3,2,5,2,1,5], index=['e','c','a','b','d','f'])\n",
    "obj"
   ]
  },
  {
   "cell_type": "code",
   "execution_count": 16,
   "id": "cdafef2c-c89a-4b34-a921-b4cf0776aadb",
   "metadata": {},
   "outputs": [
    {
     "data": {
      "text/plain": [
       "a    5\n",
       "b    2\n",
       "c    2\n",
       "d    1\n",
       "e    3\n",
       "f    5\n",
       "dtype: int64"
      ]
     },
     "execution_count": 16,
     "metadata": {},
     "output_type": "execute_result"
    }
   ],
   "source": [
    "# calling reindex on this series rearranges the data according to the new index, introducing missing values if any index values were not already present.\n",
    "obj2 = obj.reindex(['a','b','c','d','e','f'])\n",
    "obj2"
   ]
  },
  {
   "cell_type": "markdown",
   "id": "9e70a951-7d3c-4e97-b189-bc23ccea195e",
   "metadata": {},
   "source": [
    "For ordered data like time series, it may be desirable to do some interpolation or fill‐\n",
    "ing of values when reindexing. The method option allows us to do this, using a\n",
    "method such as ffill , which forward-fills the values:"
   ]
  }
 ],
 "metadata": {
  "kernelspec": {
   "display_name": "Python 3",
   "language": "python",
   "name": "python3"
  },
  "language_info": {
   "codemirror_mode": {
    "name": "ipython",
    "version": 3
   },
   "file_extension": ".py",
   "mimetype": "text/x-python",
   "name": "python",
   "nbconvert_exporter": "python",
   "pygments_lexer": "ipython3",
   "version": "3.9.2"
  }
 },
 "nbformat": 4,
 "nbformat_minor": 5
}
