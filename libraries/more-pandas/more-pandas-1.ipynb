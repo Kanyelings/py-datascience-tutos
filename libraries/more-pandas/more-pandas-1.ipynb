{
 "cells": [
  {
   "cell_type": "markdown",
   "id": "af8d0329-2af5-4e22-8d3c-e55acd90aca5",
   "metadata": {},
   "source": [
    "# Introduction\n",
    "We bring again the two main data structures in the pandas library"
   ]
  },
  {
   "cell_type": "code",
   "execution_count": 1,
   "id": "ea374d97-425a-491f-831c-77c171a68281",
   "metadata": {},
   "outputs": [],
   "source": [
    "import pandas as pd\n",
    "import numpy as np"
   ]
  },
  {
   "cell_type": "markdown",
   "id": "8734f274-726b-4461-b720-3738b004c290",
   "metadata": {},
   "source": [
    "## Series\n",
    "A series is a 1D array-like object containing a sequence of values similar to numpy types and associated array of labels called its index."
   ]
  },
  {
   "cell_type": "code",
   "execution_count": 2,
   "id": "7937c0f1-c907-46f6-85a9-53b46cb3e2e8",
   "metadata": {},
   "outputs": [
    {
     "data": {
      "text/plain": [
       "0     4\n",
       "1     7\n",
       "2   -53\n",
       "dtype: int64"
      ]
     },
     "execution_count": 2,
     "metadata": {},
     "output_type": "execute_result"
    }
   ],
   "source": [
    "ser = pd.Series([4,7,-53])\n",
    "ser"
   ]
  },
  {
   "cell_type": "code",
   "execution_count": 3,
   "id": "3e6df890-b933-4c03-b3fc-627821eaa31a",
   "metadata": {},
   "outputs": [
    {
     "data": {
      "text/plain": [
       "array([  4,   7, -53])"
      ]
     },
     "execution_count": 3,
     "metadata": {},
     "output_type": "execute_result"
    }
   ],
   "source": [
    "# we can get the array rep and index object of the series via its values and index attributes resp\n",
    "## values\n",
    "ser.values"
   ]
  },
  {
   "cell_type": "code",
   "execution_count": 4,
   "id": "d4a404a3-f748-4821-916a-6def67d94edf",
   "metadata": {},
   "outputs": [
    {
     "data": {
      "text/plain": [
       "RangeIndex(start=0, stop=3, step=1)"
      ]
     },
     "execution_count": 4,
     "metadata": {},
     "output_type": "execute_result"
    }
   ],
   "source": [
    "## indices\n",
    "ser.index"
   ]
  },
  {
   "cell_type": "code",
   "execution_count": 5,
   "id": "453cfc2d-b34b-42fe-9350-b6145fd6b3f8",
   "metadata": {},
   "outputs": [
    {
     "data": {
      "text/plain": [
       "d    4\n",
       "b    7\n",
       "a   -5\n",
       "c    3\n",
       "dtype: int64"
      ]
     },
     "execution_count": 5,
     "metadata": {},
     "output_type": "execute_result"
    }
   ],
   "source": [
    "# usually, it will be desirable to create a Series with an index identifying each data point with a label\n",
    "ser2 = pd.Series([4,7,-5,3], index=['d','b','a','c'])\n",
    "ser2"
   ]
  },
  {
   "cell_type": "code",
   "execution_count": 6,
   "id": "2623426b-0270-453f-bba0-ee052738099d",
   "metadata": {},
   "outputs": [
    {
     "data": {
      "text/plain": [
       "-5"
      ]
     },
     "execution_count": 6,
     "metadata": {},
     "output_type": "execute_result"
    }
   ],
   "source": [
    "# we can use labels in the index when selecting single values or a set of values\n",
    "ser2['a']"
   ]
  },
  {
   "cell_type": "code",
   "execution_count": 7,
   "id": "509bc377-0ab9-4895-973f-fe3399358884",
   "metadata": {},
   "outputs": [
    {
     "data": {
      "text/plain": [
       "c    3\n",
       "a   -5\n",
       "d    6\n",
       "dtype: int64"
      ]
     },
     "execution_count": 7,
     "metadata": {},
     "output_type": "execute_result"
    }
   ],
   "source": [
    "ser2['d'] = 6\n",
    "ser2[['c','a','d']]"
   ]
  },
  {
   "cell_type": "markdown",
   "id": "ebcedddd-f390-47da-9433-c54022e5b700",
   "metadata": {},
   "source": [
    "Using NumPy functions or NumPy-like operations, such as filtering with a boolean\n",
    "array, scalar multiplication, or applying math functions, will preserve the index-value\n",
    "link:"
   ]
  },
  {
   "cell_type": "code",
   "execution_count": 8,
   "id": "6ca449a9-87d3-47c4-b485-d1fbf2be18e8",
   "metadata": {},
   "outputs": [
    {
     "data": {
      "text/plain": [
       "d    6\n",
       "b    7\n",
       "c    3\n",
       "dtype: int64"
      ]
     },
     "execution_count": 8,
     "metadata": {},
     "output_type": "execute_result"
    }
   ],
   "source": [
    "ser2[ser2>0]"
   ]
  },
  {
   "cell_type": "code",
   "execution_count": 9,
   "id": "14011770-f5ab-4f98-8fcf-30b50be5a459",
   "metadata": {},
   "outputs": [
    {
     "data": {
      "text/plain": [
       "d    12\n",
       "b    14\n",
       "a   -10\n",
       "c     6\n",
       "dtype: int64"
      ]
     },
     "execution_count": 9,
     "metadata": {},
     "output_type": "execute_result"
    }
   ],
   "source": [
    "# multiplication\n",
    "ser2 * 2"
   ]
  },
  {
   "cell_type": "code",
   "execution_count": 10,
   "id": "b7c783da-a9e1-4651-a9ea-95c327639757",
   "metadata": {},
   "outputs": [
    {
     "data": {
      "text/plain": [
       "d     403.428793\n",
       "b    1096.633158\n",
       "a       0.006738\n",
       "c      20.085537\n",
       "dtype: float64"
      ]
     },
     "execution_count": 10,
     "metadata": {},
     "output_type": "execute_result"
    }
   ],
   "source": [
    "np.exp(ser2)"
   ]
  },
  {
   "cell_type": "markdown",
   "id": "fe7d68f5-4f8f-4ad3-a80f-f418baec4a99",
   "metadata": {},
   "source": [
    "Another way to think about a Series is as a fixed-length, ordered dict, as it is a map‐\n",
    "ping of index values to data values. It can be used in many contexts where you might\n",
    "use a dict:"
   ]
  },
  {
   "cell_type": "code",
   "execution_count": 11,
   "id": "421097e0-f665-446e-abab-596ef42fd929",
   "metadata": {},
   "outputs": [
    {
     "data": {
      "text/plain": [
       "True"
      ]
     },
     "execution_count": 11,
     "metadata": {},
     "output_type": "execute_result"
    }
   ],
   "source": [
    "'b' in ser2"
   ]
  },
  {
   "cell_type": "code",
   "execution_count": 12,
   "id": "da3f67f5-0c46-4607-a38a-cefbe6d82fd9",
   "metadata": {},
   "outputs": [
    {
     "data": {
      "text/plain": [
       "False"
      ]
     },
     "execution_count": 12,
     "metadata": {},
     "output_type": "execute_result"
    }
   ],
   "source": [
    "'e' in ser2"
   ]
  },
  {
   "cell_type": "code",
   "execution_count": 13,
   "id": "ce25d06d-fb59-4880-8df6-216601a1b44b",
   "metadata": {},
   "outputs": [
    {
     "data": {
      "text/plain": [
       "Ohio      35000\n",
       "Texas     71000\n",
       "Oregon    16000\n",
       "Utah       5000\n",
       "dtype: int64"
      ]
     },
     "execution_count": 13,
     "metadata": {},
     "output_type": "execute_result"
    }
   ],
   "source": [
    "# should you have data contained in a python dict, you can create a Series from it by passing the dict\n",
    "sdata = {\n",
    "    'Ohio': 35000,\n",
    "    'Texas': 71000,\n",
    "    'Oregon': 16000,\n",
    "    'Utah': 5000\n",
    "}\n",
    "ser3 = pd.Series(sdata)\n",
    "ser3"
   ]
  },
  {
   "cell_type": "markdown",
   "id": "682ff90f-01b9-4e7b-adfa-27774ab1a75b",
   "metadata": {},
   "source": [
    "When you are only passing a dictionary, the index in the resulting Series will have the dictionary's keys in sorted order. You can override this by passing the dictionary keys in the order you want them to appear in the resulting Series."
   ]
  },
  {
   "cell_type": "code",
   "execution_count": 32,
   "id": "ac99c471-afe7-4484-995c-aca8778df310",
   "metadata": {},
   "outputs": [
    {
     "data": {
      "text/plain": [
       "California        NaN\n",
       "Ohio          35000.0\n",
       "Oregon        16000.0\n",
       "Texas         71000.0\n",
       "dtype: float64"
      ]
     },
     "execution_count": 32,
     "metadata": {},
     "output_type": "execute_result"
    }
   ],
   "source": [
    "states = ['California', 'Ohio', 'Oregon', 'Texas']\n",
    "ser4 = pd.Series(sdata, index=states)\n",
    "ser4"
   ]
  },
  {
   "cell_type": "markdown",
   "id": "5a245bc1-3b0b-415b-9ac1-41ba5c581439",
   "metadata": {},
   "source": [
    "California is NaN because it doesnt exist in the dictionary. Utah was not included in the series either."
   ]
  },
  {
   "cell_type": "code",
   "execution_count": 40,
   "id": "29e008b2-8461-46c8-aaac-ddb1d08c6c36",
   "metadata": {},
   "outputs": [
    {
     "name": "stdout",
     "output_type": "stream",
     "text": [
      "ser4 is null:\n",
      "California     True\n",
      "Ohio          False\n",
      "Oregon        False\n",
      "Texas         False\n",
      "dtype: bool\n",
      "\n",
      "ser4 is not null:\n",
      "California    False\n",
      "Ohio           True\n",
      "Oregon         True\n",
      "Texas          True\n",
      "dtype: bool\n",
      "\n",
      "ser4 is null:\n",
      "California     True\n",
      "Ohio          False\n",
      "Oregon        False\n",
      "Texas         False\n",
      "dtype: bool\n",
      "\n"
     ]
    }
   ],
   "source": [
    "# the isnull and not null functions can be used to detect missing data\n",
    "print(\"ser4 is null:\\n{}\\n\".format(pd.isnull(ser4)))\n",
    "print(\"ser4 is not null:\\n{}\\n\".format(pd.notnull(ser4)))\n",
    "\n",
    "# and instance methods too\n",
    "print(\"ser4 is null:\\n{}\\n\".format(ser4.isnull()))"
   ]
  },
  {
   "cell_type": "code",
   "execution_count": 41,
   "id": "2c9e1bd7-cf20-4077-876c-43706b08ae19",
   "metadata": {},
   "outputs": [
    {
     "data": {
      "text/plain": [
       "Ohio      35000\n",
       "Texas     71000\n",
       "Oregon    16000\n",
       "Utah       5000\n",
       "dtype: int64"
      ]
     },
     "execution_count": 41,
     "metadata": {},
     "output_type": "execute_result"
    }
   ],
   "source": [
    "ser3"
   ]
  },
  {
   "cell_type": "code",
   "execution_count": 42,
   "id": "6dec0a8c-d11e-4d8d-943a-f925b21e648b",
   "metadata": {},
   "outputs": [
    {
     "data": {
      "text/plain": [
       "California        NaN\n",
       "Ohio          35000.0\n",
       "Oregon        16000.0\n",
       "Texas         71000.0\n",
       "dtype: float64"
      ]
     },
     "execution_count": 42,
     "metadata": {},
     "output_type": "execute_result"
    }
   ],
   "source": [
    "ser4"
   ]
  },
  {
   "cell_type": "code",
   "execution_count": 43,
   "id": "d62a5518-2325-4839-aa02-cd88af1e6f52",
   "metadata": {},
   "outputs": [
    {
     "data": {
      "text/plain": [
       "California         NaN\n",
       "Ohio           70000.0\n",
       "Oregon         32000.0\n",
       "Texas         142000.0\n",
       "Utah               NaN\n",
       "dtype: float64"
      ]
     },
     "execution_count": 43,
     "metadata": {},
     "output_type": "execute_result"
    }
   ],
   "source": [
    "# Series automatically align by index label in mathematical operations\n",
    "ser3 + ser4"
   ]
  },
  {
   "cell_type": "markdown",
   "id": "29459940-5986-4382-8145-949549bf7a7b",
   "metadata": {},
   "source": [
    "For values not matching, there is a NaN value assigned to."
   ]
  },
  {
   "cell_type": "code",
   "execution_count": 62,
   "id": "ffe42b4f-7aa1-41e0-beb6-0877c9a3fac5",
   "metadata": {},
   "outputs": [
    {
     "name": "stdout",
     "output_type": "stream",
     "text": [
      "70000.0\n",
      "32000.0\n",
      "142000.0\n"
     ]
    }
   ],
   "source": [
    "for x in (ser4+ser3).values:\n",
    "    if x/1 == x:\n",
    "        print(x)"
   ]
  },
  {
   "cell_type": "code",
   "execution_count": 69,
   "id": "362a7de3-15a3-4b73-a4ad-ea97edd7bc7a",
   "metadata": {},
   "outputs": [
    {
     "data": {
      "text/plain": [
       "Ohio      35000\n",
       "Texas     71000\n",
       "Oregon    16000\n",
       "Utah       5000\n",
       "dtype: int64"
      ]
     },
     "execution_count": 69,
     "metadata": {},
     "output_type": "execute_result"
    }
   ],
   "source": [
    "a = pd.Series(sdata)\n",
    "a"
   ]
  },
  {
   "cell_type": "code",
   "execution_count": 73,
   "id": "9a584114-7ac2-41af-bf18-501f21946063",
   "metadata": {},
   "outputs": [
    {
     "data": {
      "text/plain": [
       "state\n",
       "Ohio      35000\n",
       "Texas     71000\n",
       "Oregon    16000\n",
       "Utah       5000\n",
       "dtype: int64"
      ]
     },
     "execution_count": 73,
     "metadata": {},
     "output_type": "execute_result"
    }
   ],
   "source": [
    "a.index.name = 'state'\n",
    "#a.values.name = 'population' : this does not work\n",
    "a"
   ]
  },
  {
   "cell_type": "code",
   "execution_count": null,
   "id": "91ea7338-ae37-4771-b1de-c730f9e1e490",
   "metadata": {},
   "outputs": [],
   "source": []
  }
 ],
 "metadata": {
  "kernelspec": {
   "display_name": "Python 3",
   "language": "python",
   "name": "python3"
  },
  "language_info": {
   "codemirror_mode": {
    "name": "ipython",
    "version": 3
   },
   "file_extension": ".py",
   "mimetype": "text/x-python",
   "name": "python",
   "nbconvert_exporter": "python",
   "pygments_lexer": "ipython3",
   "version": "3.9.2"
  }
 },
 "nbformat": 4,
 "nbformat_minor": 5
}
