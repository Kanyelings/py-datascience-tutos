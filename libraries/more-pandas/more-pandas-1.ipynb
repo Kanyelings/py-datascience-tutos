{
 "cells": [
  {
   "cell_type": "markdown",
   "id": "af8d0329-2af5-4e22-8d3c-e55acd90aca5",
   "metadata": {},
   "source": [
    "# Introduction\n",
    "We bring again the two main data structures in the pandas library"
   ]
  },
  {
   "cell_type": "code",
   "execution_count": 1,
   "id": "ea374d97-425a-491f-831c-77c171a68281",
   "metadata": {},
   "outputs": [],
   "source": [
    "import pandas as pd"
   ]
  },
  {
   "cell_type": "markdown",
   "id": "8734f274-726b-4461-b720-3738b004c290",
   "metadata": {},
   "source": [
    "## Series\n",
    "A series is a 1D array-like object containing a sequence of values similar to numpy types and associated array of labels called its index."
   ]
  },
  {
   "cell_type": "code",
   "execution_count": 11,
   "id": "7937c0f1-c907-46f6-85a9-53b46cb3e2e8",
   "metadata": {},
   "outputs": [
    {
     "data": {
      "text/plain": [
       "0     4\n",
       "1     7\n",
       "2   -53\n",
       "dtype: int64"
      ]
     },
     "execution_count": 11,
     "metadata": {},
     "output_type": "execute_result"
    }
   ],
   "source": [
    "ser = pd.Series([4,7,-53])\n",
    "ser"
   ]
  },
  {
   "cell_type": "code",
   "execution_count": 14,
   "id": "3e6df890-b933-4c03-b3fc-627821eaa31a",
   "metadata": {},
   "outputs": [
    {
     "data": {
      "text/plain": [
       "array([  4,   7, -53])"
      ]
     },
     "execution_count": 14,
     "metadata": {},
     "output_type": "execute_result"
    }
   ],
   "source": [
    "# we can get the array rep and index object of the series via its values and index attributes resp\n",
    "## values\n",
    "ser.values"
   ]
  },
  {
   "cell_type": "code",
   "execution_count": 15,
   "id": "d4a404a3-f748-4821-916a-6def67d94edf",
   "metadata": {},
   "outputs": [
    {
     "data": {
      "text/plain": [
       "RangeIndex(start=0, stop=3, step=1)"
      ]
     },
     "execution_count": 15,
     "metadata": {},
     "output_type": "execute_result"
    }
   ],
   "source": [
    "## indices\n",
    "ser.index"
   ]
  },
  {
   "cell_type": "code",
   "execution_count": 18,
   "id": "453cfc2d-b34b-42fe-9350-b6145fd6b3f8",
   "metadata": {},
   "outputs": [
    {
     "data": {
      "text/plain": [
       "d    4\n",
       "b    7\n",
       "a   -5\n",
       "c    3\n",
       "dtype: int64"
      ]
     },
     "execution_count": 18,
     "metadata": {},
     "output_type": "execute_result"
    }
   ],
   "source": [
    "# usually, it will be desirable to create a Series with an index identifying each data point with a label\n",
    "ser2 = pd.Series([4,7,-5,3], index=['d','b','a','c'])\n",
    "ser2"
   ]
  },
  {
   "cell_type": "code",
   "execution_count": 21,
   "id": "2623426b-0270-453f-bba0-ee052738099d",
   "metadata": {},
   "outputs": [
    {
     "data": {
      "text/plain": [
       "-5"
      ]
     },
     "execution_count": 21,
     "metadata": {},
     "output_type": "execute_result"
    }
   ],
   "source": [
    "# we can use labels in the index when selecting single values or a set of values\n",
    "ser2['a']"
   ]
  },
  {
   "cell_type": "code",
   "execution_count": 28,
   "id": "509bc377-0ab9-4895-973f-fe3399358884",
   "metadata": {},
   "outputs": [
    {
     "data": {
      "text/plain": [
       "c    3\n",
       "a   -5\n",
       "d    6\n",
       "dtype: int64"
      ]
     },
     "execution_count": 28,
     "metadata": {},
     "output_type": "execute_result"
    }
   ],
   "source": [
    "ser2['d'] = 6\n",
    "ser2[['c','a','d']]"
   ]
  },
  {
   "cell_type": "markdown",
   "id": "ebcedddd-f390-47da-9433-c54022e5b700",
   "metadata": {},
   "source": [
    "Using NumPy functions or NumPy-like operations, such as filtering with a boolean\n",
    "array, scalar multiplication, or applying math functions, will preserve the index-value\n",
    "link:"
   ]
  }
 ],
 "metadata": {
  "kernelspec": {
   "display_name": "Python 3",
   "language": "python",
   "name": "python3"
  },
  "language_info": {
   "codemirror_mode": {
    "name": "ipython",
    "version": 3
   },
   "file_extension": ".py",
   "mimetype": "text/x-python",
   "name": "python",
   "nbconvert_exporter": "python",
   "pygments_lexer": "ipython3",
   "version": "3.9.2"
  }
 },
 "nbformat": 4,
 "nbformat_minor": 5
}
