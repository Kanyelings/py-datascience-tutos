{
 "cells": [
  {
   "cell_type": "markdown",
   "id": "2e74fc45-71e5-4e6f-8173-316d65b0737e",
   "metadata": {},
   "source": [
    "# DataFrame\n",
    "A dataframe represents a rectangular table of data and contains an ordered collection of columns, each of which can a different value type (numeric, string, boolean, etc). \n",
    "The dataframe has both a row and column index; it can be thought of as a dict of Series all sharing the same index. Under the hood, the data is stored as one or more two-dimenstional blocks rather than a list, dictionary or some other collection of one-dimensional arrays. "
   ]
  },
  {
   "cell_type": "code",
   "execution_count": null,
   "id": "4fc57b36-3e4b-4011-bc7d-6c781ac8ee2f",
   "metadata": {},
   "outputs": [],
   "source": []
  }
 ],
 "metadata": {
  "kernelspec": {
   "display_name": "Python 3",
   "language": "python",
   "name": "python3"
  },
  "language_info": {
   "codemirror_mode": {
    "name": "ipython",
    "version": 3
   },
   "file_extension": ".py",
   "mimetype": "text/x-python",
   "name": "python",
   "nbconvert_exporter": "python",
   "pygments_lexer": "ipython3",
   "version": "3.9.2"
  }
 },
 "nbformat": 4,
 "nbformat_minor": 5
}
