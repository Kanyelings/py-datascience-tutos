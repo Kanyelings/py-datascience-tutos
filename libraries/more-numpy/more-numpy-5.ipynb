{
 "cells": [
  {
   "cell_type": "markdown",
   "id": "8a8a17db-dc81-43b1-b638-e6f318fd282d",
   "metadata": {},
   "source": [
    "# Linear Algebra\n",
    "We look at some implementation of linear algebra in numpy built from math and in contrast with some operation in MATLAB."
   ]
  },
  {
   "cell_type": "code",
   "execution_count": 1,
   "id": "967992e7-e75f-4bb3-bdef-fc4a4b181745",
   "metadata": {},
   "outputs": [],
   "source": [
    "# imports \n",
    "import numpy as np"
   ]
  },
  {
   "cell_type": "code",
   "execution_count": 4,
   "id": "e9c0ca7c-c797-4b43-a921-5ebace8892bd",
   "metadata": {},
   "outputs": [
    {
     "name": "stdout",
     "output_type": "stream",
     "text": [
      "x:\n",
      "[[1 2 3]\n",
      " [4 5 6]]\n",
      "y:\n",
      "[[ 6 23]\n",
      " [-1  7]\n",
      " [ 8  9]]\n",
      "\n"
     ]
    }
   ],
   "source": [
    "x = np.array([[1,2,3],[4,5,6]])\n",
    "y = np.array([[6,23],[-1,7],[8,9]])\n",
    "print(\"x:\\n{}\\ny:\\n{}\\n\".format(x,y))"
   ]
  },
  {
   "cell_type": "markdown",
   "id": "7c293c8d-e8d7-4363-8293-66958bfdd899",
   "metadata": {},
   "source": [
    "calculating the dot product from x"
   ]
  },
  {
   "cell_type": "code",
   "execution_count": 8,
   "id": "2e765fa5-69f4-4e06-a044-dfa253a9221e",
   "metadata": {},
   "outputs": [
    {
     "data": {
      "text/plain": [
       "array([[ 28,  64],\n",
       "       [ 67, 181]])"
      ]
     },
     "execution_count": 8,
     "metadata": {},
     "output_type": "execute_result"
    }
   ],
   "source": [
    "x.dot(y)"
   ]
  },
  {
   "cell_type": "code",
   "execution_count": 9,
   "id": "70ea8f2d-519c-46a6-892f-f4423cefdb14",
   "metadata": {},
   "outputs": [
    {
     "data": {
      "text/plain": [
       "array([[ 28,  64],\n",
       "       [ 67, 181]])"
      ]
     },
     "execution_count": 9,
     "metadata": {},
     "output_type": "execute_result"
    }
   ],
   "source": [
    "np.dot(x,y)"
   ]
  },
  {
   "cell_type": "code",
   "execution_count": 10,
   "id": "111096aa-3b86-4274-8cef-e948732d073e",
   "metadata": {},
   "outputs": [],
   "source": [
    "# as seen, the two above are the same"
   ]
  },
  {
   "cell_type": "markdown",
   "id": "baeb09ac-fe40-40ee-9920-3c994255a8fa",
   "metadata": {},
   "source": [
    "calculating the dot product from x"
   ]
  },
  {
   "cell_type": "code",
   "execution_count": 11,
   "id": "b6bdc5b9-5e56-4279-9618-7a993956e944",
   "metadata": {},
   "outputs": [
    {
     "data": {
      "text/plain": [
       "array([[ 98, 127, 156],\n",
       "       [ 27,  33,  39],\n",
       "       [ 44,  61,  78]])"
      ]
     },
     "execution_count": 11,
     "metadata": {},
     "output_type": "execute_result"
    }
   ],
   "source": [
    "y.dot(x)"
   ]
  },
  {
   "cell_type": "code",
   "execution_count": 12,
   "id": "28553778-d9b5-4edd-92cd-ed5680865a02",
   "metadata": {},
   "outputs": [
    {
     "data": {
      "text/plain": [
       "array([[ 98, 127, 156],\n",
       "       [ 27,  33,  39],\n",
       "       [ 44,  61,  78]])"
      ]
     },
     "execution_count": 12,
     "metadata": {},
     "output_type": "execute_result"
    }
   ],
   "source": [
    "np.dot(y,x)"
   ]
  },
  {
   "cell_type": "code",
   "execution_count": 13,
   "id": "0693dfd5-15a8-4983-ab15-2546541bb24c",
   "metadata": {},
   "outputs": [],
   "source": [
    "# you wise where I am going with this"
   ]
  },
  {
   "cell_type": "code",
   "execution_count": 20,
   "id": "ecff2f88-321f-46ca-8c16-ebc6cb1fd1a0",
   "metadata": {},
   "outputs": [
    {
     "data": {
      "text/plain": [
       "array([ 6., 15.])"
      ]
     },
     "execution_count": 20,
     "metadata": {},
     "output_type": "execute_result"
    }
   ],
   "source": [
    "# the symbol also works on an infix operator that performs matrix multiplication\n",
    "x @ np.ones(3)"
   ]
  },
  {
   "cell_type": "markdown",
   "id": "f4f655e6-834e-4d7a-9325-136cbcad45df",
   "metadata": {},
   "source": [
    "## Someting of Interest: linalg\n",
    "numpy.linalg has a standard set of matrix decompositions and things like inverse\n",
    "and determinant. These are implemented under the hood via the same industry-\n",
    "standard linear algebra libraries used in other languages like MATLAB and R, such as\n",
    "BLAS, LAPACK, or possibly (depending on your NumPy build) the proprietary Intel\n",
    "MKL (Math Kernel Library):"
   ]
  },
  {
   "cell_type": "code",
   "execution_count": null,
   "id": "96ecfe70-ead1-4ea8-813f-f2ce04c1dcf5",
   "metadata": {},
   "outputs": [],
   "source": []
  }
 ],
 "metadata": {
  "kernelspec": {
   "display_name": "Python 3",
   "language": "python",
   "name": "python3"
  },
  "language_info": {
   "codemirror_mode": {
    "name": "ipython",
    "version": 3
   },
   "file_extension": ".py",
   "mimetype": "text/x-python",
   "name": "python",
   "nbconvert_exporter": "python",
   "pygments_lexer": "ipython3",
   "version": "3.9.2"
  }
 },
 "nbformat": 4,
 "nbformat_minor": 5
}
