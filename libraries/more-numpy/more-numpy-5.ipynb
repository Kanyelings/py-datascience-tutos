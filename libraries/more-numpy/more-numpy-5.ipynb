{
 "cells": [
  {
   "cell_type": "markdown",
   "id": "8a8a17db-dc81-43b1-b638-e6f318fd282d",
   "metadata": {},
   "source": [
    "# Linear Algebra\n",
    "We look at some implementation of linear algebra in numpy built from math and in contrast with some operation in MATLAB."
   ]
  },
  {
   "cell_type": "code",
   "execution_count": 1,
   "id": "967992e7-e75f-4bb3-bdef-fc4a4b181745",
   "metadata": {},
   "outputs": [],
   "source": [
    "# imports \n",
    "import numpy as np"
   ]
  },
  {
   "cell_type": "code",
   "execution_count": 4,
   "id": "e9c0ca7c-c797-4b43-a921-5ebace8892bd",
   "metadata": {},
   "outputs": [
    {
     "name": "stdout",
     "output_type": "stream",
     "text": [
      "x:\n",
      "[[1 2 3]\n",
      " [4 5 6]]\n",
      "y:\n",
      "[[ 6 23]\n",
      " [-1  7]\n",
      " [ 8  9]]\n",
      "\n"
     ]
    }
   ],
   "source": [
    "x = np.array([[1,2,3],[4,5,6]])\n",
    "y = np.array([[6,23],[-1,7],[8,9]])\n",
    "print(\"x:\\n{}\\ny:\\n{}\\n\".format(x,y))"
   ]
  },
  {
   "cell_type": "markdown",
   "id": "7c293c8d-e8d7-4363-8293-66958bfdd899",
   "metadata": {},
   "source": [
    "calculating the dot product from x"
   ]
  },
  {
   "cell_type": "code",
   "execution_count": 8,
   "id": "2e765fa5-69f4-4e06-a044-dfa253a9221e",
   "metadata": {},
   "outputs": [
    {
     "data": {
      "text/plain": [
       "array([[ 28,  64],\n",
       "       [ 67, 181]])"
      ]
     },
     "execution_count": 8,
     "metadata": {},
     "output_type": "execute_result"
    }
   ],
   "source": [
    "x.dot(y)"
   ]
  },
  {
   "cell_type": "code",
   "execution_count": 9,
   "id": "70ea8f2d-519c-46a6-892f-f4423cefdb14",
   "metadata": {},
   "outputs": [
    {
     "data": {
      "text/plain": [
       "array([[ 28,  64],\n",
       "       [ 67, 181]])"
      ]
     },
     "execution_count": 9,
     "metadata": {},
     "output_type": "execute_result"
    }
   ],
   "source": [
    "np.dot(x,y)"
   ]
  },
  {
   "cell_type": "code",
   "execution_count": 10,
   "id": "111096aa-3b86-4274-8cef-e948732d073e",
   "metadata": {},
   "outputs": [],
   "source": [
    "# as seen, the two above are the same"
   ]
  },
  {
   "cell_type": "markdown",
   "id": "baeb09ac-fe40-40ee-9920-3c994255a8fa",
   "metadata": {},
   "source": [
    "calculating the dot product from x"
   ]
  },
  {
   "cell_type": "code",
   "execution_count": 11,
   "id": "b6bdc5b9-5e56-4279-9618-7a993956e944",
   "metadata": {},
   "outputs": [
    {
     "data": {
      "text/plain": [
       "array([[ 98, 127, 156],\n",
       "       [ 27,  33,  39],\n",
       "       [ 44,  61,  78]])"
      ]
     },
     "execution_count": 11,
     "metadata": {},
     "output_type": "execute_result"
    }
   ],
   "source": [
    "y.dot(x)"
   ]
  },
  {
   "cell_type": "code",
   "execution_count": 12,
   "id": "28553778-d9b5-4edd-92cd-ed5680865a02",
   "metadata": {},
   "outputs": [
    {
     "data": {
      "text/plain": [
       "array([[ 98, 127, 156],\n",
       "       [ 27,  33,  39],\n",
       "       [ 44,  61,  78]])"
      ]
     },
     "execution_count": 12,
     "metadata": {},
     "output_type": "execute_result"
    }
   ],
   "source": [
    "np.dot(y,x)"
   ]
  },
  {
   "cell_type": "code",
   "execution_count": 13,
   "id": "0693dfd5-15a8-4983-ab15-2546541bb24c",
   "metadata": {},
   "outputs": [],
   "source": [
    "# you wise where I am going with this"
   ]
  },
  {
   "cell_type": "code",
   "execution_count": 20,
   "id": "ecff2f88-321f-46ca-8c16-ebc6cb1fd1a0",
   "metadata": {},
   "outputs": [
    {
     "data": {
      "text/plain": [
       "array([ 6., 15.])"
      ]
     },
     "execution_count": 20,
     "metadata": {},
     "output_type": "execute_result"
    }
   ],
   "source": [
    "# the symbol also works on an infix operator that performs matrix multiplication\n",
    "x @ np.ones(3)"
   ]
  },
  {
   "cell_type": "markdown",
   "id": "f4f655e6-834e-4d7a-9325-136cbcad45df",
   "metadata": {},
   "source": [
    "## Someting of Interest: linalg\n",
    "numpy.linalg has a standard set of matrix decompositions and things like inverse\n",
    "and determinant. These are implemented under the hood via the same industry-\n",
    "standard linear algebra libraries used in other languages like MATLAB and R, such as\n",
    "BLAS, LAPACK, or possibly (depending on your NumPy build) the proprietary Intel\n",
    "MKL (Math Kernel Library):"
   ]
  },
  {
   "cell_type": "code",
   "execution_count": 21,
   "id": "96ecfe70-ead1-4ea8-813f-f2ce04c1dcf5",
   "metadata": {},
   "outputs": [],
   "source": [
    "# imports \n",
    "from numpy.linalg import inv,qr"
   ]
  },
  {
   "cell_type": "code",
   "execution_count": 24,
   "id": "c26c4964-4e61-442e-b938-b1f8a5646a64",
   "metadata": {},
   "outputs": [
    {
     "data": {
      "text/plain": [
       "array([[ 0.69131278,  0.07710771,  1.02498016, -0.62696144,  0.20488604],\n",
       "       [ 0.46290064, -0.55335042, -0.23531853,  1.2090065 ,  0.76274208],\n",
       "       [ 0.4679693 ,  0.76031171, -0.43994121,  0.38020295,  0.05602927],\n",
       "       [ 0.08637994,  1.6162115 ,  0.81685496,  0.08511067,  0.91353676],\n",
       "       [-1.10617756,  1.50165728,  0.14755442,  1.23085583,  0.56614269]])"
      ]
     },
     "execution_count": 24,
     "metadata": {},
     "output_type": "execute_result"
    }
   ],
   "source": [
    "# create a random array of 5x5\n",
    "X = np.random.randn(5,5)\n",
    "X"
   ]
  },
  {
   "cell_type": "code",
   "execution_count": 25,
   "id": "b56705c7-a02e-4710-92e8-c6c5466cb619",
   "metadata": {},
   "outputs": [
    {
     "data": {
      "text/plain": [
       "array([[ 2.14227593, -1.36852952,  0.3011123 , -1.05004651, -0.02640897],\n",
       "       [-1.36852952,  5.75733037,  1.41654157,  1.5576054 ,  1.96295526],\n",
       "       [ 0.3011123 ,  1.41654157,  1.98853174, -0.84325032,  0.83563109],\n",
       "       [-1.05004651,  1.5576054 , -0.84325032,  3.52158156,  1.58959874],\n",
       "       [-0.02640897,  1.96295526,  0.83563109,  1.58959874,  1.78196   ]])"
      ]
     },
     "execution_count": 25,
     "metadata": {},
     "output_type": "execute_result"
    }
   ],
   "source": [
    "# multiply transpose of X by X itself\n",
    "mat = X.T.dot(X)\n",
    "mat"
   ]
  },
  {
   "cell_type": "code",
   "execution_count": 33,
   "id": "d2c6103d-6097-4f18-9bac-39a20d232b7a",
   "metadata": {},
   "outputs": [
    {
     "data": {
      "text/plain": [
       "array([[ 1.27993869,  0.40203615,  1.13465508,  1.51846702, -2.31053639],\n",
       "       [ 0.40203615,  0.43221875,  0.08664064,  0.30136363, -0.77962219],\n",
       "       [ 1.13465508,  0.08664064,  3.76348232,  3.40392455, -4.87994323],\n",
       "       [ 1.51846702,  0.30136363,  3.40392455,  3.81479389, -5.30869318],\n",
       "       [-2.31053639, -0.77962219, -4.87994323, -5.30869318,  8.40976725]])"
      ]
     },
     "execution_count": 33,
     "metadata": {},
     "output_type": "execute_result"
    }
   ],
   "source": [
    "# calculate the inverse of the previous result\n",
    "inv(mat)"
   ]
  },
  {
   "cell_type": "code",
   "execution_count": 34,
   "id": "069f28a7-ef13-4b7d-80c5-f31a17cc494d",
   "metadata": {},
   "outputs": [
    {
     "data": {
      "text/plain": [
       "array([[ 1.00000000e+00, -8.32667268e-17,  1.11022302e-16,\n",
       "         8.32667268e-17, -4.44089210e-16],\n",
       "       [ 0.00000000e+00,  1.00000000e+00,  0.00000000e+00,\n",
       "         0.00000000e+00,  0.00000000e+00],\n",
       "       [-4.44089210e-16, -2.22044605e-16,  1.00000000e+00,\n",
       "        -8.88178420e-16,  1.77635684e-15],\n",
       "       [ 0.00000000e+00,  0.00000000e+00, -1.77635684e-15,\n",
       "         1.00000000e+00,  1.77635684e-15],\n",
       "       [-8.88178420e-16, -2.22044605e-16,  0.00000000e+00,\n",
       "         0.00000000e+00,  1.00000000e+00]])"
      ]
     },
     "execution_count": 34,
     "metadata": {},
     "output_type": "execute_result"
    }
   ],
   "source": [
    "# multiply mat by inverse of it\n",
    "mat.dot(inv(mat))"
   ]
  },
  {
   "cell_type": "code",
   "execution_count": 38,
   "id": "8052989d-0673-42bb-919b-f33475c13086",
   "metadata": {},
   "outputs": [
    {
     "name": "stdout",
     "output_type": "stream",
     "text": [
      "q:\n",
      "[[-0.77422868 -0.40783359  0.43827885  0.02572552 -0.20369475]\n",
      " [ 0.49459306 -0.7306252   0.13574798  0.44543584 -0.06873077]\n",
      " [-0.10882341 -0.38389444 -0.7286816  -0.35316274 -0.43021127]\n",
      " [ 0.37949179  0.01989799  0.50751812 -0.61561558 -0.46800947]\n",
      " [ 0.00954433 -0.38998424  0.03053884 -0.54517763  0.74139728]]\n",
      "\n",
      "r:\n",
      "[[-2.76698083  4.36277112 -0.06094799  3.02670527  1.52062169]\n",
      " [ 0.         -4.92664918 -2.2638129  -0.93590846 -2.40751473]\n",
      " [ 0.          0.         -1.52718828  2.20150055  0.50715288]\n",
      " [ 0.          0.          0.         -2.06994929 -1.37148901]\n",
      " [ 0.          0.          0.          0.          0.08815907]]\n",
      "\n"
     ]
    }
   ],
   "source": [
    "qr computes the QR decomposition\n",
    "q,r = qr(mat)\n",
    "print(\"q:\\n{}\\n\\nr:\\n{}\\n\".format(q,r))"
   ]
  },
  {
   "cell_type": "code",
   "execution_count": null,
   "id": "81f856dc-b307-43e6-9417-8269834ae67d",
   "metadata": {},
   "outputs": [],
   "source": []
  }
 ],
 "metadata": {
  "kernelspec": {
   "display_name": "Python 3",
   "language": "python",
   "name": "python3"
  },
  "language_info": {
   "codemirror_mode": {
    "name": "ipython",
    "version": 3
   },
   "file_extension": ".py",
   "mimetype": "text/x-python",
   "name": "python",
   "nbconvert_exporter": "python",
   "pygments_lexer": "ipython3",
   "version": "3.9.2"
  }
 },
 "nbformat": 4,
 "nbformat_minor": 5
}
