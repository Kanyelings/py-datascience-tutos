{
 "cells": [
  {
   "cell_type": "markdown",
   "id": "b34c7ad1-2ac4-40cc-90f3-310993f38c2c",
   "metadata": {},
   "source": [
    "# File Input and Output with Arrays\n",
    "Numpy is able to save and load data to and from disk either in text or bin format. We focus only on binary since most users will prefer pandas.\n",
    "\n",
    "np.save and np.load are the two workhorse functions for efficiently saving and load‐\n",
    "ing array data on disk. Arrays are saved by default in an uncompressed raw binary\n",
    "format with file extension .npy:"
   ]
  },
  {
   "cell_type": "code",
   "execution_count": 1,
   "id": "7d3dcdfb-0526-4f56-b350-1e98806edfd0",
   "metadata": {},
   "outputs": [],
   "source": [
    "# imports\n",
    "import numpy as np"
   ]
  },
  {
   "cell_type": "code",
   "execution_count": 4,
   "id": "2e3cdd20-013c-4328-8ac4-5b0533e7cde2",
   "metadata": {},
   "outputs": [],
   "source": [
    "arr = np.arange(10)\n",
    "np.save('some_array', arr)"
   ]
  },
  {
   "cell_type": "code",
   "execution_count": 17,
   "id": "76d7ea54-350a-4d87-b8d1-1b9646bf5f0d",
   "metadata": {},
   "outputs": [
    {
     "data": {
      "text/plain": [
       "array([0, 1, 2, 3, 8, 5, 6, 7, 8, 9])"
      ]
     },
     "execution_count": 17,
     "metadata": {},
     "output_type": "execute_result"
    }
   ],
   "source": [
    "# if the file path does not already end in .npy, the extension will be appended.\n",
    "# the array on the disk can be loaded with np.load\n",
    "arr2 = np.load('some_array.npy')\n",
    "arr2[4] = 8\n",
    "arr2"
   ]
  },
  {
   "cell_type": "code",
   "execution_count": 18,
   "id": "d0b51d5f-2e47-4990-b9da-f6989609063c",
   "metadata": {},
   "outputs": [],
   "source": [
    "# we can save multiple arrays in an uncompressed archive using np.savez and passing arrays as keywork arguments.\n",
    "np.savez('array_archive.npz', a=arr, b=arr2)"
   ]
  },
  {
   "cell_type": "code",
   "execution_count": 19,
   "id": "5781746b-a913-4ee1-a105-25de20922817",
   "metadata": {},
   "outputs": [
    {
     "data": {
      "text/plain": [
       "array([0, 1, 2, 3, 8, 5, 6, 7, 8, 9])"
      ]
     },
     "execution_count": 19,
     "metadata": {},
     "output_type": "execute_result"
    }
   ],
   "source": [
    "# when loading an npz file, you get back a dict-like object that holds the individual arrays lazily\n",
    "arch = np.load('array_archive.npz')\n",
    "arch['b']"
   ]
  },
  {
   "cell_type": "code",
   "execution_count": 20,
   "id": "064ebbea-c13c-4c12-ad77-e8f1ee3b30b0",
   "metadata": {},
   "outputs": [],
   "source": [
    "# if your data compresses well, you may wish to use numpy.savez_compressed instead.\n",
    "np.savez_compressed('arrays_compressed.npz', a=arr, b=arr2)"
   ]
  },
  {
   "cell_type": "code",
   "execution_count": null,
   "id": "2aeec45c-156f-47f0-a4f7-70b6e4f604e6",
   "metadata": {},
   "outputs": [],
   "source": []
  }
 ],
 "metadata": {
  "kernelspec": {
   "display_name": "Python 3",
   "language": "python",
   "name": "python3"
  },
  "language_info": {
   "codemirror_mode": {
    "name": "ipython",
    "version": 3
   },
   "file_extension": ".py",
   "mimetype": "text/x-python",
   "name": "python",
   "nbconvert_exporter": "python",
   "pygments_lexer": "ipython3",
   "version": "3.9.2"
  }
 },
 "nbformat": 4,
 "nbformat_minor": 5
}
