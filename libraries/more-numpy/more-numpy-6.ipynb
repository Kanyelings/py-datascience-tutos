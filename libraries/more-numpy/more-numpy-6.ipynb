{
 "cells": [
  {
   "cell_type": "markdown",
   "id": "61840071-a92c-447a-8cd0-97be88846c9e",
   "metadata": {},
   "source": [
    "# Pseudorandom Number Generation\n",
    "The numpy.random module supplements the built-in Python random with functions\n",
    "for efficiently generating whole arrays of sample values from many kinds of probabil‐\n",
    "ity distributions. For example, you can get a 4 × 4 array of samples from the standard\n",
    "normal distribution using normal :"
   ]
  },
  {
   "cell_type": "code",
   "execution_count": 2,
   "id": "9d5a7bcc-3772-4914-9f0e-d2843263a12a",
   "metadata": {},
   "outputs": [],
   "source": [
    "# imports\n",
    "import numpy as np"
   ]
  },
  {
   "cell_type": "code",
   "execution_count": 4,
   "id": "524d6841-0edf-4633-b178-b5b4d008793c",
   "metadata": {},
   "outputs": [
    {
     "data": {
      "text/plain": [
       "array([[ 0.3019675 , -0.41599263, -0.10740524, -0.41941001],\n",
       "       [ 1.34591385, -0.47775854, -0.27152305, -0.07287309],\n",
       "       [ 0.18270759,  1.21760865,  1.7393735 ,  0.53082502],\n",
       "       [-1.19428534,  0.36747055,  0.05238554, -0.88095254]])"
      ]
     },
     "execution_count": 4,
     "metadata": {},
     "output_type": "execute_result"
    }
   ],
   "source": [
    "samples = np.random.normal(size=(4,4))\n",
    "samples"
   ]
  },
  {
   "cell_type": "markdown",
   "id": "628a77cf-a323-46ac-9f67-2a32ad94fd3a",
   "metadata": {},
   "source": [
    "Python’s built-in random module, by contrast, only samples one value at a time. As\n",
    "you can see from this benchmark, numpy.random is well over an order of magnitude\n",
    "faster for generating very large samples:"
   ]
  },
  {
   "cell_type": "code",
   "execution_count": 5,
   "id": "29078f67-02df-4d96-80ea-51428b87b3e6",
   "metadata": {},
   "outputs": [],
   "source": [
    "from random import normalvariate"
   ]
  },
  {
   "cell_type": "code",
   "execution_count": 7,
   "id": "d0d958e8-7628-4e29-b126-10e4bc00ae0c",
   "metadata": {},
   "outputs": [],
   "source": [
    "N = 1000000"
   ]
  },
  {
   "cell_type": "code",
   "execution_count": 8,
   "id": "a4476956-6da9-4379-a9b4-0e0abe79ae83",
   "metadata": {},
   "outputs": [
    {
     "name": "stdout",
     "output_type": "stream",
     "text": [
      "2.29 s ± 55.8 ms per loop (mean ± std. dev. of 7 runs, 1 loop each)\n"
     ]
    }
   ],
   "source": [
    "%timeit samples = [normalvariate(0,1) for _ in range(N)]"
   ]
  },
  {
   "cell_type": "code",
   "execution_count": 9,
   "id": "a568e99c-54d3-43e6-a421-f548a9f59cfd",
   "metadata": {},
   "outputs": [
    {
     "name": "stdout",
     "output_type": "stream",
     "text": [
      "107 ms ± 644 µs per loop (mean ± std. dev. of 7 runs, 10 loops each)\n"
     ]
    }
   ],
   "source": [
    "%timeit np.random.normal(size=N)"
   ]
  },
  {
   "cell_type": "code",
   "execution_count": null,
   "id": "f2349c31-5ec6-49cd-ba58-9ba2881d5044",
   "metadata": {},
   "outputs": [],
   "source": []
  }
 ],
 "metadata": {
  "kernelspec": {
   "display_name": "Python 3",
   "language": "python",
   "name": "python3"
  },
  "language_info": {
   "codemirror_mode": {
    "name": "ipython",
    "version": 3
   },
   "file_extension": ".py",
   "mimetype": "text/x-python",
   "name": "python",
   "nbconvert_exporter": "python",
   "pygments_lexer": "ipython3",
   "version": "3.9.2"
  }
 },
 "nbformat": 4,
 "nbformat_minor": 5
}
