{
 "cells": [
  {
   "cell_type": "markdown",
   "id": "e9a80019-70ca-4d1d-b678-c3c0c2af68e5",
   "metadata": {},
   "source": [
    "# Arithmetic with Numpy Arrays\n",
    "Arrays are important because they enable you to express batch operations on data without writing any for loops."
   ]
  },
  {
   "cell_type": "code",
   "execution_count": 1,
   "id": "693ec44e-a5dd-49dd-92be-004d333945c1",
   "metadata": {
    "tags": []
   },
   "outputs": [],
   "source": [
    "# imports\n",
    "import numpy as np"
   ]
  },
  {
   "cell_type": "code",
   "execution_count": 2,
   "id": "3473e671-a2a0-4786-9702-949ae17d02c4",
   "metadata": {},
   "outputs": [
    {
     "name": "stdout",
     "output_type": "stream",
     "text": [
      "[[1. 2. 3.]\n",
      " [4. 5. 6.]]\n"
     ]
    }
   ],
   "source": [
    "arr = np.array([[1., 2., 3. ],[4., 5., 6.]])\n",
    "print(arr)"
   ]
  },
  {
   "cell_type": "code",
   "execution_count": 3,
   "id": "a9493637-e63b-490b-ab24-facc6af945a6",
   "metadata": {},
   "outputs": [
    {
     "data": {
      "text/plain": [
       "array([[ 1.,  4.,  9.],\n",
       "       [16., 25., 36.]])"
      ]
     },
     "execution_count": 3,
     "metadata": {},
     "output_type": "execute_result"
    }
   ],
   "source": [
    "# multiplication\n",
    "arr * arr"
   ]
  },
  {
   "cell_type": "code",
   "execution_count": 4,
   "id": "e539e46c-0a93-473c-91e0-34ddc92392ab",
   "metadata": {},
   "outputs": [
    {
     "data": {
      "text/plain": [
       "array([[0., 0., 0.],\n",
       "       [0., 0., 0.]])"
      ]
     },
     "execution_count": 4,
     "metadata": {},
     "output_type": "execute_result"
    }
   ],
   "source": [
    "# subtraction\n",
    "arr - arr"
   ]
  },
  {
   "cell_type": "code",
   "execution_count": 5,
   "id": "fce18981-1bbf-4a11-9119-75ec7fd053bf",
   "metadata": {},
   "outputs": [
    {
     "data": {
      "text/plain": [
       "array([[ 2.,  4.,  6.],\n",
       "       [ 8., 10., 12.]])"
      ]
     },
     "execution_count": 5,
     "metadata": {},
     "output_type": "execute_result"
    }
   ],
   "source": [
    "# addition\n",
    "arr + arr"
   ]
  },
  {
   "cell_type": "code",
   "execution_count": 6,
   "id": "0dbf4efd-67ff-4469-99a8-97a0a43b0996",
   "metadata": {},
   "outputs": [
    {
     "data": {
      "text/plain": [
       "array([[1., 1., 1.],\n",
       "       [1., 1., 1.]])"
      ]
     },
     "execution_count": 6,
     "metadata": {},
     "output_type": "execute_result"
    }
   ],
   "source": [
    "# division\n",
    "arr / arr"
   ]
  },
  {
   "cell_type": "markdown",
   "id": "0fbd2db2-aeba-4be6-b131-68cb082d1982",
   "metadata": {},
   "source": [
    "## with scalars\n",
    "array operation with scalars propagate the scalar argument to each element in the array."
   ]
  },
  {
   "cell_type": "code",
   "execution_count": 7,
   "id": "2e50428e-45fc-4df6-808e-9aed0ba6b88b",
   "metadata": {},
   "outputs": [
    {
     "data": {
      "text/plain": [
       "array([[1.        , 0.5       , 0.33333333],\n",
       "       [0.25      , 0.2       , 0.16666667]])"
      ]
     },
     "execution_count": 7,
     "metadata": {},
     "output_type": "execute_result"
    }
   ],
   "source": [
    "# 1 over the array\n",
    "1 / arr"
   ]
  },
  {
   "cell_type": "code",
   "execution_count": 8,
   "id": "9c17d3a4-2565-46dd-9508-da54cb95789e",
   "metadata": {},
   "outputs": [
    {
     "data": {
      "text/plain": [
       "array([[1.        , 1.41421356, 1.73205081],\n",
       "       [2.        , 2.23606798, 2.44948974]])"
      ]
     },
     "execution_count": 8,
     "metadata": {},
     "output_type": "execute_result"
    }
   ],
   "source": [
    "# raising to a power\n",
    "arr ** 0.5"
   ]
  },
  {
   "cell_type": "code",
   "execution_count": 9,
   "id": "c43f17cc-7da1-452d-a359-092370ad4249",
   "metadata": {},
   "outputs": [
    {
     "data": {
      "text/plain": [
       "array([[ 0.,  4.,  1.],\n",
       "       [ 7.,  2., 12.]])"
      ]
     },
     "execution_count": 9,
     "metadata": {},
     "output_type": "execute_result"
    }
   ],
   "source": [
    "# lets define another array\n",
    "arr2 = np.array([[0., 4., 1.],[7., 2., 12.]])\n",
    "arr2"
   ]
  },
  {
   "cell_type": "code",
   "execution_count": 10,
   "id": "eb869719-5513-440c-8044-2e299b76ea42",
   "metadata": {},
   "outputs": [
    {
     "name": "stdout",
     "output_type": "stream",
     "text": [
      "type of res = bool\n"
     ]
    },
    {
     "data": {
      "text/plain": [
       "array([[ True, False,  True],\n",
       "       [False,  True, False]])"
      ]
     },
     "execution_count": 10,
     "metadata": {},
     "output_type": "execute_result"
    }
   ],
   "source": [
    "# comparing two arrays\n",
    "res = arr > arr2\n",
    "print(\"type of res = {}\".format(res.dtype))\n",
    "res"
   ]
  },
  {
   "cell_type": "markdown",
   "id": "71739326-19b4-4dd2-bd7a-43424f0caed4",
   "metadata": {},
   "source": [
    "### hehe this concludes arithmetic with numpy"
   ]
  },
  {
   "cell_type": "markdown",
   "id": "d981eed0-0dbc-4464-b950-66333e1721ff",
   "metadata": {},
   "source": [
    "# Basic Indexing and Slicing\n",
    "There are many various ways we may want to select an item or group of items from an array. Numpy offers many such methods."
   ]
  },
  {
   "cell_type": "code",
   "execution_count": 11,
   "id": "a2536e4a-ce0d-4a10-ac02-224a19dbe913",
   "metadata": {},
   "outputs": [
    {
     "data": {
      "text/plain": [
       "array([0, 1, 2, 3, 4, 5, 6, 7, 8, 9])"
      ]
     },
     "execution_count": 11,
     "metadata": {},
     "output_type": "execute_result"
    }
   ],
   "source": [
    "arr = np.arange(10)\n",
    "arr"
   ]
  },
  {
   "cell_type": "code",
   "execution_count": 12,
   "id": "67c50fd2-62fb-4891-870d-6020ab7002cd",
   "metadata": {},
   "outputs": [
    {
     "data": {
      "text/plain": [
       "5"
      ]
     },
     "execution_count": 12,
     "metadata": {},
     "output_type": "execute_result"
    }
   ],
   "source": [
    "# selecting item at index=5\n",
    "arr[5]"
   ]
  },
  {
   "cell_type": "code",
   "execution_count": 13,
   "id": "5f9c275b-2220-46f1-8560-c7daf4a46a54",
   "metadata": {},
   "outputs": [
    {
     "data": {
      "text/plain": [
       "array([5, 6, 7])"
      ]
     },
     "execution_count": 13,
     "metadata": {},
     "output_type": "execute_result"
    }
   ],
   "source": [
    "# selecting the sublist of items from 5 to 8 exclusive\n",
    "arr[5:8]"
   ]
  },
  {
   "cell_type": "code",
   "execution_count": 14,
   "id": "3ac7864a-6b73-4373-a17b-b872f7db0141",
   "metadata": {},
   "outputs": [
    {
     "data": {
      "text/plain": [
       "array([ 0,  1,  2,  3,  4, 13, 13, 13,  8,  9])"
      ]
     },
     "execution_count": 14,
     "metadata": {},
     "output_type": "execute_result"
    }
   ],
   "source": [
    "# reassigning a sublist of items to a particular value\n",
    "arr[5:8] = 13\n",
    "arr"
   ]
  },
  {
   "cell_type": "code",
   "execution_count": 15,
   "id": "b0081885-46d6-41be-a8c4-c7ea7e94fe89",
   "metadata": {},
   "outputs": [
    {
     "data": {
      "text/plain": [
       "array([ 0,  1,  2,  3,  4, 14, 15, 16,  8,  9])"
      ]
     },
     "execution_count": 15,
     "metadata": {},
     "output_type": "execute_result"
    }
   ],
   "source": [
    "# reassigning a sublist of items to a another list\n",
    "## note that the sublist and list must be of the same length\n",
    "arr[5:8] = [n for n in range(14,17)]\n",
    "arr"
   ]
  },
  {
   "cell_type": "markdown",
   "id": "01631cb8-81d2-4949-b246-a03c03d11899",
   "metadata": {},
   "source": [
    "### with higher dimension arrays, we have many more options.\n",
    "In 2D arrays, the elements at each index are no longer scalars but rather 1D arrays."
   ]
  },
  {
   "cell_type": "code",
   "execution_count": 16,
   "id": "3aa92198-404c-447a-b0f6-98838a4fefbb",
   "metadata": {},
   "outputs": [
    {
     "data": {
      "text/plain": [
       "array([[1, 2, 3],\n",
       "       [4, 5, 6],\n",
       "       [7, 8, 9]])"
      ]
     },
     "execution_count": 16,
     "metadata": {},
     "output_type": "execute_result"
    }
   ],
   "source": [
    "arr2d = np.array([[1,2,3],[4,5,6],[7,8,9]])\n",
    "arr2d"
   ]
  },
  {
   "cell_type": "code",
   "execution_count": 17,
   "id": "885e2671-8d1f-4508-9b17-973f6f262c85",
   "metadata": {},
   "outputs": [
    {
     "data": {
      "text/plain": [
       "array([4, 5, 6])"
      ]
     },
     "execution_count": 17,
     "metadata": {},
     "output_type": "execute_result"
    }
   ],
   "source": [
    "# selecting one index\n",
    "arr2d[1]"
   ]
  },
  {
   "cell_type": "code",
   "execution_count": 18,
   "id": "42fb26ea-9f47-477e-bf29-55b88db02f61",
   "metadata": {},
   "outputs": [
    {
     "name": "stdout",
     "output_type": "stream",
     "text": [
      "6\n"
     ]
    },
    {
     "data": {
      "text/plain": [
       "6"
      ]
     },
     "execution_count": 18,
     "metadata": {},
     "output_type": "execute_result"
    }
   ],
   "source": [
    "# individual elements can be accessed recursively\n",
    "print(arr2d[1][2])\n",
    "\n",
    "# but this is too much work.\n",
    "## we could just separate the indexes with a comma\n",
    "arr2d[1,2]"
   ]
  },
  {
   "cell_type": "code",
   "execution_count": 19,
   "id": "cd4cabad-d8e8-4ba1-984f-e80258595c5a",
   "metadata": {},
   "outputs": [
    {
     "data": {
      "text/plain": [
       "array([[[ 1,  2,  3],\n",
       "        [ 4,  5,  6]],\n",
       "\n",
       "       [[ 7,  8,  9],\n",
       "        [10, 11, 12]]])"
      ]
     },
     "execution_count": 19,
     "metadata": {},
     "output_type": "execute_result"
    }
   ],
   "source": [
    "# lets look at a 3d array... honestly, I sometimes dont get shit about array sizes above 2\n",
    "arr3d = np.array(\n",
    "    [[\n",
    "        [1,2,3],[4,5,6]],\n",
    "        [[7,8,9],[10,11,12]\n",
    "    ]]\n",
    ")\n",
    "arr3d"
   ]
  },
  {
   "cell_type": "code",
   "execution_count": 20,
   "id": "8ff531f7-569e-4203-972a-95173d0c96da",
   "metadata": {},
   "outputs": [
    {
     "data": {
      "text/plain": [
       "array([[1, 2, 3],\n",
       "       [4, 5, 6]])"
      ]
     },
     "execution_count": 20,
     "metadata": {},
     "output_type": "execute_result"
    }
   ],
   "source": [
    "# arr3d[0] is a 2x3 array\n",
    "arr3d[0]"
   ]
  },
  {
   "cell_type": "code",
   "execution_count": 21,
   "id": "42864c8c-d627-42fb-9d38-c85af64b5f4e",
   "metadata": {},
   "outputs": [
    {
     "data": {
      "text/plain": [
       "array([[[42, 42, 42],\n",
       "        [42, 42, 42]],\n",
       "\n",
       "       [[ 7,  8,  9],\n",
       "        [10, 11, 12]]])"
      ]
     },
     "execution_count": 21,
     "metadata": {},
     "output_type": "execute_result"
    }
   ],
   "source": [
    "arr3d_copy = arr3d[:].copy()\n",
    "arr3d_copy[0] = 42\n",
    "arr3d_copy"
   ]
  },
  {
   "cell_type": "code",
   "execution_count": 22,
   "id": "9387aa44-2c2c-4d1c-92cc-d69f5565a738",
   "metadata": {},
   "outputs": [
    {
     "data": {
      "text/plain": [
       "array([10, 11, 12])"
      ]
     },
     "execution_count": 22,
     "metadata": {},
     "output_type": "execute_result"
    }
   ],
   "source": [
    "# selecting a 1D array from our 3D\n",
    "arr3d[1,1]"
   ]
  },
  {
   "cell_type": "code",
   "execution_count": 23,
   "id": "72684c0c-4880-443b-aba2-d2af9b7ac80d",
   "metadata": {},
   "outputs": [
    {
     "data": {
      "text/plain": [
       "12"
      ]
     },
     "execution_count": 23,
     "metadata": {},
     "output_type": "execute_result"
    }
   ],
   "source": [
    "# selecting a particular item from our 3D\n",
    "arr3d[1,1,2]"
   ]
  },
  {
   "cell_type": "markdown",
   "id": "a17b5893-ed64-4c21-bba8-fd69a56d5a3f",
   "metadata": {},
   "source": [
    "## Indexing with Slices\n",
    "Like 1D objects such as lists, ndarrays can be sliced with the familiar syntax "
   ]
  },
  {
   "cell_type": "code",
   "execution_count": 24,
   "id": "a50b3659-96fa-4155-9e51-8061dec2f681",
   "metadata": {},
   "outputs": [
    {
     "name": "stdout",
     "output_type": "stream",
     "text": [
      "arr = [ 0  1  2  3  4 14 15 16  8  9]\n"
     ]
    },
    {
     "data": {
      "text/plain": [
       "array([ 1,  2,  3,  4, 14])"
      ]
     },
     "execution_count": 24,
     "metadata": {},
     "output_type": "execute_result"
    }
   ],
   "source": [
    "# consider 1D\n",
    "print(\"arr = {}\".format(arr))\n",
    "arr[1:6]"
   ]
  },
  {
   "cell_type": "code",
   "execution_count": 25,
   "id": "28494583-9718-4e09-aaf8-8f7ec7932a7d",
   "metadata": {},
   "outputs": [
    {
     "name": "stdout",
     "output_type": "stream",
     "text": [
      "arr2d = [[1 2 3]\n",
      " [4 5 6]\n",
      " [7 8 9]]\n"
     ]
    },
    {
     "data": {
      "text/plain": [
       "array([[1, 2, 3],\n",
       "       [4, 5, 6]])"
      ]
     },
     "execution_count": 25,
     "metadata": {},
     "output_type": "execute_result"
    }
   ],
   "source": [
    "# now 2D from arr2d\n",
    "print(\"arr2d = {}\".format(arr2d))\n",
    "arr2d[:2]"
   ]
  },
  {
   "cell_type": "code",
   "execution_count": 26,
   "id": "f026ec4f-a3e9-452f-a1e5-435092fc0b16",
   "metadata": {},
   "outputs": [
    {
     "data": {
      "text/plain": [
       "array([[2, 3],\n",
       "       [5, 6]])"
      ]
     },
     "execution_count": 26,
     "metadata": {},
     "output_type": "execute_result"
    }
   ],
   "source": [
    "## you can pass multiple slices like this\n",
    "arr2d[:2, 1:]"
   ]
  },
  {
   "cell_type": "markdown",
   "id": "731fffd3-8a05-4f91-9dc1-44ec7bc41bd8",
   "metadata": {},
   "source": [
    "## Boolean Indexing\n",
    "Let’s consider an example where we have some data in an array and an array of names\n",
    "with duplicates"
   ]
  },
  {
   "cell_type": "code",
   "execution_count": 27,
   "id": "a6af0074-8bdc-44df-ab26-f24a6666897b",
   "metadata": {},
   "outputs": [],
   "source": [
    "names = np.array(['Bob','Joe','Will','Bob','Will','Joe','Joe'])\n",
    "data = np.random.randn(7,4)"
   ]
  },
  {
   "cell_type": "code",
   "execution_count": 28,
   "id": "e2631f35-8485-4d25-ba66-83291a709d01",
   "metadata": {},
   "outputs": [
    {
     "name": "stdout",
     "output_type": "stream",
     "text": [
      "names: \n",
      "['Bob' 'Joe' 'Will' 'Bob' 'Will' 'Joe' 'Joe']\n",
      "\n",
      "data:\n",
      "[[ 1.51304513  1.01816049  0.8450459   0.73293198]\n",
      " [-0.37397703  0.81453046  0.93984053 -2.00924   ]\n",
      " [ 1.01817751  0.6427766  -0.76026008 -0.52487897]\n",
      " [-0.63305105 -0.30309812 -0.29662755  1.08315803]\n",
      " [-0.38781626  1.80604884  0.33419771  1.461282  ]\n",
      " [-0.70994812 -0.741191   -0.84906134 -0.15482992]\n",
      " [-1.85716565 -0.16193655 -1.66551575 -1.47362042]]\n",
      "\n"
     ]
    }
   ],
   "source": [
    "print(\"names: \\n{}\\n\".format(names))\n",
    "print(\"data:\\n{}\\n\".format(data))"
   ]
  },
  {
   "cell_type": "code",
   "execution_count": 29,
   "id": "43f4ad2d-8887-4ea9-af6c-7fd06f6c49fd",
   "metadata": {},
   "outputs": [
    {
     "data": {
      "text/plain": [
       "array([ True, False, False,  True, False, False, False])"
      ]
     },
     "execution_count": 29,
     "metadata": {},
     "output_type": "execute_result"
    }
   ],
   "source": [
    "# like in arithmetic, comparisons with arrays are vectorised.\n",
    "names == 'Bob'"
   ]
  },
  {
   "cell_type": "code",
   "execution_count": 30,
   "id": "1ff660f3-7603-4023-8b5a-caf54b2167be",
   "metadata": {},
   "outputs": [
    {
     "data": {
      "text/plain": [
       "array([[ 1.51304513,  1.01816049,  0.8450459 ,  0.73293198],\n",
       "       [-0.63305105, -0.30309812, -0.29662755,  1.08315803]])"
      ]
     },
     "execution_count": 30,
     "metadata": {},
     "output_type": "execute_result"
    }
   ],
   "source": [
    "data[names == 'Bob']"
   ]
  },
  {
   "cell_type": "markdown",
   "id": "745a463b-3bea-49a5-872f-2e3fcb364d83",
   "metadata": {},
   "source": [
    "#### in the following examples, we select from the rows where names == 'Bob' and index the columns too"
   ]
  },
  {
   "cell_type": "code",
   "execution_count": 31,
   "id": "cd937453-1337-427b-bd46-729887f48183",
   "metadata": {},
   "outputs": [
    {
     "data": {
      "text/plain": [
       "array([[ 0.8450459 ,  0.73293198],\n",
       "       [-0.29662755,  1.08315803]])"
      ]
     },
     "execution_count": 31,
     "metadata": {},
     "output_type": "execute_result"
    }
   ],
   "source": [
    "data[names == 'Bob', 2:]"
   ]
  },
  {
   "cell_type": "code",
   "execution_count": 32,
   "id": "40952b75-3335-40f2-bbad-1fa946e75cc1",
   "metadata": {},
   "outputs": [
    {
     "data": {
      "text/plain": [
       "array([[0.73293198],\n",
       "       [1.08315803]])"
      ]
     },
     "execution_count": 32,
     "metadata": {},
     "output_type": "execute_result"
    }
   ],
   "source": [
    "data[names == 'Bob', 3:]"
   ]
  },
  {
   "cell_type": "code",
   "execution_count": 33,
   "id": "3ee4dc2d-e36f-4ea5-ab9e-e531337363dc",
   "metadata": {},
   "outputs": [
    {
     "data": {
      "text/plain": [
       "array([False,  True,  True, False,  True,  True,  True])"
      ]
     },
     "execution_count": 33,
     "metadata": {},
     "output_type": "execute_result"
    }
   ],
   "source": [
    "names != 'Bob'"
   ]
  },
  {
   "cell_type": "code",
   "execution_count": 34,
   "id": "e1133413-21de-400a-b82e-b6cefa00a46b",
   "metadata": {},
   "outputs": [
    {
     "data": {
      "text/plain": [
       "array([[-0.37397703,  0.81453046,  0.93984053, -2.00924   ],\n",
       "       [ 1.01817751,  0.6427766 , -0.76026008, -0.52487897],\n",
       "       [-0.38781626,  1.80604884,  0.33419771,  1.461282  ],\n",
       "       [-0.70994812, -0.741191  , -0.84906134, -0.15482992],\n",
       "       [-1.85716565, -0.16193655, -1.66551575, -1.47362042]])"
      ]
     },
     "execution_count": 34,
     "metadata": {},
     "output_type": "execute_result"
    }
   ],
   "source": [
    "data[names != 'Bob']"
   ]
  },
  {
   "cell_type": "code",
   "execution_count": 35,
   "id": "152e4165-5dd0-4283-8ff8-3187a37d09ff",
   "metadata": {},
   "outputs": [
    {
     "data": {
      "text/plain": [
       "array([[-0.37397703,  0.81453046,  0.93984053, -2.00924   ],\n",
       "       [ 1.01817751,  0.6427766 , -0.76026008, -0.52487897],\n",
       "       [-0.38781626,  1.80604884,  0.33419771,  1.461282  ],\n",
       "       [-0.70994812, -0.741191  , -0.84906134, -0.15482992],\n",
       "       [-1.85716565, -0.16193655, -1.66551575, -1.47362042]])"
      ]
     },
     "execution_count": 35,
     "metadata": {},
     "output_type": "execute_result"
    }
   ],
   "source": [
    "cond = names == 'Bob' # an np boolean array\n",
    "data[~cond] # ~cond is the inverse of cond"
   ]
  },
  {
   "cell_type": "code",
   "execution_count": 36,
   "id": "28bba23a-bbab-486e-b097-e572a38c7536",
   "metadata": {},
   "outputs": [
    {
     "data": {
      "text/plain": [
       "array([ True, False,  True,  True,  True, False, False])"
      ]
     },
     "execution_count": 36,
     "metadata": {},
     "output_type": "execute_result"
    }
   ],
   "source": [
    "# selecting one of either names using an OR operator\n",
    "mask = (names == 'Bob') | (names =='Will')\n",
    "mask"
   ]
  },
  {
   "cell_type": "code",
   "execution_count": 37,
   "id": "ca90c634-7fb0-45d7-9408-b9025054df20",
   "metadata": {},
   "outputs": [
    {
     "data": {
      "text/plain": [
       "array([[ 1.51304513,  1.01816049,  0.8450459 ,  0.73293198],\n",
       "       [ 1.01817751,  0.6427766 , -0.76026008, -0.52487897],\n",
       "       [-0.63305105, -0.30309812, -0.29662755,  1.08315803],\n",
       "       [-0.38781626,  1.80604884,  0.33419771,  1.461282  ]])"
      ]
     },
     "execution_count": 37,
     "metadata": {},
     "output_type": "execute_result"
    }
   ],
   "source": [
    "data[mask]"
   ]
  },
  {
   "cell_type": "markdown",
   "id": "cc9cc239-931e-4084-a672-0dea5299301e",
   "metadata": {},
   "source": [
    "##### python keywords 'and' and 'or' use & and | instead on numpy boolean arrays"
   ]
  },
  {
   "cell_type": "code",
   "execution_count": 38,
   "id": "ce0613aa-cb1d-430a-b96e-ac1269b3a740",
   "metadata": {},
   "outputs": [
    {
     "data": {
      "text/plain": [
       "array([[1.51304513, 1.01816049, 0.8450459 , 0.73293198],\n",
       "       [0.        , 0.81453046, 0.93984053, 0.        ],\n",
       "       [1.01817751, 0.6427766 , 0.        , 0.        ],\n",
       "       [0.        , 0.        , 0.        , 1.08315803],\n",
       "       [0.        , 1.80604884, 0.33419771, 1.461282  ],\n",
       "       [0.        , 0.        , 0.        , 0.        ],\n",
       "       [0.        , 0.        , 0.        , 0.        ]])"
      ]
     },
     "execution_count": 38,
     "metadata": {},
     "output_type": "execute_result"
    }
   ],
   "source": [
    "data[data < 0] = 0\n",
    "data"
   ]
  },
  {
   "cell_type": "code",
   "execution_count": 39,
   "id": "33e555c7-a8a9-4de4-b79f-4cb706851d07",
   "metadata": {},
   "outputs": [
    {
     "data": {
      "text/plain": [
       "array([[7.        , 7.        , 7.        , 7.        ],\n",
       "       [0.        , 0.81453046, 0.93984053, 0.        ],\n",
       "       [7.        , 7.        , 7.        , 7.        ],\n",
       "       [7.        , 7.        , 7.        , 7.        ],\n",
       "       [7.        , 7.        , 7.        , 7.        ],\n",
       "       [0.        , 0.        , 0.        , 0.        ],\n",
       "       [0.        , 0.        , 0.        , 0.        ]])"
      ]
     },
     "execution_count": 39,
     "metadata": {},
     "output_type": "execute_result"
    }
   ],
   "source": [
    "# setting whole columns or rows using a 1D entity is also easy\n",
    "data[names != 'Joe'] = 7\n",
    "data"
   ]
  },
  {
   "cell_type": "markdown",
   "id": "d907ea9d-58d6-4bc6-a236-35f9c487be99",
   "metadata": {},
   "source": [
    "## Fancy Indexing\n",
    "This is a term adopted by NumPy to describe indexing using integer arrays.\n"
   ]
  },
  {
   "cell_type": "code",
   "execution_count": 40,
   "id": "396815e3-b018-4551-b4c5-3733b1d38898",
   "metadata": {},
   "outputs": [
    {
     "data": {
      "text/plain": [
       "array([[1.87797593e-316, 0.00000000e+000, 2.14321575e-312,\n",
       "        2.46151512e-312],\n",
       "       [2.33419537e-312, 6.79038654e-313, 2.20687562e-312,\n",
       "        6.79038654e-313],\n",
       "       [2.48273508e-312, 2.29175545e-312, 2.44029516e-312,\n",
       "        6.79038654e-313],\n",
       "       [2.16443571e-312, 2.22809558e-312, 2.14321575e-312,\n",
       "        2.44029516e-312],\n",
       "       [2.16443571e-312, 2.35541533e-312, 6.79038654e-313,\n",
       "        6.79038653e-313],\n",
       "       [2.35541533e-312, 1.18831764e-312, 2.14321575e-312,\n",
       "        2.10077583e-312],\n",
       "       [2.48273508e-312, 2.22809558e-312, 2.14321575e-312,\n",
       "        2.05833592e-312],\n",
       "       [2.41907520e-312, 1.12465777e-312, 1.18831764e-312,\n",
       "        4.59481051e-322]])"
      ]
     },
     "execution_count": 40,
     "metadata": {},
     "output_type": "execute_result"
    }
   ],
   "source": [
    "# take an 8X4 array for example\n",
    "arr = np.empty((8,4))\n",
    "arr"
   ]
  },
  {
   "cell_type": "code",
   "execution_count": 41,
   "id": "de26bedd-a289-4086-a462-f6275daa739d",
   "metadata": {},
   "outputs": [
    {
     "data": {
      "text/plain": [
       "array([[0., 0., 0., 0.],\n",
       "       [1., 1., 1., 1.],\n",
       "       [2., 2., 2., 2.],\n",
       "       [3., 3., 3., 3.],\n",
       "       [4., 4., 4., 4.],\n",
       "       [5., 5., 5., 5.],\n",
       "       [6., 6., 6., 6.],\n",
       "       [7., 7., 7., 7.]])"
      ]
     },
     "execution_count": 41,
     "metadata": {},
     "output_type": "execute_result"
    }
   ],
   "source": [
    "for i in range(8): arr[i] = i\n",
    "arr"
   ]
  },
  {
   "cell_type": "code",
   "execution_count": 42,
   "id": "9306575c-821f-4d99-9af4-fc328a6b0d17",
   "metadata": {},
   "outputs": [
    {
     "data": {
      "text/plain": [
       "array([[4., 4., 4., 4.],\n",
       "       [6., 6., 6., 6.],\n",
       "       [0., 0., 0., 0.],\n",
       "       [3., 3., 3., 3.]])"
      ]
     },
     "execution_count": 42,
     "metadata": {},
     "output_type": "execute_result"
    }
   ],
   "source": [
    "# to select out a subset of rows in a particular order, you can simply pass a list or ndarray of integers specifying the order\n",
    "arr[[4,6,0,3]]"
   ]
  },
  {
   "cell_type": "code",
   "execution_count": 43,
   "id": "290ab2ca-fca1-4a4b-a089-66dfd3b489a9",
   "metadata": {},
   "outputs": [
    {
     "data": {
      "text/plain": [
       "array([[4., 4., 4., 4.],\n",
       "       [6., 6., 6., 6.],\n",
       "       [0., 0., 0., 0.],\n",
       "       [3., 3., 3., 3.]])"
      ]
     },
     "execution_count": 43,
     "metadata": {},
     "output_type": "execute_result"
    }
   ],
   "source": [
    "# or you can use negative indices to select rows from the end\n",
    "arr[[-4, -2, -8, -5]]"
   ]
  },
  {
   "cell_type": "markdown",
   "id": "2f9b2117-e60f-4502-9ca6-9e6e25d32e8d",
   "metadata": {},
   "source": [
    "## Transposing Arrays and Swapping Axes\n"
   ]
  },
  {
   "cell_type": "code",
   "execution_count": 44,
   "id": "e9636110-28a5-49be-8448-bc4feb8d9d73",
   "metadata": {},
   "outputs": [
    {
     "data": {
      "text/plain": [
       "array([[ 0,  1,  2,  3,  4],\n",
       "       [ 5,  6,  7,  8,  9],\n",
       "       [10, 11, 12, 13, 14]])"
      ]
     },
     "execution_count": 44,
     "metadata": {},
     "output_type": "execute_result"
    }
   ],
   "source": [
    "arr = np.arange(15).reshape(3,5)\n",
    "arr"
   ]
  },
  {
   "cell_type": "code",
   "execution_count": 45,
   "id": "8b0be7ad-debc-48e8-8157-7ba445462548",
   "metadata": {},
   "outputs": [
    {
     "data": {
      "text/plain": [
       "array([[ 0,  5, 10],\n",
       "       [ 1,  6, 11],\n",
       "       [ 2,  7, 12],\n",
       "       [ 3,  8, 13],\n",
       "       [ 4,  9, 14]])"
      ]
     },
     "execution_count": 45,
     "metadata": {},
     "output_type": "execute_result"
    }
   ],
   "source": [
    "# transpose of arr\n",
    "arr.T"
   ]
  },
  {
   "cell_type": "code",
   "execution_count": 47,
   "id": "43f27afe-d6ea-40ae-96d6-b2a2fddd7e76",
   "metadata": {},
   "outputs": [
    {
     "name": "stdout",
     "output_type": "stream",
     "text": [
      "arr:\n",
      "[[ 0.79992221 -0.97939526  2.00248236]\n",
      " [-0.30157945  0.20375107 -1.66609168]\n",
      " [ 1.34576001  1.25967461  0.02015686]\n",
      " [-1.42052327 -0.51247132 -0.64987809]\n",
      " [-0.275198    0.76359439 -0.09769875]\n",
      " [ 0.13709558  0.0588036   1.25336696]]\n",
      "\n"
     ]
    },
    {
     "data": {
      "text/plain": [
       "array([[ 4.65431121,  1.37623206,  3.25329996],\n",
       "       [ 1.37623206,  3.43667082, -1.94315446],\n",
       "       [ 3.25329996, -1.94315446,  8.7890187 ]])"
      ]
     },
     "execution_count": 47,
     "metadata": {},
     "output_type": "execute_result"
    }
   ],
   "source": [
    "# we can compute the inner matrix product using np.dot\n",
    "arr = np.random.randn(6,3)\n",
    "print(\"arr:\\n{}\\n\".format(arr))\n",
    "np.dot(arr.T, arr)"
   ]
  },
  {
   "cell_type": "code",
   "execution_count": 53,
   "id": "92bda04f-5070-4a59-9f3d-a2cbf5eac4f3",
   "metadata": {},
   "outputs": [
    {
     "name": "stdout",
     "output_type": "stream",
     "text": [
      "arr:\n",
      "[[[ 0  1  2  3]\n",
      "  [ 4  5  6  7]]\n",
      "\n",
      " [[ 8  9 10 11]\n",
      "  [12 13 14 15]]]\n",
      "\n"
     ]
    }
   ],
   "source": [
    "# for higher dimen arrays, transpose will accept a tuple of axis numbers to permute the axes\n",
    "arr = np.arange(16).reshape(2,2,4)\n",
    "print(\"arr:\\n{}\\n\".format(arr))"
   ]
  },
  {
   "cell_type": "code",
   "execution_count": 56,
   "id": "013c8147-fb0d-4d44-90e8-bbfb4817a4fb",
   "metadata": {},
   "outputs": [
    {
     "data": {
      "text/plain": [
       "array([[[ 0,  1,  2,  3],\n",
       "        [ 8,  9, 10, 11]],\n",
       "\n",
       "       [[ 4,  5,  6,  7],\n",
       "        [12, 13, 14, 15]]])"
      ]
     },
     "execution_count": 56,
     "metadata": {},
     "output_type": "execute_result"
    }
   ],
   "source": [
    "arr.transpose((1,0,2))"
   ]
  },
  {
   "cell_type": "code",
   "execution_count": 57,
   "id": "ac3d71fa-65a4-4d1e-83a4-e4abfdfeed77",
   "metadata": {},
   "outputs": [
    {
     "data": {
      "text/plain": [
       "array([[[ 0,  4],\n",
       "        [ 1,  5],\n",
       "        [ 2,  6],\n",
       "        [ 3,  7]],\n",
       "\n",
       "       [[ 8, 12],\n",
       "        [ 9, 13],\n",
       "        [10, 14],\n",
       "        [11, 15]]])"
      ]
     },
     "execution_count": 57,
     "metadata": {},
     "output_type": "execute_result"
    }
   ],
   "source": [
    "# we can also just do swapaxes\n",
    "arr.swapaxes(1,2)"
   ]
  },
  {
   "cell_type": "code",
   "execution_count": null,
   "id": "eee6abcc-e025-4c6b-851d-03cccf8cc4d4",
   "metadata": {},
   "outputs": [],
   "source": []
  }
 ],
 "metadata": {
  "kernelspec": {
   "display_name": "Python 3",
   "language": "python",
   "name": "python3"
  },
  "language_info": {
   "codemirror_mode": {
    "name": "ipython",
    "version": 3
   },
   "file_extension": ".py",
   "mimetype": "text/x-python",
   "name": "python",
   "nbconvert_exporter": "python",
   "pygments_lexer": "ipython3",
   "version": "3.9.2"
  }
 },
 "nbformat": 4,
 "nbformat_minor": 5
}
