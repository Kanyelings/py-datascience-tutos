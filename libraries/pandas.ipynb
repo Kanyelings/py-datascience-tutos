{
 "cells": [
  {
   "cell_type": "markdown",
   "id": "e2638af5-4174-46d7-a4ad-f538209d2e9c",
   "metadata": {},
   "source": [
    "# Installation\n",
    "pip install pandas  \n",
    "and other methods"
   ]
  },
  {
   "cell_type": "code",
   "execution_count": 1,
   "id": "8701b769-ca8e-4985-968d-5445c44fceeb",
   "metadata": {},
   "outputs": [],
   "source": [
    "# imports \n",
    "import pandas as pd\n",
    "import numpy as np"
   ]
  },
  {
   "cell_type": "markdown",
   "id": "b92d7e89-85dd-4270-8e8e-69d28dc02179",
   "metadata": {},
   "source": [
    "## The Series data structure"
   ]
  },
  {
   "cell_type": "code",
   "execution_count": 2,
   "id": "258a5140-fa88-4614-911a-02c5b21eba0c",
   "metadata": {},
   "outputs": [
    {
     "name": "stdout",
     "output_type": "stream",
     "text": [
      "original series:\n",
      "0    12\n",
      "1    -4\n",
      "2     7\n",
      "3     9\n",
      "dtype: int64\n"
     ]
    }
   ],
   "source": [
    "# declaring a series\n",
    "s = pd.Series([12,-4,7,9])\n",
    "print(\"original series:\\n{}\".format(s))"
   ]
  },
  {
   "cell_type": "code",
   "execution_count": 3,
   "id": "36939d9e-4675-42b3-a3f0-e1804bcf868a",
   "metadata": {},
   "outputs": [
    {
     "data": {
      "text/plain": [
       "array([ 20,   6, 200,   2])"
      ]
     },
     "execution_count": 3,
     "metadata": {},
     "output_type": "execute_result"
    }
   ],
   "source": [
    "# declaring with defined index\n",
    "kanye_info = pd.Series(\n",
    "    [20, 6, 200, 2],\n",
    "    index=['age', 'height', 'level', 'year']\n",
    ")\n",
    "kanye_info.index # to get an nparray of the indices\n",
    "kanye_info.values # to get an nparray of the values"
   ]
  },
  {
   "cell_type": "code",
   "execution_count": 4,
   "id": "65deff75-b7d0-4404-9393-f35c5ab14ec0",
   "metadata": {},
   "outputs": [
    {
     "name": "stdout",
     "output_type": "stream",
     "text": [
      "Kanye age = 20\n",
      "Kanye new age: 5\n"
     ]
    }
   ],
   "source": [
    "# getting values using index\n",
    "print(\"Kanye age = {}\".format(kanye_info['age']))\n",
    "\n",
    "# setting values using index\n",
    "kanye_info['height'] = 5\n",
    "print(\"Kanye new age: {}\".format(kanye_info['height']))"
   ]
  },
  {
   "cell_type": "code",
   "execution_count": 5,
   "id": "ffd9d6f2-d412-4a7c-9796-94b97bdb461f",
   "metadata": {},
   "outputs": [
    {
     "name": "stdout",
     "output_type": "stream",
     "text": [
      "Result example: \n",
      "0    1\n",
      "1    2\n",
      "2    3\n",
      "3    4\n",
      "dtype: int64\n"
     ]
    }
   ],
   "source": [
    "# defining series from numpy arrays\n",
    "np_arr = np.array([1,2,3,4])\n",
    "exmp_s = pd.Series(np_arr)\n",
    "print(\"Result example: \\n{}\".format(exmp_s))"
   ]
  },
  {
   "cell_type": "markdown",
   "id": "9d944787-a18b-49ae-9382-35c35b74e93c",
   "metadata": {},
   "source": [
    "### NOTE\n",
    "operations and mathematical functions that work on numpy arrays are applicable on series as well."
   ]
  },
  {
   "cell_type": "markdown",
   "id": "e9b7814a-e63f-4ba4-8193-e13e3cae40de",
   "metadata": {},
   "source": [
    "## DataFrame structure"
   ]
  },
  {
   "cell_type": "code",
   "execution_count": 11,
   "id": "6ea37fe3-e36e-418e-a29f-3dcbef581fda",
   "metadata": {},
   "outputs": [
    {
     "name": "stdout",
     "output_type": "stream",
     "text": [
      "blue\n"
     ]
    }
   ],
   "source": [
    "# defining a dataframe\n",
    "## the most common method is to pass a dict object to the DataFrame constructor\n",
    "data = {\n",
    "    'color':['blue','green','yellow','red','white'],\n",
    "    'object': ['ball','pen','pencil','paper','mug'],\n",
    "    'price': [1.2,1.0,0.6,0.9,1.7]\n",
    "}\n",
    "d_frame = pd.DataFrame(data)"
   ]
  },
  {
   "cell_type": "code",
   "execution_count": 17,
   "id": "7f61b14b-efd7-4af0-bb79-0d679c2f2ea5",
   "metadata": {},
   "outputs": [
    {
     "name": "stdout",
     "output_type": "stream",
     "text": [
      "d_frame2: \n",
      "   object  price\n",
      "0    ball    1.2\n",
      "1     pen    1.0\n",
      "2  pencil    0.6\n",
      "3   paper    0.9\n",
      "4     mug    1.7\n",
      "\n",
      "d_frame3: \n",
      "        color  object  price\n",
      "one      blue    ball    1.2\n",
      "two     green     pen    1.0\n",
      "three  yellow  pencil    0.6\n",
      "four      red   paper    0.9\n",
      "five    white     mug    1.7\n"
     ]
    }
   ],
   "source": [
    "# if the data from which we want to make the dataframe contains more columns than necessary, we specify\n",
    "d_frame2 = pd.DataFrame(data, columns=['object', 'price'])\n",
    "print(\"d_frame2: \\n{}\".format(d_frame2))\n",
    "\n",
    "# we can also specify the value of the indices\n",
    "d_frame3 = pd.DataFrame(data, index=['one','two','three','four','five'])\n",
    "print(\"\\nd_frame3: \\n{}\".format(d_frame3))"
   ]
  },
  {
   "cell_type": "code",
   "execution_count": 23,
   "id": "278be84a-0620-4d32-8034-490599dbc708",
   "metadata": {},
   "outputs": [
    {
     "name": "stdout",
     "output_type": "stream",
     "text": [
      "d_frame4: \n",
      "   one  two  three  four  five\n",
      "1    0    1      2     3     4\n",
      "2    5    6      7     8     9\n",
      "3   10   11     12    13    14\n",
      "4   15   16     17    18    19\n",
      "5   20   21     22    23    24\n"
     ]
    }
   ],
   "source": [
    "# a dataframe can also be defined using an array object\n",
    "d_frame4 = pd.DataFrame(\n",
    "    np.arange(25).reshape((5,5)),\n",
    "    index=[1,2,3,4,5],\n",
    "    columns=['one','two','three','four','five']\n",
    ")\n",
    "print(\"d_frame4: \\n{}\".format(d_frame4))"
   ]
  },
  {
   "cell_type": "code",
   "execution_count": 34,
   "id": "20b78c21-b2c3-41fe-a27e-99357b08a608",
   "metadata": {},
   "outputs": [
    {
     "name": "stdout",
     "output_type": "stream",
     "text": [
      "exmp columns: Index(['one', 'two', 'three', 'four', 'five'], dtype='object') \n",
      "\n",
      "exmp values: \n",
      "[[ 0  1  2  3  4]\n",
      " [ 5  6  7  8  9]\n",
      " [10 11 12 13 14]\n",
      " [15 16 17 18 19]\n",
      " [20 21 22 23 24]] \n",
      "\n",
      "exmp column 1:\n",
      "1     0\n",
      "2     5\n",
      "3    10\n",
      "4    15\n",
      "5    20\n",
      "Name: one, dtype: int64\n",
      "\n",
      "exmp index 1: 2\n",
      "\n"
     ]
    }
   ],
   "source": [
    "# selecting elements\n",
    "## getting all the columns\n",
    "exmp = pd.DataFrame(\n",
    "    np.arange(25).reshape((5,5)),\n",
    "    index=[1,2,3,4,5],\n",
    "    columns=['one','two','three','four','five']\n",
    ")\n",
    "exmp_cols = exmp.columns\n",
    "print(\"exmp columns: {} \\n\".format(exmp_cols))\n",
    "\n",
    "## getting all values\n",
    "exmp_vals = exmp.values\n",
    "print(\"exmp values: \\n{} \\n\".format(exmp_vals))\n",
    "\n",
    "## getting a column\n",
    "exmp_col1 = exmp['one']\n",
    "print(\"exmp column 1:\\n{}\\n\".format(exmp_col1))\n",
    "\n",
    "## getting an index\n",
    "exmp_idx1 = exmp.index[1]\n",
    "print(\"exmp index 1: {}\\n\".format(exmp_idx1))\n",
    "\n",
    "# setting values is the other way around"
   ]
  },
  {
   "cell_type": "code",
   "execution_count": null,
   "id": "6d2824e8-087e-49bd-9ee1-6b88b3b8d03e",
   "metadata": {},
   "outputs": [],
   "source": []
  }
 ],
 "metadata": {
  "kernelspec": {
   "display_name": "Python 3",
   "language": "python",
   "name": "python3"
  },
  "language_info": {
   "codemirror_mode": {
    "name": "ipython",
    "version": 3
   },
   "file_extension": ".py",
   "mimetype": "text/x-python",
   "name": "python",
   "nbconvert_exporter": "python",
   "pygments_lexer": "ipython3",
   "version": "3.9.2"
  }
 },
 "nbformat": 4,
 "nbformat_minor": 5
}
