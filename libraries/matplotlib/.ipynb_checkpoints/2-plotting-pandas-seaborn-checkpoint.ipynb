{
 "cells": [
  {
   "cell_type": "markdown",
   "id": "adceade0-42a6-4131-829d-c75cbe22f934",
   "metadata": {},
   "source": [
    "# Plotting with Pandas and Seaborn\n",
    "In pandas we may have multiple columns of data, along with row and column labels. Pandas itself has built-in methods that simplify creating visualizations from Data‐Frame and Series objects. Another library is seaborn , a statistical graphics library created by Michael Waskom. Seaborn simplifies creating many common visualization types.\n",
    "\n",
    "They become better than matplotlib at the level where we have clearly bring up a plot from the roots."
   ]
  },
  {
   "cell_type": "code",
   "execution_count": 2,
   "id": "1b5bfbb5-d86d-4248-a9a8-a2aa4e5fc3ff",
   "metadata": {},
   "outputs": [],
   "source": [
    "# imports\n",
    "import pandas as pd\n",
    "import numpy as np\n",
    "import matplotlib.pyplot as plt"
   ]
  },
  {
   "cell_type": "markdown",
   "id": "b4c09dfd-c798-491b-bdd6-6175d36668ae",
   "metadata": {},
   "source": [
    "## 1. Line Plots\n",
    "Series and DataFrame each have a plot attribute for making some basic plot types. By default, plot() makes line plots."
   ]
  },
  {
   "cell_type": "code",
   "execution_count": 5,
   "id": "48dcefa3-6e87-401d-8786-45a2abded85a",
   "metadata": {},
   "outputs": [
    {
     "data": {
      "text/plain": [
       "0     0.947048\n",
       "10    0.577233\n",
       "20    0.599852\n",
       "30    2.240069\n",
       "40    1.896334\n",
       "50    2.372803\n",
       "60    2.748150\n",
       "70    3.169036\n",
       "80    3.092161\n",
       "90    3.201361\n",
       "dtype: float64"
      ]
     },
     "execution_count": 5,
     "metadata": {},
     "output_type": "execute_result"
    }
   ],
   "source": [
    "s = pd.Series(np.random.randn(10).cumsum(), index=np.arange(0,100,10))\n",
    "s"
   ]
  },
  {
   "cell_type": "code",
   "execution_count": 7,
   "id": "f27d7559-a831-42eb-84f0-b75609a1bdc9",
   "metadata": {},
   "outputs": [
    {
     "data": {
      "text/plain": [
       "<AxesSubplot:>"
      ]
     },
     "execution_count": 7,
     "metadata": {},
     "output_type": "execute_result"
    },
    {
     "data": {
      "image/png": "[encoded data removed]",
      "text/plain": [
       "<Figure size 432x288 with 1 Axes>"
      ]
     },
     "metadata": {
      "needs_background": "light"
     },
     "output_type": "display_data"
    }
   ],
   "source": [
    "s.plot()"
   ]
  },
  {
   "cell_type": "markdown",
   "id": "e1c1ddbc-e73a-4ea9-8985-0d64a1adb9dd",
   "metadata": {},
   "source": [
    "DataFrame's plot method plots each of its columns as a different line on the same subplot, creating a legend automatically."
   ]
  }
 ],
 "metadata": {
  "kernelspec": {
   "display_name": "Python 3",
   "language": "python",
   "name": "python3"
  },
  "language_info": {
   "codemirror_mode": {
    "name": "ipython",
    "version": 3
   },
   "file_extension": ".py",
   "mimetype": "text/x-python",
   "name": "python",
   "nbconvert_exporter": "python",
   "pygments_lexer": "ipython3",
   "version": "3.9.2"
  }
 },
 "nbformat": 4,
 "nbformat_minor": 5
}
