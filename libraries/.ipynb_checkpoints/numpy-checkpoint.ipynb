{
 "cells": [
  {
   "cell_type": "markdown",
   "id": "fba9f850-e30c-4612-9fa7-c314c4b9cb00",
   "metadata": {},
   "source": [
    "# Installation\n",
    "conda install numpy  \n",
    "pip install numpy  \n",
    "\n",
    "## Ndarray\n",
    "The basis of numpy is the ndarray. The number of dimensions defined by it is given by its **shape** attr."
   ]
  },
  {
   "cell_type": "code",
   "execution_count": 50,
   "id": "e42ffbea-c6a9-45e0-a53e-6acb16eabc04",
   "metadata": {},
   "outputs": [],
   "source": [
    "# imports\n",
    "import numpy as np\n",
    "import random"
   ]
  },
  {
   "cell_type": "code",
   "execution_count": 6,
   "id": "b1dd3638-ec31-403d-8d08-f227cd5eb850",
   "metadata": {},
   "outputs": [
    {
     "name": "stdout",
     "output_type": "stream",
     "text": [
      "[1 2 3]\n",
      "<class 'numpy.ndarray'>\n",
      "int64\n"
     ]
    }
   ],
   "source": [
    "# to define an ndarray, we use the numpy array() function and pass a list as param\n",
    "a = np.array([1,2,3])\n",
    "print(a)\n",
    "\n",
    "# to get the type, use type() function\n",
    "print(type(a))\n",
    "\n",
    "# to get the dtype associated with the array, use dtype attr\n",
    "print(a.dtype)"
   ]
  },
  {
   "cell_type": "code",
   "execution_count": 11,
   "id": "d86666a9-6dd3-4bb9-8dc2-14e87720fc7f",
   "metadata": {},
   "outputs": [
    {
     "name": "stdout",
     "output_type": "stream",
     "text": [
      "1\n",
      "3\n",
      "(3,)\n"
     ]
    }
   ],
   "source": [
    "# for dimensions\n",
    "print(a.ndim)\n",
    "# for size\n",
    "print(a.size)\n",
    "# for shape\n",
    "print(a.shape)"
   ]
  },
  {
   "cell_type": "code",
   "execution_count": 15,
   "id": "4abca665-64c7-42e3-908a-bbf4d1d66295",
   "metadata": {},
   "outputs": [
    {
     "name": "stdout",
     "output_type": "stream",
     "text": [
      "[[1 2 3]\n",
      " [4 5 6]]\n",
      "int64\n",
      "6\n",
      "(2, 3)\n"
     ]
    }
   ],
   "source": [
    "# 2D array\n",
    "b = np.array([[1,2,3],[4,5,6]])\n",
    "print(b)\n",
    "print(b.dtype) # dtype\n",
    "print(b.size)\n",
    "print(b.shape)"
   ]
  },
  {
   "cell_type": "code",
   "execution_count": 19,
   "id": "ddaa496e-5a37-40e0-8e0f-867a11a280b2",
   "metadata": {},
   "outputs": [
    {
     "name": "stdout",
     "output_type": "stream",
     "text": [
      "[1 2 3]\n",
      "[[1 2 3]\n",
      " [4 5 6]]\n"
     ]
    }
   ],
   "source": [
    "# an ndarray can also be created with tuples\n",
    "at = np.array((1,2,3))\n",
    "print(at)\n",
    "bt = np.array(((1,2,3),(4,5,6)))\n",
    "print(b)"
   ]
  },
  {
   "cell_type": "markdown",
   "id": "7d427621-d766-4151-bdd9-2d3f7db9065e",
   "metadata": {},
   "source": [
    "ndarray can store a wide variety of data types refer "
   ]
  },
  {
   "cell_type": "code",
   "execution_count": 25,
   "id": "bf652e7d-9367-4228-a50c-45c73f0d96b9",
   "metadata": {},
   "outputs": [
    {
     "name": "stdout",
     "output_type": "stream",
     "text": [
      "[[1.+0.j 4.+0.j 7.+0.j]\n",
      " [5.+0.j 2.+0.j 7.+0.j]]\n"
     ]
    }
   ],
   "source": [
    "# the dtype option can be used to define what data type the ndarray can store.\n",
    "f = np.array([[1,4,7],[5,2,7]], dtype=complex)\n",
    "print(f)"
   ]
  },
  {
   "cell_type": "code",
   "execution_count": 62,
   "id": "49adbc5f-0e0a-4274-aeaa-660993513238",
   "metadata": {},
   "outputs": [
    {
     "name": "stdout",
     "output_type": "stream",
     "text": [
      "[[0 0]\n",
      " [0 0]\n",
      " [0 0]]\n",
      "[[1. 1.]\n",
      " [1. 1.]\n",
      " [1. 1.]]\n",
      "[ 0  1  2  3  4  5  6  7  8  9 10 11 12 13 14 15 16 17 18 19]\n",
      "[ 0  5 10 15]\n",
      "[ 0.  5. 10. 15. 20.]\n",
      "[0.47185877 0.4332968  0.68366104]\n",
      "[[0.7361834  0.9165775 ]\n",
      " [0.71351897 0.4549296 ]\n",
      " [0.70637866 0.28187494]]\n"
     ]
    }
   ],
   "source": [
    "# intrinsic array creation\n",
    "## using the zeros function, we can create an array of zeros only\n",
    "zeros_arr = np.zeros((3,2), dtype=int)\n",
    "print(zeros_arr)\n",
    "## same thing can be done with ones()\n",
    "ones_arr = np.ones((3,2))\n",
    "print(ones_arr)\n",
    "\n",
    "## can be done too with arange()\n",
    "### with a defined range\n",
    "arange_arr = np.arange(0,20)\n",
    "print(arange_arr)\n",
    "\n",
    "### with a defined range and increments\n",
    "arange_arr2 = np.arange(0,20,5)\n",
    "print(arange_arr2)\n",
    "\n",
    "### another function very similar to arange is linspace\n",
    "## does the same as arange(i,j,n) but n defines the number of values to split\n",
    "lin_arr = np.linspace(0,20,5)\n",
    "print(lin_arr)\n",
    "\n",
    "## using random \n",
    "rand_arr = np.random.random(3)\n",
    "print(rand_arr)\n",
    "rand_arr2 = np.random.random((3,2))\n",
    "print(rand_arr2)"
   ]
  },
  {
   "cell_type": "markdown",
   "id": "93d10347-a43c-47f3-bc51-1ed2e2d65335",
   "metadata": {},
   "source": [
    "## Basic Operations\n",
    "Let us see some basic ops on numpy arrays  "
   ]
  },
  {
   "cell_type": "code",
   "execution_count": 77,
   "id": "2b14b466-3293-4172-9019-cc38ac3947d9",
   "metadata": {},
   "outputs": [
    {
     "name": "stdout",
     "output_type": "stream",
     "text": [
      "Addition: [13 15 17 19]\n",
      "Subtraction: [-7 -7 -7 -7]\n",
      "Multiplication: [30 44 60 78]\n",
      "Divison: [0.3        0.36363636 0.41666667 0.46153846]\n"
     ]
    }
   ],
   "source": [
    "# Arithmetic Operators\n",
    "## define vars\n",
    "a = np.arange(3,7)\n",
    "b = np.arange(10,14)\n",
    "\n",
    "print(\"Addition: {}\".format(a+b))\n",
    "print(\"Subtraction: {}\".format(a-b))\n",
    "print(\"Multiplication: {}\".format(a*b))\n",
    "print(\"Divison: \" + str(a/b))"
   ]
  },
  {
   "cell_type": "code",
   "execution_count": 88,
   "id": "25288d91-7bdf-4f5c-8319-1eb6c01deda9",
   "metadata": {},
   "outputs": [
    {
     "data": {
      "text/plain": [
       "array([[ 0,  1,  2,  3],\n",
       "       [ 4,  5,  6,  7],\n",
       "       [ 8,  9, 10, 11]])"
      ]
     },
     "execution_count": 88,
     "metadata": {},
     "output_type": "execute_result"
    }
   ],
   "source": [
    "# reshaping an np array. can only be done if len(arr)==i*j\n",
    "exmp = np.arange(12)\n",
    "exmp.reshape((3,4))"
   ]
  },
  {
   "cell_type": "code",
   "execution_count": 95,
   "id": "a5dd5448-4013-4d3d-a8cf-3ddaa3753623",
   "metadata": {},
   "outputs": [
    {
     "name": "stdout",
     "output_type": "stream",
     "text": [
      "[[177 234 291]\n",
      " [204 270 336]\n",
      " [231 306 381]]\n"
     ]
    },
    {
     "data": {
      "text/plain": [
       "array([[ 69,  72,  75],\n",
       "       [258, 270, 282],\n",
       "       [447, 468, 489]])"
      ]
     },
     "execution_count": 95,
     "metadata": {},
     "output_type": "execute_result"
    }
   ],
   "source": [
    "# The matrix product\n",
    "A = np.arange(18, 27).reshape(3,3)\n",
    "B = np.arange(9).reshape(3,3)\n",
    "print(np.dot(A,B))"
   ]
  },
  {
   "cell_type": "code",
   "execution_count": 102,
   "id": "04b3359e-c577-4e5f-b265-b16c9110a27c",
   "metadata": {},
   "outputs": [
    {
     "name": "stdout",
     "output_type": "stream",
     "text": [
      "original: \n",
      "[0 1 2 3]\n",
      "increment: \n",
      "[1 2 3 4]\n",
      "decrement: \n",
      "[-1  0  1  2]\n",
      "increment 4: \n",
      "[4 5 6 7]\n",
      "decrement 3: \n",
      "[1 2 3 4]\n"
     ]
    }
   ],
   "source": [
    "# Increment operator\n",
    "exmp = np.arange(4)\n",
    "print(\"original: \\n{}\".format(exmp))\n",
    "print(\"increment: \\n{}\".format(exmp+1))\n",
    "print(\"decrement: \\n{}\".format(exmp-1))\n",
    "exmp1 = exmp\n",
    "exmp1 += 4\n",
    "print(\"increment 4: \\n{}\".format(exmp1))\n",
    "exmp1 -= 3\n",
    "print(\"decrement 3: \\n{}\".format(exmp1))"
   ]
  },
  {
   "cell_type": "markdown",
   "id": "818a841f-1dfe-4663-84df-e8fb2fd1e506",
   "metadata": {},
   "source": [
    "Slicing, indexing and iterating are the same as ordinary lists"
   ]
  },
  {
   "cell_type": "code",
   "execution_count": 107,
   "id": "5bee08cc-1655-4db9-a826-e944452f84b8",
   "metadata": {},
   "outputs": [
    {
     "name": "stdout",
     "output_type": "stream",
     "text": [
      "original: \n",
      "[[0.75782216 0.87604487 0.60761762 0.32797789 0.47081979]\n",
      " [0.78733227 0.20721807 0.39619693 0.26874802 0.00460407]\n",
      " [0.11040154 0.49404177 0.19997387 0.67309831 0.42748253]\n",
      " [0.40609768 0.09680058 0.06312209 0.99842975 0.1455549 ]\n",
      " [0.0510288  0.53305474 0.25938281 0.18331373 0.85794703]]\n",
      "\n",
      "greater than 0.5: \n",
      "[[ True  True  True False False]\n",
      " [ True False False False False]\n",
      " [False False False  True False]\n",
      " [False False False  True False]\n",
      " [False  True False False  True]]\n",
      "\n",
      "less than 0.5: \n",
      "[[False False False  True  True]\n",
      " [False  True  True  True  True]\n",
      " [ True  True  True False  True]\n",
      " [ True  True  True False  True]\n",
      " [ True False  True  True False]]\n"
     ]
    }
   ],
   "source": [
    "# Conditions and Boolean arrays\n",
    "A = np.random.random((5,5))\n",
    "print(\"original: \\n{}\".format(A))\n",
    "print(\"\\ngreater than 0.5: \\n{}\".format(A > 0.5))\n",
    "print(\"\\nless than 0.5: \\n{}\".format(A < 0.5))"
   ]
  },
  {
   "cell_type": "markdown",
   "id": "be828ca1-0602-4058-8c11-9096fdcc96ab",
   "metadata": {},
   "source": [
    "## Array manipulation\n",
    "Joining and Splitting arrays"
   ]
  },
  {
   "cell_type": "code",
   "execution_count": 120,
   "id": "6aaf7b8d-928c-442d-b19a-ce11599f2724",
   "metadata": {},
   "outputs": [
    {
     "name": "stdout",
     "output_type": "stream",
     "text": [
      "Vertical stack: \n",
      "[[ 0  1  2  3]\n",
      " [ 4  5  6  7]\n",
      " [ 8  9 10 11]\n",
      " [12 13 14 15]\n",
      " [ 4  5  6  7]\n",
      " [ 8  9 10 11]\n",
      " [12 13 14 15]\n",
      " [16 17 18 19]]\n",
      "\n",
      "Horizontal stack: \n",
      "[[ 0  1  2  3  4  5  6  7]\n",
      " [ 4  5  6  7  8  9 10 11]\n",
      " [ 8  9 10 11 12 13 14 15]\n",
      " [12 13 14 15 16 17 18 19]]\n",
      "\n",
      "\n",
      "Column stack: \n",
      "[[1 9 9]\n",
      " [2 8 4]\n",
      " [3 6 7]\n",
      " [4 5 3]]\n",
      "\n",
      "Row stack: \n",
      "[[1 2 3 4]\n",
      " [9 8 6 5]\n",
      " [9 4 7 3]]\n"
     ]
    }
   ],
   "source": [
    "# joining arrays\n",
    "## def vars\n",
    "A = np.arange(16).reshape(4,4)\n",
    "B = np.arange(4,20).reshape(4,4)\n",
    "\n",
    "## using vstack to joing vertically\n",
    "arr_vstack = np.vstack((A,B))\n",
    "print(\"Vertical stack: \\n{}\".format(arr_vstack))\n",
    "\n",
    "## using hstack to join horizontally\n",
    "arr_hstack = np.hstack((A,B))\n",
    "print(\"\\nHorizontal stack: \\n{}\".format(arr_hstack))\n",
    "\n",
    "## using column and row stack\n",
    "a = np.array([1,2,3,4])\n",
    "b = np.array([9,8,6,5])\n",
    "c = np.array([9,4,7,3])\n",
    "print(\"\\n\\nColumn stack: \\n{}\".\n",
    "      format(np.column_stack((a,b,c))))\n",
    "print(\"\\nRow stack: \\n{}\".\n",
    "     format(np.row_stack((a,b,c))))"
   ]
  },
  {
   "cell_type": "code",
   "execution_count": 130,
   "id": "4b2032ff-678a-4824-b677-20063dbdf482",
   "metadata": {},
   "outputs": [
    {
     "name": "stdout",
     "output_type": "stream",
     "text": [
      "Original A: \n",
      "[[ 0  1  2  3]\n",
      " [ 4  5  6  7]\n",
      " [ 8  9 10 11]\n",
      " [12 13 14 15]]\n",
      "Split A to 2: \n",
      "[array([[ 0,  1],\n",
      "       [ 4,  5],\n",
      "       [ 8,  9],\n",
      "       [12, 13]]), array([[ 2,  3],\n",
      "       [ 6,  7],\n",
      "       [10, 11],\n",
      "       [14, 15]])]\n",
      "Split A to 4: \n",
      "[array([[ 0],\n",
      "       [ 4],\n",
      "       [ 8],\n",
      "       [12]]), array([[ 1],\n",
      "       [ 5],\n",
      "       [ 9],\n",
      "       [13]]), array([[ 2],\n",
      "       [ 6],\n",
      "       [10],\n",
      "       [14]]), array([[ 3],\n",
      "       [ 7],\n",
      "       [11],\n",
      "       [15]])]\n"
     ]
    }
   ],
   "source": [
    "# splitting arrays\n",
    "## def vars\n",
    "A = np.arange(16).reshape(4,4)\n",
    "B = np.arange(4,20).reshape(4,4)\n",
    "\n",
    "# splitting using hsplit\n",
    "print(\"Original A: \\n{}\".format(A))\n",
    "A_hsplit2 = np.hsplit(A,2)\n",
    "print(\"Split A to 2: \\n{}\".format(A_hsplit2))\n",
    "print(\"Split A to 4: \\n{}\".format(np.hsplit(A,4)))\n",
    "## vsplit does the same in the vertical direction"
   ]
  },
  {
   "cell_type": "code",
   "execution_count": null,
   "id": "3d42de81-a583-4498-9c58-b14e1e341754",
   "metadata": {},
   "outputs": [],
   "source": []
  }
 ],
 "metadata": {
  "kernelspec": {
   "display_name": "Python 3",
   "language": "python",
   "name": "python3"
  },
  "language_info": {
   "codemirror_mode": {
    "name": "ipython",
    "version": 3
   },
   "file_extension": ".py",
   "mimetype": "text/x-python",
   "name": "python",
   "nbconvert_exporter": "python",
   "pygments_lexer": "ipython3",
   "version": "3.9.2"
  }
 },
 "nbformat": 4,
 "nbformat_minor": 5
}
