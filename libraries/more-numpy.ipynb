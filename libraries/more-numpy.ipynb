{
 "cells": [
  {
   "cell_type": "markdown",
   "id": "e9a80019-70ca-4d1d-b678-c3c0c2af68e5",
   "metadata": {},
   "source": [
    "# Arithmetic with Numpy Arrays\n",
    "Arrays are important because they enable you to express batch operations on data without writing any for loops."
   ]
  },
  {
   "cell_type": "code",
   "execution_count": 2,
   "id": "693ec44e-a5dd-49dd-92be-004d333945c1",
   "metadata": {
    "tags": []
   },
   "outputs": [],
   "source": [
    "# imports\n",
    "import numpy as np"
   ]
  },
  {
   "cell_type": "code",
   "execution_count": 3,
   "id": "3473e671-a2a0-4786-9702-949ae17d02c4",
   "metadata": {},
   "outputs": [
    {
     "name": "stdout",
     "output_type": "stream",
     "text": [
      "[[1. 2. 3.]\n",
      " [4. 5. 6.]]\n"
     ]
    }
   ],
   "source": [
    "arr = np.array([[1., 2., 3. ],[4., 5., 6.]])\n",
    "print(arr)"
   ]
  },
  {
   "cell_type": "code",
   "execution_count": 4,
   "id": "a9493637-e63b-490b-ab24-facc6af945a6",
   "metadata": {},
   "outputs": [
    {
     "data": {
      "text/plain": [
       "array([[ 1.,  4.,  9.],\n",
       "       [16., 25., 36.]])"
      ]
     },
     "execution_count": 4,
     "metadata": {},
     "output_type": "execute_result"
    }
   ],
   "source": [
    "# multiplication\n",
    "arr * arr"
   ]
  },
  {
   "cell_type": "code",
   "execution_count": 5,
   "id": "e539e46c-0a93-473c-91e0-34ddc92392ab",
   "metadata": {},
   "outputs": [
    {
     "data": {
      "text/plain": [
       "array([[0., 0., 0.],\n",
       "       [0., 0., 0.]])"
      ]
     },
     "execution_count": 5,
     "metadata": {},
     "output_type": "execute_result"
    }
   ],
   "source": [
    "# subtraction\n",
    "arr - arr"
   ]
  },
  {
   "cell_type": "code",
   "execution_count": 6,
   "id": "fce18981-1bbf-4a11-9119-75ec7fd053bf",
   "metadata": {},
   "outputs": [
    {
     "data": {
      "text/plain": [
       "array([[ 2.,  4.,  6.],\n",
       "       [ 8., 10., 12.]])"
      ]
     },
     "execution_count": 6,
     "metadata": {},
     "output_type": "execute_result"
    }
   ],
   "source": [
    "# addition\n",
    "arr + arr"
   ]
  },
  {
   "cell_type": "code",
   "execution_count": 7,
   "id": "0dbf4efd-67ff-4469-99a8-97a0a43b0996",
   "metadata": {},
   "outputs": [
    {
     "data": {
      "text/plain": [
       "array([[1., 1., 1.],\n",
       "       [1., 1., 1.]])"
      ]
     },
     "execution_count": 7,
     "metadata": {},
     "output_type": "execute_result"
    }
   ],
   "source": [
    "# division\n",
    "arr / arr"
   ]
  },
  {
   "cell_type": "markdown",
   "id": "0fbd2db2-aeba-4be6-b131-68cb082d1982",
   "metadata": {},
   "source": [
    "## with scalars\n",
    "array operation with scalars propagate the scalar argument to each element in the array."
   ]
  },
  {
   "cell_type": "code",
   "execution_count": 8,
   "id": "2e50428e-45fc-4df6-808e-9aed0ba6b88b",
   "metadata": {},
   "outputs": [
    {
     "data": {
      "text/plain": [
       "array([[1.        , 0.5       , 0.33333333],\n",
       "       [0.25      , 0.2       , 0.16666667]])"
      ]
     },
     "execution_count": 8,
     "metadata": {},
     "output_type": "execute_result"
    }
   ],
   "source": [
    "# 1 over the array\n",
    "1 / arr"
   ]
  },
  {
   "cell_type": "code",
   "execution_count": 9,
   "id": "9c17d3a4-2565-46dd-9508-da54cb95789e",
   "metadata": {},
   "outputs": [
    {
     "data": {
      "text/plain": [
       "array([[1.        , 1.41421356, 1.73205081],\n",
       "       [2.        , 2.23606798, 2.44948974]])"
      ]
     },
     "execution_count": 9,
     "metadata": {},
     "output_type": "execute_result"
    }
   ],
   "source": [
    "# raising to a power\n",
    "arr ** 0.5"
   ]
  },
  {
   "cell_type": "code",
   "execution_count": 11,
   "id": "c43f17cc-7da1-452d-a359-092370ad4249",
   "metadata": {},
   "outputs": [
    {
     "data": {
      "text/plain": [
       "array([[ 0.,  4.,  1.],\n",
       "       [ 7.,  2., 12.]])"
      ]
     },
     "execution_count": 11,
     "metadata": {},
     "output_type": "execute_result"
    }
   ],
   "source": [
    "# lets define another array\n",
    "arr2 = np.array([[0., 4., 1.],[7., 2., 12.]])\n",
    "arr2"
   ]
  },
  {
   "cell_type": "code",
   "execution_count": 17,
   "id": "eb869719-5513-440c-8044-2e299b76ea42",
   "metadata": {},
   "outputs": [
    {
     "name": "stdout",
     "output_type": "stream",
     "text": [
      "type of res = bool\n"
     ]
    },
    {
     "data": {
      "text/plain": [
       "array([[ True, False,  True],\n",
       "       [False,  True, False]])"
      ]
     },
     "execution_count": 17,
     "metadata": {},
     "output_type": "execute_result"
    }
   ],
   "source": [
    "# comparing two arrays\n",
    "res = arr > arr2\n",
    "print(\"type of res = {}\".format(res.dtype))\n",
    "res"
   ]
  },
  {
   "cell_type": "markdown",
   "id": "71739326-19b4-4dd2-bd7a-43424f0caed4",
   "metadata": {},
   "source": [
    "### hehe this concludes arithmetic with numpy"
   ]
  },
  {
   "cell_type": "markdown",
   "id": "d981eed0-0dbc-4464-b950-66333e1721ff",
   "metadata": {},
   "source": [
    "# Basic Indexing and Slicing\n",
    "There are many various ways we may want to select an item or group of items from an array. Numpy offers many such methods."
   ]
  },
  {
   "cell_type": "code",
   "execution_count": 20,
   "id": "a2536e4a-ce0d-4a10-ac02-224a19dbe913",
   "metadata": {},
   "outputs": [
    {
     "data": {
      "text/plain": [
       "array([0, 1, 2, 3, 4, 5, 6, 7, 8, 9])"
      ]
     },
     "execution_count": 20,
     "metadata": {},
     "output_type": "execute_result"
    }
   ],
   "source": [
    "arr = np.arange(10)\n",
    "arr"
   ]
  },
  {
   "cell_type": "code",
   "execution_count": 21,
   "id": "67c50fd2-62fb-4891-870d-6020ab7002cd",
   "metadata": {},
   "outputs": [
    {
     "data": {
      "text/plain": [
       "5"
      ]
     },
     "execution_count": 21,
     "metadata": {},
     "output_type": "execute_result"
    }
   ],
   "source": [
    "# selecting item at index=5\n",
    "arr[5]"
   ]
  },
  {
   "cell_type": "code",
   "execution_count": 22,
   "id": "5f9c275b-2220-46f1-8560-c7daf4a46a54",
   "metadata": {},
   "outputs": [
    {
     "data": {
      "text/plain": [
       "array([5, 6, 7])"
      ]
     },
     "execution_count": 22,
     "metadata": {},
     "output_type": "execute_result"
    }
   ],
   "source": [
    "# selecting the sublist of items from 5 to 8 exclusive\n",
    "arr[5:8]"
   ]
  },
  {
   "cell_type": "code",
   "execution_count": 25,
   "id": "3ac7864a-6b73-4373-a17b-b872f7db0141",
   "metadata": {},
   "outputs": [
    {
     "data": {
      "text/plain": [
       "array([ 0,  1,  2,  3,  4, 13, 13, 13,  8,  9])"
      ]
     },
     "execution_count": 25,
     "metadata": {},
     "output_type": "execute_result"
    }
   ],
   "source": [
    "# reassigning a sublist of items to a particular value\n",
    "arr[5:8] = 13\n",
    "arr"
   ]
  },
  {
   "cell_type": "code",
   "execution_count": 31,
   "id": "b0081885-46d6-41be-a8c4-c7ea7e94fe89",
   "metadata": {},
   "outputs": [
    {
     "data": {
      "text/plain": [
       "array([ 0,  1,  2,  3,  4, 14, 15, 16,  8,  9])"
      ]
     },
     "execution_count": 31,
     "metadata": {},
     "output_type": "execute_result"
    }
   ],
   "source": [
    "# reassigning a sublist of items to a another list\n",
    "## note that the sublist and list must be of the same length\n",
    "arr[5:8] = [n for n in range(14,17)]\n",
    "arr"
   ]
  },
  {
   "cell_type": "code",
   "execution_count": 34,
   "id": "6d7718be-1ab3-47d9-b2c9-b773206ed9c8",
   "metadata": {},
   "outputs": [
    {
     "name": "stdout",
     "output_type": "stream",
     "text": [
      "arr_slice = \n",
      " [20, 21421424, 22]\n",
      "arr = \n",
      "[0 1 2 3 4 5 6 7 8 9]\n"
     ]
    }
   ],
   "source": [
    "# lets look at this example to understand referencing\n",
    "arr = np.arange(10)\n",
    "arr_slice = arr[5:8]\n",
    "arr_slice = [n for n in range(20,23)]\n",
    "arr_slice[1] = 21421424 \n",
    "print(\"arr_slice = \\n {}\".format(arr_slice))\n",
    "print(\"arr = \\n{}\".format(arr))"
   ]
  },
  {
   "cell_type": "code",
   "execution_count": null,
   "id": "3aa92198-404c-447a-b0f6-98838a4fefbb",
   "metadata": {},
   "outputs": [],
   "source": []
  }
 ],
 "metadata": {
  "kernelspec": {
   "display_name": "Python 3",
   "language": "python",
   "name": "python3"
  },
  "language_info": {
   "codemirror_mode": {
    "name": "ipython",
    "version": 3
   },
   "file_extension": ".py",
   "mimetype": "text/x-python",
   "name": "python",
   "nbconvert_exporter": "python",
   "pygments_lexer": "ipython3",
   "version": "3.9.2"
  }
 },
 "nbformat": 4,
 "nbformat_minor": 5
}
